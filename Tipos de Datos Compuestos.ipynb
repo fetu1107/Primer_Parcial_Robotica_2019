{
 "cells": [
  {
   "cell_type": "code",
   "execution_count": 4,
   "metadata": {},
   "outputs": [
    {
     "name": "stdout",
     "output_type": "stream",
     "text": [
      "[1, 2, 1, 'dsgda', 'asdsd', 23.32]\n",
      "(1, 2, 1, 'dsgda', 'asdsd', 23.32)\n",
      "{1, 2, 'asdsd', 'dsgda', 23.32}\n",
      "{'a': 1, 'b': 2}\n"
     ]
    }
   ],
   "source": [
    "a=[1,2,1,\"dsgda\",\"asdsd\",23.32]\n",
    "b=(1,2,1,\"dsgda\",\"asdsd\",23.32)\n",
    "c={1,2,1,\"dsgda\",\"asdsd\",23.32}\n",
    "d={\"a\":1,\"b\":2}\n",
    "print(a)\n",
    "print(b)\n",
    "print(c)\n",
    "print(d)"
   ]
  },
  {
   "cell_type": "code",
   "execution_count": 5,
   "metadata": {},
   "outputs": [
    {
     "data": {
      "text/plain": [
       "(list, tuple, set, dict)"
      ]
     },
     "execution_count": 5,
     "metadata": {},
     "output_type": "execute_result"
    }
   ],
   "source": [
    "type(a), type(b), type(c),  type(d)"
   ]
  },
  {
   "cell_type": "code",
   "execution_count": 9,
   "metadata": {},
   "outputs": [
    {
     "name": "stdout",
     "output_type": "stream",
     "text": [
      "('pan', 'leche', 100) es <class 'tuple'>\n",
      "['pan', 'leche', 100] es <class 'list'>\n",
      "pan leche 100\n"
     ]
    }
   ],
   "source": [
    "a='pan'\n",
    "b=\"leche\"\n",
    "c=100\n",
    "\n",
    "tupla_b=a,b,c\n",
    "tupla_c=[a,b,c]\n",
    "print(tupla_b, \"es\", type(tupla_b))\n",
    "print(tupla_c, \"es\", type(tupla_c))\n",
    "print(a,b,c)"
   ]
  },
  {
   "cell_type": "markdown",
   "metadata": {},
   "source": [
    "Desempacar"
   ]
  },
  {
   "cell_type": "code",
   "execution_count": 10,
   "metadata": {},
   "outputs": [
    {
     "name": "stdout",
     "output_type": "stream",
     "text": [
      "('pan', 'leche', 100)\n",
      "100\n"
     ]
    }
   ],
   "source": [
    "print(tupla_b)\n",
    "b,b,b=tupla_b\n",
    "print(b)"
   ]
  },
  {
   "cell_type": "code",
   "execution_count": 11,
   "metadata": {},
   "outputs": [],
   "source": [
    "a=dict(one=1,two=2,three=3)"
   ]
  },
  {
   "cell_type": "code",
   "execution_count": 12,
   "metadata": {},
   "outputs": [],
   "source": [
    "A={1,2,3,4}\n",
    "B=set([3,4,5,6])\n"
   ]
  },
  {
   "cell_type": "code",
   "execution_count": 13,
   "metadata": {},
   "outputs": [
    {
     "data": {
      "text/plain": [
       "{1, 2}"
      ]
     },
     "execution_count": 13,
     "metadata": {},
     "output_type": "execute_result"
    }
   ],
   "source": [
    "A-B"
   ]
  },
  {
   "cell_type": "code",
   "execution_count": 14,
   "metadata": {},
   "outputs": [
    {
     "data": {
      "text/plain": [
       "{3, 4}"
      ]
     },
     "execution_count": 14,
     "metadata": {},
     "output_type": "execute_result"
    }
   ],
   "source": [
    "A & B"
   ]
  },
  {
   "cell_type": "code",
   "execution_count": 15,
   "metadata": {},
   "outputs": [
    {
     "data": {
      "text/plain": [
       "{1, 2, 3, 4, 5, 6}"
      ]
     },
     "execution_count": 15,
     "metadata": {},
     "output_type": "execute_result"
    }
   ],
   "source": [
    "A | B"
   ]
  },
  {
   "cell_type": "code",
   "execution_count": 16,
   "metadata": {},
   "outputs": [
    {
     "name": "stdout",
     "output_type": "stream",
     "text": [
      "[]\n",
      "['pan']\n",
      "['pan', 'leche']\n"
     ]
    }
   ],
   "source": [
    "lista_b=[]\n",
    "print(lista_b)\n",
    "lista_b.append(\"pan\")\n",
    "print(lista_b)\n",
    "lista_b.append(\"leche\")\n",
    "print(lista_b)"
   ]
  },
  {
   "cell_type": "code",
   "execution_count": 18,
   "metadata": {},
   "outputs": [],
   "source": [
    "import random as ran "
   ]
  },
  {
   "cell_type": "code",
   "execution_count": 21,
   "metadata": {},
   "outputs": [
    {
     "name": "stdout",
     "output_type": "stream",
     "text": [
      "¿Cuantass vidas quieres?2\n",
      "¿En que número estoy pensando?4\n",
      "Vidas restantes: 1\n",
      "¿En que número estoy pensando?2\n",
      "Vidas restantes: 0\n",
      "Perdiste!!!\n",
      "Tus números fueron [4, 2] Y el correcto era: 3\n"
     ]
    }
   ],
   "source": [
    "n1 = ran.randint(0,5)\n",
    "lista_intentos=[]\n",
    "vidas=int(input(\"¿Cuantass vidas quieres?\"))\n",
    "if vidas>5+1:\n",
    "    print(\"Seas mamon\")\n",
    "else:\n",
    "    while vidas > 0:\n",
    "        n = int(input(\"¿En que número estoy pensando?\"))\n",
    "        lista_intentos.append(n)\n",
    "        if(n == n1):\n",
    "            print(\"Adivinaste!!!\") \n",
    "            break\n",
    "        else:\n",
    "            vidas-=1\n",
    "            print(\"Vidas restantes:\",vidas)    \n",
    "\n",
    "    if vidas==0:\n",
    "        print(\"Perdiste!!!\")\n",
    "    print(\"Tus números fueron\",lista_intentos, \"Y el correcto era:\",n1)\n"
   ]
  },
  {
   "cell_type": "code",
   "execution_count": 23,
   "metadata": {},
   "outputs": [
    {
     "name": "stdout",
     "output_type": "stream",
     "text": [
      "leche\n",
      "pera\n",
      "manzana\n",
      "naranja\n"
     ]
    }
   ],
   "source": [
    "for i in [\"leche\",'pera','manzana','naranja']:\n",
    "    print(i)"
   ]
  },
  {
   "cell_type": "code",
   "execution_count": 25,
   "metadata": {},
   "outputs": [
    {
     "name": "stdout",
     "output_type": "stream",
     "text": [
      "0 leche\n",
      "1 pera\n",
      "2 manzana\n",
      "3 naranja\n"
     ]
    }
   ],
   "source": [
    "for i, v in enumerate([\"leche\",'pera','manzana','naranja']):\n",
    "    print(i,v)"
   ]
  },
  {
   "cell_type": "code",
   "execution_count": 26,
   "metadata": {},
   "outputs": [
    {
     "name": "stdout",
     "output_type": "stream",
     "text": [
      "a 4\n",
      "b 3\n",
      "c 2\n",
      "d 1\n"
     ]
    }
   ],
   "source": [
    "dic_a = {\"a\":4,\"b\":3,\"c\":2,\"d\":1}\n",
    "for k, v in dic_a.items():\n",
    "    print(k,v)"
   ]
  },
  {
   "cell_type": "code",
   "execution_count": 28,
   "metadata": {},
   "outputs": [
    {
     "name": "stdout",
     "output_type": "stream",
     "text": [
      "('Pedro', 100)\n",
      "('Juan', 300)\n",
      "('Carlos', 2000)\n",
      "('Diego', 1000)\n"
     ]
    }
   ],
   "source": [
    "nombres = [\"Pedro\",\"Juan\",\"Carlos\",\"Diego\"]\n",
    "valores = (100,300,2000,1000,45,234)\n",
    "\n",
    "for k in zip(nombres, valores):\n",
    "        print(k)"
   ]
  },
  {
   "cell_type": "code",
   "execution_count": 34,
   "metadata": {},
   "outputs": [
    {
     "name": "stdout",
     "output_type": "stream",
     "text": [
      "Pedro = 100\n",
      "Juan  = 300\n",
      "Carlos= 2000\n",
      "Diego = 1000\n"
     ]
    }
   ],
   "source": [
    "nombres = [\"Pedro \",\"Juan  \",\"Carlos\",\"Diego \"]\n",
    "valores = (100,300,2000,1000,45,234)\n",
    "\n",
    "for k, v in zip(nombres, valores):\n",
    "        print(k+\"= \"+str(v))"
   ]
  },
  {
   "cell_type": "markdown",
   "metadata": {},
   "source": [
    "Diseñar un programa que sume dos tuplas de números\n",
    "\n",
    "Diseñar un programa que pida los valores de dos vectores y realice el producto punto de estos\n",
    "\n",
    "Diseñar un programa que pida un nombre y que cambie las vocales por números (Encriptación) Ej Nombre: Michel y lo cambia a M4ch3l. utilizando diccionaros "
   ]
  },
  {
   "cell_type": "code",
   "execution_count": 48,
   "metadata": {},
   "outputs": [
    {
     "name": "stdout",
     "output_type": "stream",
     "text": [
      "(2, 4, 6, 8, 10, 12)\n"
     ]
    }
   ],
   "source": [
    "#Diseñar un programa que sume dos tuplas de números\n",
    "\n",
    "#--------------------------------------------Variables----------------------------------------------------------------#\n",
    "#\n",
    "a=(1,2,3,4,5,6)\n",
    "b=(1,2,3,4,5,6)\n",
    "c=[]\n",
    "la=len(a)\n",
    "lb=len(b)\n",
    "i=0\n",
    "#\n",
    "#--------------------------------------------Código------------------------------------------------------------------#\n",
    "if la==lb:\n",
    "    while i<la:\n",
    "              c.append(a[i]+b[i])\n",
    "              i+=1\n",
    "    print(tuple(c))\n",
    "else:\n",
    "    print(\"Tuplas de longitud diferete\")\n",
    "            \n",
    "    "
   ]
  },
  {
   "cell_type": "code",
   "execution_count": 85,
   "metadata": {},
   "outputs": [
    {
     "name": "stdout",
     "output_type": "stream",
     "text": [
      "Tamaño de los vectores: 2\n",
      "Valores del vector 1\n",
      "Valor :10\n",
      "Valor :2\n",
      "Valores del vector 2\n",
      "Valor :10\n",
      "Valor :4\n",
      "\n",
      "Vector 1: (10, 2)\n",
      "Vector 2: (10, 4)\n",
      "Su producto punto es: 108\n"
     ]
    }
   ],
   "source": [
    "#Diseñar un programa que pida los valores de dos vectores y realice el producto punto de estos\n",
    "\n",
    "#--------------------------------------------Variables----------------------------------------------------------------#\n",
    "#\n",
    "i=0\n",
    "n1=[]\n",
    "n2=[]\n",
    "c=0\n",
    "r=0\n",
    "#\n",
    "#--------------------------------------------Código------------------------------------------------------------------#\n",
    "l=int(input(\"Tamaño de los vectores: \"))\n",
    "print(\"Valores del vector 1\")\n",
    "while i<l:    \n",
    "    n1.append(int(input(\"Valor :\")))\n",
    "    #n1.append(int(input(print(\"Valor\",i+1,\":\"))))\n",
    "    i+=1      \n",
    "i=0\n",
    "print(\"Valores del vector 2\")\n",
    "while i<l:    \n",
    "    n2.append(int(input(\"Valor :\")))\n",
    "    #n2.append(int(input(print(\"Valor\",i+1,\":\"))))\n",
    "    i+=1    \n",
    "i=0\n",
    "print(\"\")\n",
    "print(\"Vector 1:\",tuple(n1))\n",
    "print(\"Vector 2:\",tuple(n2))\n",
    "while i<l:  \n",
    "    r+=(n1[i]*n2[i])\n",
    "    i+=1\n",
    "print(\"Su producto punto es:\",r)\n",
    "\n"
   ]
  },
  {
   "cell_type": "code",
   "execution_count": 78,
   "metadata": {},
   "outputs": [
    {
     "name": "stdout",
     "output_type": "stream",
     "text": [
      "Introduce tu nombre: ALEJANdro\n",
      "Nombre codificado:   2L9J2Ndr1"
     ]
    }
   ],
   "source": [
    "#Diseñar un programa que pida un nombre y que cambie las vocales por números (Encriptación) \n",
    "#Ej Nombre: Michel y lo cambia a M4ch3l. utilizando diccionaros   08317  29465\n",
    "\n",
    "#--------------------------------------------Variables----------------------------------------------------------------#\n",
    "#\n",
    "ln=0\n",
    "i=0\n",
    "x=2\n",
    "n_c=[]\n",
    "d={\"a\":\"0\",\"e\":\"8\",\"i\":\"3\",\"o\":\"1\",\"u\":\"7\",\"A\":\"2\",\"E\":\"9\",\"I\":\"4\",\"O\":\"6\",\"U\":\"5\"}\n",
    "#\n",
    "#--------------------------------------------Código------------------------------------------------------------------#\n",
    "nombre=input(\"Introduce tu nombre: \")\n",
    "#print(len(nombre))\n",
    "ln=len(nombre)\n",
    "#print(\"tipo \",type(nombre))\n",
    "while i<ln: \n",
    "    for k, v in d.items():  #Este for barre el diccionario para encontrar las vocales\n",
    "        if nombre[i] == k:\n",
    "            n_c.append(v)\n",
    "            x=1\n",
    "    #print(\"banderas\",x,\"iteracion\",i+1)     #print para poder monitorear estado de las banderas\n",
    "    if x == 2:\n",
    "        n_c.append(nombre[i])\n",
    "    else:\n",
    "        x=2\n",
    "   # print(\"a\",n_c)\n",
    "    i+=1\n",
    "\n",
    "i=0\n",
    "print(\"Nombre codificado:   \", end=\"\")\n",
    "while i<ln: \n",
    "    print(n_c[i], end=\"\")\n",
    "    i+=1\n"
   ]
  },
  {
   "cell_type": "code",
   "execution_count": 87,
   "metadata": {},
   "outputs": [
    {
     "name": "stdout",
     "output_type": "stream",
     "text": [
      "1\n",
      "2\n",
      "3\n",
      "4\n",
      "5\n",
      "7\n",
      "8\n"
     ]
    }
   ],
   "source": [
    "l=[1,2,3,4,5,7,8]\n",
    "\n",
    "for a in l:\n",
    "    print(a)"
   ]
  },
  {
   "cell_type": "code",
   "execution_count": 88,
   "metadata": {},
   "outputs": [
    {
     "name": "stdout",
     "output_type": "stream",
     "text": [
      "3\n",
      "4\n",
      "5\n"
     ]
    }
   ],
   "source": [
    "l=[1,2,3,4,5,7,8]\n",
    "\n",
    "for a in l[2:5]:\n",
    "    print(a)"
   ]
  },
  {
   "cell_type": "code",
   "execution_count": 89,
   "metadata": {},
   "outputs": [
    {
     "data": {
      "text/plain": [
       "'abc'"
      ]
     },
     "execution_count": 89,
     "metadata": {},
     "output_type": "execute_result"
    }
   ],
   "source": [
    "a=[\"a\",\"b\",\"c\"]\n",
    "d=\"\"\n",
    "for i in a:\n",
    "    d+=i\n",
    "    \n",
    "d   \n"
   ]
  },
  {
   "cell_type": "code",
   "execution_count": null,
   "metadata": {},
   "outputs": [],
   "source": []
  }
 ],
 "metadata": {
  "kernelspec": {
   "display_name": "Python 3",
   "language": "python",
   "name": "python3"
  },
  "language_info": {
   "codemirror_mode": {
    "name": "ipython",
    "version": 3
   },
   "file_extension": ".py",
   "mimetype": "text/x-python",
   "name": "python",
   "nbconvert_exporter": "python",
   "pygments_lexer": "ipython3",
   "version": "3.7.1"
  }
 },
 "nbformat": 4,
 "nbformat_minor": 2
}
