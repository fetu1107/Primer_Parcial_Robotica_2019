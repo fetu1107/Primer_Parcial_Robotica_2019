{
 "cells": [
  {
   "cell_type": "markdown",
   "metadata": {},
   "source": [
    "Robótica Industrial \n",
    "--\n",
    "\n",
    "TAREA #2      \n",
    "--\n",
    "\n",
    "Alfredo Arellano Canseco \n",
    "\n",
    "IME 0189546\n",
    "\n",
    "28 de Enero del 2019\n",
    "\n",
    "\n",
    "\n",
    "\n",
    "------------------------------------------------------------------------------------------------------------------------------------------------------------------"
   ]
  },
  {
   "cell_type": "markdown",
   "metadata": {},
   "source": [
    "Crear funciones para realizar las siguientes operaciones:\n",
    "\n",
    "a+b+c+d\n",
    "\n",
    "$x^2$\n",
    "\n",
    "\n",
    "Dada una lista de elementos calcular la media y desviación estandar\n",
    "\n",
    "\n",
    "\n",
    "------------------------------------------------------------------------------------------------------------------------------------------------------------------"
   ]
  },
  {
   "cell_type": "code",
   "execution_count": 1,
   "metadata": {},
   "outputs": [
    {
     "name": "stdout",
     "output_type": "stream",
     "text": [
      "Tu suma es: 10\n"
     ]
    }
   ],
   "source": [
    "def fcn_suma (a,b,c,d):\n",
    "    res=a+b+c+d\n",
    "    return res\n",
    "\n",
    "print(\"Tu suma es:\",fcn_suma(1,2,3,4))"
   ]
  },
  {
   "cell_type": "code",
   "execution_count": 2,
   "metadata": {},
   "outputs": [
    {
     "name": "stdout",
     "output_type": "stream",
     "text": [
      "Tu respuesta es: 4\n"
     ]
    }
   ],
   "source": [
    "def fcn_pow(v,p):\n",
    "    a=v**p\n",
    "    return a \n",
    "\n",
    "print(\"Tu respuesta es:\",fcn_pow(2,2))"
   ]
  },
  {
   "cell_type": "code",
   "execution_count": 3,
   "metadata": {},
   "outputs": [
    {
     "name": "stdout",
     "output_type": "stream",
     "text": [
      "[4, 1, 25, 16, 25, 64, 49]\n",
      "[64, 49, 16, 25]\n",
      "[1]\n"
     ]
    }
   ],
   "source": [
    "l=[8,7,4,5]\n",
    "def fcn_pow(v,p):\n",
    "    r=[]\n",
    "    z=len(v)\n",
    "    for i in range(z):\n",
    "        a=v[i]**p\n",
    "        r.append(a)\n",
    "        #print(a)\n",
    "    print(r)\n",
    "fcn_pow([2,1,5,4,5,8,7],2)\n",
    "fcn_pow(l,2)\n",
    "fcn_pow([1],2)"
   ]
  },
  {
   "cell_type": "code",
   "execution_count": 4,
   "metadata": {},
   "outputs": [],
   "source": [
    "from math import *"
   ]
  },
  {
   "cell_type": "code",
   "execution_count": 49,
   "metadata": {},
   "outputs": [
    {
     "data": {
      "text/plain": [
       "4.4"
      ]
     },
     "execution_count": 49,
     "metadata": {},
     "output_type": "execute_result"
    }
   ],
   "source": [
    "valores=[2,8,2,8,2]\n",
    "\n",
    "def fcn_media(v):\n",
    "    no=len(v)\n",
    "    x=0\n",
    "    for i in range(no):\n",
    "        x+=v[i]\n",
    "#    print(\"Tu media aritmetica es: \",x/no)\n",
    "#    print(\"De\",no,\"valores\")\n",
    "#    print(v)\n",
    "#    print(x,\"/\",no,\"=\",x/no)\n",
    "    return x/no\n",
    "fcn_media(valores)    "
   ]
  },
  {
   "cell_type": "code",
   "execution_count": 55,
   "metadata": {},
   "outputs": [
    {
     "name": "stdout",
     "output_type": "stream",
     "text": [
      "43.2\n",
      "Tu desviacion estandar es:  1.6431676725154984\n"
     ]
    }
   ],
   "source": [
    "valores=[2,8,2,8,2]\n",
    "\n",
    "def fcn_s(v):\n",
    "    media=fcn_media(valores)\n",
    "    no=len(v)\n",
    "    x=0\n",
    "    for i in range(no):\n",
    "        x+=((v[i]-media)**2)\n",
    "    print(x)\n",
    "    des=((x**(1/2))/(no-1))\n",
    "    print(\"Tu desviacion estandar es: \",des)    \n",
    "fcn_s(valores)"
   ]
  },
  {
   "cell_type": "code",
   "execution_count": null,
   "metadata": {},
   "outputs": [],
   "source": []
  }
 ],
 "metadata": {
  "kernelspec": {
   "display_name": "Python 3",
   "language": "python",
   "name": "python3"
  },
  "language_info": {
   "codemirror_mode": {
    "name": "ipython",
    "version": 3
   },
   "file_extension": ".py",
   "mimetype": "text/x-python",
   "name": "python",
   "nbconvert_exporter": "python",
   "pygments_lexer": "ipython3",
   "version": "3.7.1"
  }
 },
 "nbformat": 4,
 "nbformat_minor": 2
}
