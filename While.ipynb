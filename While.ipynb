{
 "cells": [
  {
   "cell_type": "markdown",
   "metadata": {},
   "source": [
    "Ciclo while"
   ]
  },
  {
   "cell_type": "code",
   "execution_count": 12,
   "metadata": {},
   "outputs": [
    {
     "name": "stdout",
     "output_type": "stream",
     "text": [
      "1\n",
      "2\n",
      "3\n",
      "Programa terminado!!!\n"
     ]
    }
   ],
   "source": [
    "i=1\n",
    "while i <= 3:\n",
    "    print(i)\n",
    "    i+=1    \n",
    "print(\"Programa terminado!!!\")"
   ]
  },
  {
   "cell_type": "code",
   "execution_count": 5,
   "metadata": {},
   "outputs": [
    {
     "name": "stdout",
     "output_type": "stream",
     "text": [
      "10\n",
      "20\n",
      "30\n",
      "40\n",
      "50\n"
     ]
    }
   ],
   "source": [
    "condicion = True\n",
    "i = 10\n",
    "while condicion:\n",
    "    if i >= 50:\n",
    "        condicion=False\n",
    "    print (i)\n",
    "    i+=10"
   ]
  },
  {
   "cell_type": "code",
   "execution_count": 14,
   "metadata": {},
   "outputs": [
    {
     "name": "stdout",
     "output_type": "stream",
     "text": [
      "5\n",
      "15\n",
      "45\n",
      "135\n",
      "405\n"
     ]
    }
   ],
   "source": [
    "a = 5\n",
    "while a < 406:\n",
    "    print(a)\n",
    "    a*=3"
   ]
  },
  {
   "cell_type": "markdown",
   "metadata": {},
   "source": [
    "Generar las siguientes\n",
    "\n",
    "3,5,7,9 \n",
    "\n",
    "5,2,-1,-4"
   ]
  },
  {
   "cell_type": "code",
   "execution_count": 28,
   "metadata": {},
   "outputs": [
    {
     "name": "stdout",
     "output_type": "stream",
     "text": [
      "¿Hasta que número?1\n",
      "La secuencia inicia e 3, tu numero es MENOR a este\n"
     ]
    }
   ],
   "source": [
    "a=3\n",
    "n = int(input(\"¿Hasta que número?\"))\n",
    "if(n<a):\n",
    "    print(\"La secuencia inicia en 3, tu numero es MENOR a este\")\n",
    "while a <= n:\n",
    "    print(a)\n",
    "    a+=2\n"
   ]
  },
  {
   "cell_type": "code",
   "execution_count": 30,
   "metadata": {},
   "outputs": [
    {
     "name": "stdout",
     "output_type": "stream",
     "text": [
      "¿Hasta que número?-7\n",
      "5\n",
      "2\n",
      "-1\n",
      "-4\n",
      "-7\n"
     ]
    }
   ],
   "source": [
    "a=5\n",
    "n = int(input(\"¿Hasta que número?\"))\n",
    "while a >= n:\n",
    "    print(a)\n",
    "    a-=3"
   ]
  },
  {
   "cell_type": "code",
   "execution_count": 31,
   "metadata": {},
   "outputs": [
    {
     "data": {
      "text/plain": [
       "10"
      ]
     },
     "execution_count": 31,
     "metadata": {},
     "output_type": "execute_result"
    }
   ],
   "source": [
    "len(\"Hola mundo\")"
   ]
  },
  {
   "cell_type": "code",
   "execution_count": 33,
   "metadata": {},
   "outputs": [
    {
     "data": {
      "text/plain": [
       "'o'"
      ]
     },
     "execution_count": 33,
     "metadata": {},
     "output_type": "execute_result"
    }
   ],
   "source": [
    "a=\"Hola Mundo\"\n",
    "a[1]"
   ]
  },
  {
   "cell_type": "code",
   "execution_count": 32,
   "metadata": {},
   "outputs": [
    {
     "name": "stdout",
     "output_type": "stream",
     "text": [
      "H H\n",
      "o o\n",
      "l l\n",
      "a a\n",
      "   \n",
      "M M\n",
      "u u\n",
      "n n\n",
      "d d\n",
      "o o\n",
      "Programa terminado\n"
     ]
    }
   ],
   "source": [
    "for i in \"Hola Mundo\":\n",
    "    print(i,i)\n",
    "print(\"Programa terminado\")"
   ]
  },
  {
   "cell_type": "code",
   "execution_count": 38,
   "metadata": {},
   "outputs": [
    {
     "name": "stdout",
     "output_type": "stream",
     "text": [
      "False\n",
      "True\n",
      "False\n",
      "False\n",
      "False\n"
     ]
    }
   ],
   "source": [
    "for i in [5,15,45,135,405]:\n",
    "    print(i==15)"
   ]
  },
  {
   "cell_type": "code",
   "execution_count": 41,
   "metadata": {},
   "outputs": [
    {
     "name": "stdout",
     "output_type": "stream",
     "text": [
      "2\n",
      "3\n",
      "4\n",
      "5\n",
      "6\n",
      "7\n",
      "8\n",
      "9\n",
      "Programa terminado\n"
     ]
    }
   ],
   "source": [
    "for i in range(2,10):\n",
    "    print(i)\n",
    "print(\"Programa terminado\")"
   ]
  },
  {
   "cell_type": "code",
   "execution_count": 43,
   "metadata": {},
   "outputs": [
    {
     "name": "stdout",
     "output_type": "stream",
     "text": [
      "0\n",
      "2\n",
      "4\n",
      "6\n",
      "8\n",
      "Programa terminado\n"
     ]
    }
   ],
   "source": [
    "for i in range(0,10,2):\n",
    "    print(i)\n",
    "print(\"Programa terminado\")"
   ]
  },
  {
   "cell_type": "code",
   "execution_count": 44,
   "metadata": {},
   "outputs": [
    {
     "data": {
      "text/plain": [
       "range"
      ]
     },
     "execution_count": 44,
     "metadata": {},
     "output_type": "execute_result"
    }
   ],
   "source": [
    "type( range(5,10,2))"
   ]
  },
  {
   "cell_type": "markdown",
   "metadata": {},
   "source": [
    "Convertir a tipo lista "
   ]
  },
  {
   "cell_type": "code",
   "execution_count": 45,
   "metadata": {},
   "outputs": [
    {
     "name": "stdout",
     "output_type": "stream",
     "text": [
      "[5, 7, 9]\n"
     ]
    }
   ],
   "source": [
    "lis= list(range(5,10,2))\n",
    "print(lis)"
   ]
  },
  {
   "cell_type": "code",
   "execution_count": 46,
   "metadata": {},
   "outputs": [
    {
     "name": "stdout",
     "output_type": "stream",
     "text": [
      "<class 'str'> 11\n",
      "<class 'str'> 22\n",
      "<class 'str'> 33\n",
      "<class 'str'> 44\n",
      "<class 'str'> 55\n"
     ]
    }
   ],
   "source": [
    "for i in \"12345\":\n",
    "    print(type(i),i+i)"
   ]
  },
  {
   "cell_type": "code",
   "execution_count": 54,
   "metadata": {},
   "outputs": [
    {
     "name": "stdout",
     "output_type": "stream",
     "text": [
      "1\n",
      "Segundo i: 2\n",
      "Segundo i: 2\n",
      "Segundo i: 2\n",
      "Segundo i: 2\n",
      "2\n",
      "Segundo i: 3\n",
      "Segundo i: 3\n",
      "Segundo i: 3\n",
      "Segundo i: 3\n",
      "3\n",
      "Segundo i: 4\n",
      "Segundo i: 4\n",
      "Segundo i: 4\n",
      "Segundo i: 4\n",
      "4\n",
      "Programa terminado\n"
     ]
    }
   ],
   "source": [
    "i=1\n",
    "while i <=8:\n",
    "    print(i)\n",
    "    i+=1\n",
    "    if i == 5:\n",
    "        break \n",
    "    print(\"Segundo i:\",i)\n",
    "    print(\"Segundo i:\",i)\n",
    "    print(\"Segundo i:\",i)\n",
    "    print(\"Segundo i:\",i)\n",
    "    \n",
    "print(\"Programa terminado\")"
   ]
  },
  {
   "cell_type": "code",
   "execution_count": 52,
   "metadata": {},
   "outputs": [
    {
     "name": "stdout",
     "output_type": "stream",
     "text": [
      "1\n",
      "Segundo i: 2\n",
      "Segundo i: 2\n",
      "Segundo i: 2\n",
      "Segundo i: 2\n",
      "2\n",
      "Segundo i: 3\n",
      "Segundo i: 3\n",
      "Segundo i: 3\n",
      "Segundo i: 3\n",
      "3\n",
      "Segundo i: 4\n",
      "Segundo i: 4\n",
      "Segundo i: 4\n",
      "Segundo i: 4\n",
      "4\n",
      "5\n",
      "Segundo i: 6\n",
      "Segundo i: 6\n",
      "Segundo i: 6\n",
      "Segundo i: 6\n",
      "6\n",
      "Segundo i: 7\n",
      "Segundo i: 7\n",
      "Segundo i: 7\n",
      "Segundo i: 7\n",
      "7\n",
      "Segundo i: 8\n",
      "Segundo i: 8\n",
      "Segundo i: 8\n",
      "Segundo i: 8\n",
      "8\n",
      "Segundo i: 9\n",
      "Segundo i: 9\n",
      "Segundo i: 9\n",
      "Segundo i: 9\n",
      "Programa terminado\n"
     ]
    }
   ],
   "source": [
    "i=1\n",
    "while i <=8:\n",
    "    print(i)\n",
    "    i+=1\n",
    "    if i == 5:\n",
    "        continue\n",
    "    print(\"Segundo i:\",i)\n",
    "    print(\"Segundo i:\",i)\n",
    "    print(\"Segundo i:\",i)\n",
    "    print(\"Segundo i:\",i)\n",
    "    \n",
    "print(\"Programa terminado\")"
   ]
  },
  {
   "cell_type": "markdown",
   "metadata": {},
   "source": [
    "Aleatorios "
   ]
  },
  {
   "cell_type": "code",
   "execution_count": 1,
   "metadata": {},
   "outputs": [],
   "source": [
    "import random as ran "
   ]
  },
  {
   "cell_type": "code",
   "execution_count": 58,
   "metadata": {},
   "outputs": [],
   "source": [
    "ran.randint?"
   ]
  },
  {
   "cell_type": "code",
   "execution_count": 74,
   "metadata": {},
   "outputs": [
    {
     "name": "stdout",
     "output_type": "stream",
     "text": [
      "6\n"
     ]
    }
   ],
   "source": [
    "num_adivinador = ran.randint(1,6)\n",
    "print(num_adivinador)"
   ]
  },
  {
   "cell_type": "markdown",
   "metadata": {},
   "source": [
    "Adivinar el numero que la máquina esta pensado \n",
    "SOLO tienes 3 oportunidades"
   ]
  },
  {
   "cell_type": "code",
   "execution_count": 4,
   "metadata": {},
   "outputs": [
    {
     "name": "stdout",
     "output_type": "stream",
     "text": [
      "¿Cuantass vidas quieres?4\n",
      "¿En que número estoy pensando?1\n",
      "Vidas restantes: 3\n",
      "¿En que número estoy pensando?2\n",
      "Vidas restantes: 2\n",
      "¿En que número estoy pensando?3\n",
      "Vidas restantes: 1\n",
      "¿En que número estoy pensando?4\n",
      "Vidas restantes: 0\n",
      "Perdiste!!!\n"
     ]
    }
   ],
   "source": [
    "n1 = ran.randint(0,5)\n",
    "vidas=int(input(\"¿Cuantass vidas quieres?\"))\n",
    "if vidas>5+1:\n",
    "    print(\"Seas mamon\")\n",
    "else:\n",
    "    while vidas > 0:\n",
    "        n = int(input(\"¿En que número estoy pensando?\"))\n",
    "        if(n == n1):\n",
    "            print(\"Adivinaste!!!\") \n",
    "            break\n",
    "        else:\n",
    "            vidas-=1\n",
    "            print(\"Vidas restantes:\",vidas)    \n",
    "\n",
    "    if vidas==0:\n",
    "        print(\"Perdiste!!!\")\n"
   ]
  },
  {
   "cell_type": "code",
   "execution_count": null,
   "metadata": {},
   "outputs": [],
   "source": []
  }
 ],
 "metadata": {
  "kernelspec": {
   "display_name": "Python 3",
   "language": "python",
   "name": "python3"
  },
  "language_info": {
   "codemirror_mode": {
    "name": "ipython",
    "version": 3
   },
   "file_extension": ".py",
   "mimetype": "text/x-python",
   "name": "python",
   "nbconvert_exporter": "python",
   "pygments_lexer": "ipython3",
   "version": "3.7.1"
  }
 },
 "nbformat": 4,
 "nbformat_minor": 2
}
