{
 "cells": [
  {
   "cell_type": "code",
   "execution_count": 2,
   "metadata": {
    "scrolled": true
   },
   "outputs": [
    {
     "name": "stdout",
     "output_type": "stream",
     "text": [
      "Collecting mobilechelonian\n",
      "  Downloading https://files.pythonhosted.org/packages/2c/89/d79cde973e8b0ab504bbea6d494b7fd7d6e2b4d6a8931b0b19a21368ab9b/mobilechelonian-0.5-py2.py3-none-any.whl (94kB)\n",
      "Requirement already satisfied: ipywidgets>=7.0.0 in d:\\anaconda\\lib\\site-packages (from mobilechelonian) (7.4.2)\n",
      "Requirement already satisfied: IPython in d:\\anaconda\\lib\\site-packages (from mobilechelonian) (7.2.0)\n",
      "Requirement already satisfied: traitlets>=4.3.1 in d:\\anaconda\\lib\\site-packages (from ipywidgets>=7.0.0->mobilechelonian) (4.3.2)\n",
      "Requirement already satisfied: ipykernel>=4.5.1 in d:\\anaconda\\lib\\site-packages (from ipywidgets>=7.0.0->mobilechelonian) (5.1.0)\n",
      "Requirement already satisfied: nbformat>=4.2.0 in d:\\anaconda\\lib\\site-packages (from ipywidgets>=7.0.0->mobilechelonian) (4.4.0)\n",
      "Requirement already satisfied: widgetsnbextension~=3.4.0 in d:\\anaconda\\lib\\site-packages (from ipywidgets>=7.0.0->mobilechelonian) (3.4.2)\n",
      "Requirement already satisfied: pygments in d:\\anaconda\\lib\\site-packages (from IPython->mobilechelonian) (2.3.1)\n",
      "Requirement already satisfied: colorama; sys_platform == \"win32\" in d:\\anaconda\\lib\\site-packages (from IPython->mobilechelonian) (0.4.1)\n",
      "Requirement already satisfied: prompt-toolkit<2.1.0,>=2.0.0 in d:\\anaconda\\lib\\site-packages (from IPython->mobilechelonian) (2.0.7)\n",
      "Requirement already satisfied: backcall in d:\\anaconda\\lib\\site-packages (from IPython->mobilechelonian) (0.1.0)\n",
      "Requirement already satisfied: decorator in d:\\anaconda\\lib\\site-packages (from IPython->mobilechelonian) (4.3.0)\n",
      "Requirement already satisfied: pickleshare in d:\\anaconda\\lib\\site-packages (from IPython->mobilechelonian) (0.7.5)\n",
      "Requirement already satisfied: jedi>=0.10 in d:\\anaconda\\lib\\site-packages (from IPython->mobilechelonian) (0.13.2)\n",
      "Requirement already satisfied: setuptools>=18.5 in d:\\anaconda\\lib\\site-packages (from IPython->mobilechelonian) (40.6.3)\n",
      "Requirement already satisfied: six in d:\\anaconda\\lib\\site-packages (from traitlets>=4.3.1->ipywidgets>=7.0.0->mobilechelonian) (1.12.0)\n",
      "Requirement already satisfied: ipython-genutils in d:\\anaconda\\lib\\site-packages (from traitlets>=4.3.1->ipywidgets>=7.0.0->mobilechelonian) (0.2.0)\n",
      "Requirement already satisfied: tornado>=4.2 in d:\\anaconda\\lib\\site-packages (from ipykernel>=4.5.1->ipywidgets>=7.0.0->mobilechelonian) (5.1.1)\n",
      "Requirement already satisfied: jupyter-client in d:\\anaconda\\lib\\site-packages (from ipykernel>=4.5.1->ipywidgets>=7.0.0->mobilechelonian) (5.2.4)\n",
      "Requirement already satisfied: jsonschema!=2.5.0,>=2.4 in d:\\anaconda\\lib\\site-packages (from nbformat>=4.2.0->ipywidgets>=7.0.0->mobilechelonian) (2.6.0)\n",
      "Requirement already satisfied: jupyter-core in d:\\anaconda\\lib\\site-packages (from nbformat>=4.2.0->ipywidgets>=7.0.0->mobilechelonian) (4.4.0)\n",
      "Requirement already satisfied: notebook>=4.4.1 in d:\\anaconda\\lib\\site-packages (from widgetsnbextension~=3.4.0->ipywidgets>=7.0.0->mobilechelonian) (5.7.4)\n",
      "Requirement already satisfied: wcwidth in d:\\anaconda\\lib\\site-packages (from prompt-toolkit<2.1.0,>=2.0.0->IPython->mobilechelonian) (0.1.7)\n",
      "Requirement already satisfied: parso>=0.3.0 in d:\\anaconda\\lib\\site-packages (from jedi>=0.10->IPython->mobilechelonian) (0.3.1)\n",
      "Requirement already satisfied: python-dateutil>=2.1 in d:\\anaconda\\lib\\site-packages (from jupyter-client->ipykernel>=4.5.1->ipywidgets>=7.0.0->mobilechelonian) (2.7.5)\n",
      "Requirement already satisfied: pyzmq>=13 in d:\\anaconda\\lib\\site-packages (from jupyter-client->ipykernel>=4.5.1->ipywidgets>=7.0.0->mobilechelonian) (17.1.2)\n",
      "Requirement already satisfied: nbconvert in d:\\anaconda\\lib\\site-packages (from notebook>=4.4.1->widgetsnbextension~=3.4.0->ipywidgets>=7.0.0->mobilechelonian) (5.4.0)\n",
      "Requirement already satisfied: terminado>=0.8.1 in d:\\anaconda\\lib\\site-packages (from notebook>=4.4.1->widgetsnbextension~=3.4.0->ipywidgets>=7.0.0->mobilechelonian) (0.8.1)\n",
      "Requirement already satisfied: prometheus-client in d:\\anaconda\\lib\\site-packages (from notebook>=4.4.1->widgetsnbextension~=3.4.0->ipywidgets>=7.0.0->mobilechelonian) (0.5.0)\n",
      "Requirement already satisfied: Send2Trash in d:\\anaconda\\lib\\site-packages (from notebook>=4.4.1->widgetsnbextension~=3.4.0->ipywidgets>=7.0.0->mobilechelonian) (1.5.0)\n",
      "Requirement already satisfied: jinja2 in d:\\anaconda\\lib\\site-packages (from notebook>=4.4.1->widgetsnbextension~=3.4.0->ipywidgets>=7.0.0->mobilechelonian) (2.10)\n",
      "Requirement already satisfied: mistune>=0.8.1 in d:\\anaconda\\lib\\site-packages (from nbconvert->notebook>=4.4.1->widgetsnbextension~=3.4.0->ipywidgets>=7.0.0->mobilechelonian) (0.8.4)\n",
      "Requirement already satisfied: entrypoints>=0.2.2 in d:\\anaconda\\lib\\site-packages (from nbconvert->notebook>=4.4.1->widgetsnbextension~=3.4.0->ipywidgets>=7.0.0->mobilechelonian) (0.2.3)\n",
      "Requirement already satisfied: bleach in d:\\anaconda\\lib\\site-packages (from nbconvert->notebook>=4.4.1->widgetsnbextension~=3.4.0->ipywidgets>=7.0.0->mobilechelonian) (3.0.2)\n",
      "Requirement already satisfied: pandocfilters>=1.4.1 in d:\\anaconda\\lib\\site-packages (from nbconvert->notebook>=4.4.1->widgetsnbextension~=3.4.0->ipywidgets>=7.0.0->mobilechelonian) (1.4.2)\n",
      "Requirement already satisfied: testpath in d:\\anaconda\\lib\\site-packages (from nbconvert->notebook>=4.4.1->widgetsnbextension~=3.4.0->ipywidgets>=7.0.0->mobilechelonian) (0.4.2)\n",
      "Requirement already satisfied: defusedxml in d:\\anaconda\\lib\\site-packages (from nbconvert->notebook>=4.4.1->widgetsnbextension~=3.4.0->ipywidgets>=7.0.0->mobilechelonian) (0.5.0)\n",
      "Requirement already satisfied: MarkupSafe>=0.23 in d:\\anaconda\\lib\\site-packages (from jinja2->notebook>=4.4.1->widgetsnbextension~=3.4.0->ipywidgets>=7.0.0->mobilechelonian) (1.1.0)\n",
      "Requirement already satisfied: webencodings in d:\\anaconda\\lib\\site-packages (from bleach->nbconvert->notebook>=4.4.1->widgetsnbextension~=3.4.0->ipywidgets>=7.0.0->mobilechelonian) (0.5.1)\n",
      "Installing collected packages: mobilechelonian\n",
      "Successfully installed mobilechelonian-0.5\n"
     ]
    }
   ],
   "source": [
    "!pip install mobilechelonian"
   ]
  },
  {
   "cell_type": "code",
   "execution_count": 4,
   "metadata": {},
   "outputs": [],
   "source": [
    "from mobilechelonian import Turtle"
   ]
  },
  {
   "cell_type": "code",
   "execution_count": 8,
   "metadata": {},
   "outputs": [
    {
     "data": {
      "application/vnd.jupyter.widget-view+json": {
       "model_id": "dff2af52fcda47478ca43e493735ae7b",
       "version_major": 2,
       "version_minor": 0
      },
      "text/plain": [
       "Turtle()"
      ]
     },
     "metadata": {},
     "output_type": "display_data"
    }
   ],
   "source": [
    "t=Turtle()\n",
    "t.speed(5)\n",
    "colours=[\"red\",\"blue\",\"yellow\",\"brown\",\"black\",\"purple\",\"green\"]\n",
    "\n",
    "t.penup(); t.left(90); t.forward(200); t.right(90); t.pendown()\n",
    "for i in range (0,18):\n",
    "    t.pencolor(colours[i%7])\n",
    "    t.right(20)\n",
    "    t.forward(50)\n",
    "    \n",
    "t.right(180)\n",
    "t.home()"
   ]
  },
  {
   "cell_type": "code",
   "execution_count": 46,
   "metadata": {},
   "outputs": [
    {
     "data": {
      "application/vnd.jupyter.widget-view+json": {
       "model_id": "c48fd0bea5314287a97277b08bbdac89",
       "version_major": 2,
       "version_minor": 0
      },
      "text/plain": [
       "Turtle()"
      ]
     },
     "metadata": {},
     "output_type": "display_data"
    }
   ],
   "source": [
    "t=Turtle()\n",
    "t.speed(4)\n",
    "colours=[\"red\",\"blue\",\"yellow\",\"brown\",\"black\",\"purple\",\"green\"]\n",
    "\n",
    "\n",
    "t.penup(); \n",
    "t.left(225); t.forward(70); t.right(135); \n",
    "t.pendown() \n",
    "t.pencolor(colours[4])\n",
    "for i in range(4):\n",
    "    t.forward(100);\n",
    "    t.right(90);    \n",
    "\n",
    "t.penup(); \n",
    "t.home();"
   ]
  },
  {
   "cell_type": "code",
   "execution_count": 53,
   "metadata": {},
   "outputs": [
    {
     "name": "stdout",
     "output_type": "stream",
     "text": [
      "[2, 4, 6, 8, 10, 12]\n"
     ]
    }
   ],
   "source": [
    "#Diseñar un programa que sume dos tuplas de números\n",
    "\n",
    "#--------------------------------------------Variables----------------------------------------------------------------#\n",
    "#\n",
    "a=[1,2,3,4,5,6]\n",
    "b=[1,2,3,4,5,6]\n",
    "c=[]\n",
    "la=len(a)\n",
    "lb=len(b)\n",
    "i=0\n",
    "#\n",
    "#--------------------------------------------Código------------------------------------------------------------------#\n",
    "if la==lb:\n",
    "    while i<la:\n",
    "              c.append(a[i]+b[i])\n",
    "              i+=1\n",
    "    print(c)\n",
    "else:\n",
    "    print(\"Tuplas de longitud diferete\")\n",
    "            \n",
    "    "
   ]
  },
  {
   "cell_type": "code",
   "execution_count": 60,
   "metadata": {},
   "outputs": [
    {
     "name": "stdout",
     "output_type": "stream",
     "text": [
      "[10, 20, 30, 40, 50, 60]\n"
     ]
    }
   ],
   "source": [
    "#Diseñar un programa que multiplique un vector por una constate\n",
    "\n",
    "#--------------------------------------------Variables----------------------------------------------------------------#\n",
    "#\n",
    "a=[1,2,3,4,5,6]\n",
    "constante\n",
    "c=[]\n",
    "la=len(a)\n",
    "\n",
    "i=0\n",
    "#\n",
    "#--------------------------------------------Código------------------------------------------------------------------#\n",
    "\n",
    "while i<la:\n",
    "          c.append(a[i]*constante)\n",
    "          i+=1\n",
    "print(c)\n",
    "\n",
    "    "
   ]
  },
  {
   "cell_type": "code",
   "execution_count": 58,
   "metadata": {},
   "outputs": [
    {
     "name": "stdout",
     "output_type": "stream",
     "text": [
      "Tamaño de los vectores: 2\n",
      "Valores del vector 1\n",
      "Valor :1\n",
      "Valor :1\n",
      "Valores del vector 2\n",
      "Valor :1\n",
      "Valor :1\n",
      "\n",
      "Vector 1: [1, 1]\n",
      "Vector 2: [1, 1]\n",
      "Su suma vectorial es: [2, 2]\n"
     ]
    }
   ],
   "source": [
    "#Diseñar un programa que sume dos vectores \n",
    "\n",
    "#--------------------------------------------Variables----------------------------------------------------------------#\n",
    "#\n",
    "i=0\n",
    "n1=[]\n",
    "n2=[]\n",
    "c=0\n",
    "r=[]\n",
    "#\n",
    "#--------------------------------------------Código------------------------------------------------------------------#\n",
    "l=int(input(\"Tamaño de los vectores: \"))\n",
    "print(\"Valores del vector 1\")\n",
    "while i<l:    \n",
    "    n1.append(int(input(\"Valor :\")))\n",
    "    #n1.append(int(input(print(\"Valor\",i+1,\":\"))))\n",
    "    i+=1      \n",
    "i=0\n",
    "print(\"Valores del vector 2\")\n",
    "while i<l:    \n",
    "    n2.append(int(input(\"Valor :\")))\n",
    "    #n2.append(int(input(print(\"Valor\",i+1,\":\"))))\n",
    "    i+=1    \n",
    "i=0\n",
    "print(\"\")\n",
    "print(\"Vector 1:\",n1)\n",
    "print(\"Vector 2:\",n2)\n",
    "while i<l:  \n",
    "    r.append(n1[i]+n2[i])\n",
    "    i+=1\n",
    "    \n",
    "print(\"Su suma vectorial es:\",r)\n",
    "            \n",
    "    "
   ]
  },
  {
   "cell_type": "code",
   "execution_count": 55,
   "metadata": {},
   "outputs": [
    {
     "name": "stdout",
     "output_type": "stream",
     "text": [
      "Tamaño de los vectores: 2\n",
      "Valores del vector 1\n",
      "Valor :1\n",
      "Valor :2\n",
      "Valores del vector 2\n",
      "Valor :3\n",
      "Valor :4\n",
      "\n",
      "Vector 1: [1, 2]\n",
      "Vector 2: [3, 4]\n",
      "Su producto punto es: 11\n"
     ]
    }
   ],
   "source": [
    "#Diseñar un programa que pida los valores de dos vectores y realice el producto punto de estos\n",
    "\n",
    "#--------------------------------------------Variables----------------------------------------------------------------#\n",
    "#\n",
    "i=0\n",
    "n1=[]\n",
    "n2=[]\n",
    "c=0\n",
    "r=0\n",
    "#\n",
    "#--------------------------------------------Código------------------------------------------------------------------#\n",
    "l=int(input(\"Tamaño de los vectores: \"))\n",
    "print(\"Valores del vector 1\")\n",
    "while i<l:    \n",
    "    n1.append(int(input(\"Valor :\")))\n",
    "    #n1.append(int(input(print(\"Valor\",i+1,\":\"))))\n",
    "    i+=1      \n",
    "i=0\n",
    "print(\"Valores del vector 2\")\n",
    "while i<l:    \n",
    "    n2.append(int(input(\"Valor :\")))\n",
    "    #n2.append(int(input(print(\"Valor\",i+1,\":\"))))\n",
    "    i+=1    \n",
    "i=0\n",
    "print(\"\")\n",
    "print(\"Vector 1:\",n1)\n",
    "print(\"Vector 2:\",n2)\n",
    "while i<l:  \n",
    "    r+=(n1[i]*n2[i])\n",
    "    i+=1\n",
    "print(\"Su producto punto es:\",r)"
   ]
  },
  {
   "cell_type": "code",
   "execution_count": null,
   "metadata": {},
   "outputs": [],
   "source": [
    "#Diseñar un programa que realice la multiplicacion de dos matrices\n",
    "\n",
    "\n",
    "#--------------------------------------------Variables----------------------------------------------------------------#\n",
    "\n",
    "\n",
    "#--------------------------------------------Código------------------------------------------------------------------#\n",
    "\n",
    "\n",
    "\n",
    "\n",
    "\n"
   ]
  },
  {
   "cell_type": "code",
   "execution_count": 59,
   "metadata": {},
   "outputs": [],
   "source": [
    "import numpy as np"
   ]
  },
  {
   "cell_type": "code",
   "execution_count": 63,
   "metadata": {},
   "outputs": [
    {
     "name": "stdout",
     "output_type": "stream",
     "text": [
      "[5 7 9]\n",
      "<class 'numpy.ndarray'>\n",
      "[ 4 10 18]\n"
     ]
    }
   ],
   "source": [
    "x=np.array([1,2,3])\n",
    "y=np.array([4,5,6])\n",
    "print(x+y)\n",
    "print (type(x))\n",
    "print(x*y)\n"
   ]
  },
  {
   "cell_type": "code",
   "execution_count": 64,
   "metadata": {},
   "outputs": [
    {
     "data": {
      "text/plain": [
       "array([5, 7, 9])"
      ]
     },
     "execution_count": 64,
     "metadata": {},
     "output_type": "execute_result"
    }
   ],
   "source": [
    "x+y"
   ]
  },
  {
   "cell_type": "code",
   "execution_count": 65,
   "metadata": {},
   "outputs": [
    {
     "data": {
      "text/plain": [
       "array([-3, -3, -3])"
      ]
     },
     "execution_count": 65,
     "metadata": {},
     "output_type": "execute_result"
    }
   ],
   "source": [
    "x-y"
   ]
  },
  {
   "cell_type": "code",
   "execution_count": 66,
   "metadata": {},
   "outputs": [
    {
     "data": {
      "text/plain": [
       "array([ 40000,  80000, 120000])"
      ]
     },
     "execution_count": 66,
     "metadata": {},
     "output_type": "execute_result"
    }
   ],
   "source": [
    "x*40000"
   ]
  },
  {
   "cell_type": "code",
   "execution_count": 67,
   "metadata": {},
   "outputs": [
    {
     "data": {
      "text/plain": [
       "array([40, 50, 60])"
      ]
     },
     "execution_count": 67,
     "metadata": {},
     "output_type": "execute_result"
    }
   ],
   "source": [
    "y*10"
   ]
  },
  {
   "cell_type": "markdown",
   "metadata": {},
   "source": [
    "Productos punto"
   ]
  },
  {
   "cell_type": "code",
   "execution_count": 71,
   "metadata": {},
   "outputs": [
    {
     "name": "stdout",
     "output_type": "stream",
     "text": [
      "35\n"
     ]
    }
   ],
   "source": [
    "x=np.array([2,1,3])\n",
    "y=np.array([4,6,7])\n",
    "\n",
    "print(sum(x*y))"
   ]
  },
  {
   "cell_type": "code",
   "execution_count": 72,
   "metadata": {},
   "outputs": [
    {
     "data": {
      "text/plain": [
       "35"
      ]
     },
     "execution_count": 72,
     "metadata": {},
     "output_type": "execute_result"
    }
   ],
   "source": [
    "np.dot(x,y)"
   ]
  },
  {
   "cell_type": "code",
   "execution_count": 74,
   "metadata": {},
   "outputs": [
    {
     "data": {
      "text/plain": [
       "35"
      ]
     },
     "execution_count": 74,
     "metadata": {},
     "output_type": "execute_result"
    }
   ],
   "source": [
    "x.dot(y)"
   ]
  },
  {
   "cell_type": "code",
   "execution_count": 75,
   "metadata": {},
   "outputs": [
    {
     "data": {
      "text/plain": [
       "35"
      ]
     },
     "execution_count": 75,
     "metadata": {},
     "output_type": "execute_result"
    }
   ],
   "source": [
    "x@y"
   ]
  },
  {
   "cell_type": "code",
   "execution_count": 77,
   "metadata": {},
   "outputs": [
    {
     "data": {
      "text/plain": [
       "3.7416573867739413"
      ]
     },
     "execution_count": 77,
     "metadata": {},
     "output_type": "execute_result"
    }
   ],
   "source": [
    "np.linalg.norm(x)"
   ]
  },
  {
   "cell_type": "code",
   "execution_count": 79,
   "metadata": {},
   "outputs": [
    {
     "data": {
      "text/plain": [
       "3.7416573867739413"
      ]
     },
     "execution_count": 79,
     "metadata": {},
     "output_type": "execute_result"
    }
   ],
   "source": [
    "np.sqrt(np.dot(x,x))"
   ]
  },
  {
   "cell_type": "markdown",
   "metadata": {},
   "source": [
    "Matrices\n",
    "--"
   ]
  },
  {
   "cell_type": "code",
   "execution_count": 91,
   "metadata": {},
   "outputs": [
    {
     "name": "stdout",
     "output_type": "stream",
     "text": [
      "A: \n",
      "[[1 3 2]\n",
      " [1 0 0]\n",
      " [1 2 2]]\n",
      "B: \n",
      "[[1 0 5]\n",
      " [7 5 0]\n",
      " [2 1 1]]\n"
     ]
    }
   ],
   "source": [
    "A = np.array([ [1, 3, 2],[1, 0, 0],[1, 2, 2] ])\n",
    "print(\"A: \")\n",
    "print(A)\n",
    "\n",
    "B=np.array([[1, 0, 5],\n",
    "       [7, 5, 0],\n",
    "       [2, 1, 1]])\n",
    "print(\"B: \")\n",
    "print(B)"
   ]
  },
  {
   "cell_type": "code",
   "execution_count": 93,
   "metadata": {},
   "outputs": [
    {
     "data": {
      "text/plain": [
       "array([[2, 3, 7],\n",
       "       [8, 5, 0],\n",
       "       [3, 3, 3]])"
      ]
     },
     "execution_count": 93,
     "metadata": {},
     "output_type": "execute_result"
    }
   ],
   "source": [
    "A+B"
   ]
  },
  {
   "cell_type": "code",
   "execution_count": 94,
   "metadata": {},
   "outputs": [
    {
     "data": {
      "text/plain": [
       "array([[ 0,  3, -3],\n",
       "       [-6, -5,  0],\n",
       "       [-1,  1,  1]])"
      ]
     },
     "execution_count": 94,
     "metadata": {},
     "output_type": "execute_result"
    }
   ],
   "source": [
    "A-B"
   ]
  },
  {
   "cell_type": "code",
   "execution_count": 95,
   "metadata": {},
   "outputs": [
    {
     "data": {
      "text/plain": [
       "array([[ 50, 150, 100],\n",
       "       [ 50,   0,   0],\n",
       "       [ 50, 100, 100]])"
      ]
     },
     "execution_count": 95,
     "metadata": {},
     "output_type": "execute_result"
    }
   ],
   "source": [
    "A*50"
   ]
  },
  {
   "cell_type": "code",
   "execution_count": 96,
   "metadata": {},
   "outputs": [
    {
     "data": {
      "text/plain": [
       "array([[ 1,  0, 10],\n",
       "       [ 7,  0,  0],\n",
       "       [ 2,  2,  2]])"
      ]
     },
     "execution_count": 96,
     "metadata": {},
     "output_type": "execute_result"
    }
   ],
   "source": [
    "A*B"
   ]
  },
  {
   "cell_type": "markdown",
   "metadata": {},
   "source": [
    "Multiplicacion de matrices\n",
    "\n",
    "A*B es multiplicacion elemento a elemento\n",
    "\n",
    "A@B es multiplicacion algebraica"
   ]
  },
  {
   "cell_type": "code",
   "execution_count": 97,
   "metadata": {},
   "outputs": [
    {
     "data": {
      "text/plain": [
       "array([[26, 17,  7],\n",
       "       [ 1,  0,  5],\n",
       "       [19, 12,  7]])"
      ]
     },
     "execution_count": 97,
     "metadata": {},
     "output_type": "execute_result"
    }
   ],
   "source": [
    "A@B"
   ]
  },
  {
   "cell_type": "code",
   "execution_count": 98,
   "metadata": {},
   "outputs": [
    {
     "data": {
      "text/plain": [
       "(3, 3)"
      ]
     },
     "execution_count": 98,
     "metadata": {},
     "output_type": "execute_result"
    }
   ],
   "source": [
    "A.shape"
   ]
  },
  {
   "cell_type": "code",
   "execution_count": 99,
   "metadata": {},
   "outputs": [
    {
     "data": {
      "text/plain": [
       "9"
      ]
     },
     "execution_count": 99,
     "metadata": {},
     "output_type": "execute_result"
    }
   ],
   "source": [
    "A.size"
   ]
  },
  {
   "cell_type": "code",
   "execution_count": 100,
   "metadata": {},
   "outputs": [
    {
     "data": {
      "text/plain": [
       "array([1, 2, 3, 4, 5, 6, 7, 8, 9])"
      ]
     },
     "execution_count": 100,
     "metadata": {},
     "output_type": "execute_result"
    }
   ],
   "source": [
    "np.arange(1,10)"
   ]
  },
  {
   "cell_type": "code",
   "execution_count": 102,
   "metadata": {},
   "outputs": [
    {
     "data": {
      "text/plain": [
       "array([1. , 1.1, 1.2, 1.3, 1.4, 1.5, 1.6, 1.7, 1.8, 1.9, 2. , 2.1, 2.2,\n",
       "       2.3, 2.4, 2.5, 2.6, 2.7, 2.8, 2.9, 3. , 3.1, 3.2, 3.3, 3.4, 3.5,\n",
       "       3.6, 3.7, 3.8, 3.9, 4. , 4.1, 4.2, 4.3, 4.4, 4.5, 4.6, 4.7, 4.8,\n",
       "       4.9, 5. , 5.1, 5.2, 5.3, 5.4, 5.5, 5.6, 5.7, 5.8, 5.9, 6. , 6.1,\n",
       "       6.2, 6.3, 6.4, 6.5, 6.6, 6.7, 6.8, 6.9, 7. , 7.1, 7.2, 7.3, 7.4,\n",
       "       7.5, 7.6, 7.7, 7.8, 7.9, 8. , 8.1, 8.2, 8.3, 8.4, 8.5, 8.6, 8.7,\n",
       "       8.8, 8.9, 9. , 9.1, 9.2, 9.3, 9.4, 9.5, 9.6, 9.7, 9.8, 9.9])"
      ]
     },
     "execution_count": 102,
     "metadata": {},
     "output_type": "execute_result"
    }
   ],
   "source": [
    "np.arange(1,10,.1)"
   ]
  },
  {
   "cell_type": "code",
   "execution_count": 103,
   "metadata": {},
   "outputs": [
    {
     "name": "stdout",
     "output_type": "stream",
     "text": [
      "[[ 1  2  3  4]\n",
      " [ 5  6  7  8]\n",
      " [ 9 10 11 12]]\n"
     ]
    }
   ],
   "source": [
    "print(np.arange(1,13).reshape(3,4))"
   ]
  },
  {
   "cell_type": "code",
   "execution_count": 105,
   "metadata": {},
   "outputs": [
    {
     "data": {
      "text/plain": [
       "array([[1., 0.],\n",
       "       [0., 1.]])"
      ]
     },
     "execution_count": 105,
     "metadata": {},
     "output_type": "execute_result"
    }
   ],
   "source": [
    "I=np.eye(2)\n",
    "I"
   ]
  },
  {
   "cell_type": "code",
   "execution_count": 106,
   "metadata": {},
   "outputs": [
    {
     "data": {
      "text/plain": [
       "array([[1., 0., 0.],\n",
       "       [0., 1., 0.]])"
      ]
     },
     "execution_count": 106,
     "metadata": {},
     "output_type": "execute_result"
    }
   ],
   "source": [
    "I=np.eye(2,3)\n",
    "I"
   ]
  },
  {
   "cell_type": "code",
   "execution_count": 108,
   "metadata": {},
   "outputs": [
    {
     "data": {
      "text/plain": [
       "array([[ 0.6, -0.7],\n",
       "       [-0.2,  0.4]])"
      ]
     },
     "execution_count": 108,
     "metadata": {},
     "output_type": "execute_result"
    }
   ],
   "source": [
    "A=np.array([ [4, 7],[2, 6]])\n",
    "A_inv = np.linalg.inv(A)\n",
    "A_inv"
   ]
  },
  {
   "cell_type": "code",
   "execution_count": 109,
   "metadata": {},
   "outputs": [
    {
     "data": {
      "text/plain": [
       "array([[4, 2],\n",
       "       [7, 6]])"
      ]
     },
     "execution_count": 109,
     "metadata": {},
     "output_type": "execute_result"
    }
   ],
   "source": [
    "np.transpose(A)"
   ]
  },
  {
   "cell_type": "code",
   "execution_count": 110,
   "metadata": {},
   "outputs": [
    {
     "data": {
      "text/plain": [
       "array([[4, 2],\n",
       "       [7, 6]])"
      ]
     },
     "execution_count": 110,
     "metadata": {},
     "output_type": "execute_result"
    }
   ],
   "source": [
    "A.T"
   ]
  },
  {
   "cell_type": "code",
   "execution_count": 111,
   "metadata": {},
   "outputs": [
    {
     "data": {
      "text/plain": [
       "10.000000000000002"
      ]
     },
     "execution_count": 111,
     "metadata": {},
     "output_type": "execute_result"
    }
   ],
   "source": [
    "np.linalg.det(A)"
   ]
  },
  {
   "cell_type": "markdown",
   "metadata": {},
   "source": [
    "RESOLVER\n",
    "--\n",
    "\n",
    "x-2y=1\n",
    "\n",
    "3x+2y=11\n",
    "\n",
    "y=(1-x)/-2"
   ]
  },
  {
   "cell_type": "code",
   "execution_count": 138,
   "metadata": {
    "scrolled": false
   },
   "outputs": [
    {
     "name": "stdout",
     "output_type": "stream",
     "text": [
      "A: \n",
      "[[ 1 -2]\n",
      " [ 3  2]]\n",
      "B: \n",
      "[[ 1]\n",
      " [11]]\n",
      "Respuesta\n",
      "[[3.]\n",
      " [1.]]\n"
     ]
    }
   ],
   "source": [
    "A=np.array([[1, -2],\n",
    "       [3, 2]])\n",
    "\n",
    "B=np.array([[1],\n",
    "       [11]])\n",
    "\n",
    "inV=np.linalg.inv\n",
    "X=inV(A)\n",
    "\n",
    "print(\"A: \")\n",
    "print(A)\n",
    "print(\"B: \")\n",
    "print(B)\n",
    "\n",
    "print(\"Respuesta\")\n",
    "X=A_i@B\n",
    "print(X)\n",
    "\n",
    "\n"
   ]
  },
  {
   "cell_type": "code",
   "execution_count": 131,
   "metadata": {},
   "outputs": [
    {
     "name": "stdout",
     "output_type": "stream",
     "text": [
      "[[ 1.]\n",
      " [11.]]\n"
     ]
    }
   ],
   "source": [
    "print(A@R) #Comprobacion"
   ]
  },
  {
   "cell_type": "code",
   "execution_count": 114,
   "metadata": {},
   "outputs": [
    {
     "data": {
      "text/plain": [
       "array([ 1, -2])"
      ]
     },
     "execution_count": 114,
     "metadata": {},
     "output_type": "execute_result"
    }
   ],
   "source": [
    "A[0]"
   ]
  },
  {
   "cell_type": "code",
   "execution_count": 115,
   "metadata": {},
   "outputs": [
    {
     "data": {
      "text/plain": [
       "array([1, 3])"
      ]
     },
     "execution_count": 115,
     "metadata": {},
     "output_type": "execute_result"
    }
   ],
   "source": [
    "A[:,0]"
   ]
  },
  {
   "cell_type": "code",
   "execution_count": 118,
   "metadata": {},
   "outputs": [
    {
     "data": {
      "text/plain": [
       "array([[ 5, -8],\n",
       "       [ 5,  4]])"
      ]
     },
     "execution_count": 118,
     "metadata": {},
     "output_type": "execute_result"
    }
   ],
   "source": [
    "C=np.array([[5, -8],\n",
    "       [5, 4]])\n",
    "C"
   ]
  },
  {
   "cell_type": "code",
   "execution_count": 119,
   "metadata": {},
   "outputs": [
    {
     "data": {
      "text/plain": [
       "array([[ 1, -8],\n",
       "       [ 3,  4]])"
      ]
     },
     "execution_count": 119,
     "metadata": {},
     "output_type": "execute_result"
    }
   ],
   "source": [
    "C[:,0]=A[:,0]\n",
    "C"
   ]
  },
  {
   "cell_type": "markdown",
   "metadata": {},
   "source": [
    "RESOLVER\n",
    "--\n",
    "\n",
    " \n",
    " x + 2y + 3z = 6\n",
    "\n",
    "2x + 5y + 2z = 4\n",
    "\n",
    "6x - 3y +  z = 2"
   ]
  },
  {
   "cell_type": "code",
   "execution_count": 141,
   "metadata": {},
   "outputs": [
    {
     "name": "stdout",
     "output_type": "stream",
     "text": [
      "A: \n",
      "[[ 1  2  3]\n",
      " [ 2  5  2]\n",
      " [ 6 -3  1]]\n",
      "B: \n",
      "[[6]\n",
      " [4]\n",
      " [2]]\n",
      "Respuesta\n",
      "[[-1.11022302e-16]\n",
      " [-6.93889390e-17]\n",
      " [ 2.00000000e+00]]\n"
     ]
    }
   ],
   "source": [
    "A1=np.array([[1, 2, 3],\n",
    "       [2, 5, 2],[6,-3,1]])\n",
    "\n",
    "B1=np.array([[6],\n",
    "       [4],[2]])\n",
    "\n",
    "inV=np.linalg.inv\n",
    "A_i=inV(A1)\n",
    "\n",
    "print(\"A: \")\n",
    "print(A)\n",
    "print(\"B: \")\n",
    "print(B)\n",
    "\n",
    "print(\"Respuesta\")\n",
    "X=A_i@B1\n",
    "print(X)\n",
    "\n"
   ]
  },
  {
   "cell_type": "code",
   "execution_count": null,
   "metadata": {},
   "outputs": [],
   "source": []
  }
 ],
 "metadata": {
  "kernelspec": {
   "display_name": "Python 3",
   "language": "python",
   "name": "python3"
  },
  "language_info": {
   "codemirror_mode": {
    "name": "ipython",
    "version": 3
   },
   "file_extension": ".py",
   "mimetype": "text/x-python",
   "name": "python",
   "nbconvert_exporter": "python",
   "pygments_lexer": "ipython3",
   "version": "3.7.1"
  }
 },
 "nbformat": 4,
 "nbformat_minor": 2
}
