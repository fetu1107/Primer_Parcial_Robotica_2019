{
 "cells": [
  {
   "cell_type": "markdown",
   "metadata": {},
   "source": [
    "MÉTODO PULP\n",
    "--\n"
   ]
  },
  {
   "cell_type": "code",
   "execution_count": 3,
   "metadata": {},
   "outputs": [
    {
     "name": "stdout",
     "output_type": "stream",
     "text": [
      "Collecting pulp\n",
      "  Downloading https://files.pythonhosted.org/packages/91/cd/8ed5d788973f6632cc44d0e95c486646c090c427c90667c901b75e544bc1/PuLP-1.6.9.zip (13.6MB)\n",
      "Requirement already satisfied: pyparsing>=2.0.1 in d:\\anaconda\\lib\\site-packages (from pulp) (2.3.0)\n",
      "Building wheels for collected packages: pulp\n",
      "  Running setup.py bdist_wheel for pulp: started\n",
      "  Running setup.py bdist_wheel for pulp: finished with status 'done'\n",
      "  Stored in directory: C:\\Users\\fetu_\\AppData\\Local\\pip\\Cache\\wheels\\3b\\f1\\f5\\f6d0aac56dd154c2593d3fa5e901aa9bc32a51bd8594b4bf8e\n",
      "Successfully built pulp\n",
      "Installing collected packages: pulp\n",
      "Successfully installed pulp-1.6.9\n"
     ]
    }
   ],
   "source": [
    "!pip install pulp"
   ]
  },
  {
   "cell_type": "code",
   "execution_count": 2,
   "metadata": {},
   "outputs": [],
   "source": [
    "from pulp import *"
   ]
  },
  {
   "cell_type": "code",
   "execution_count": 6,
   "metadata": {},
   "outputs": [],
   "source": [
    "pulp.LpVariable?"
   ]
  },
  {
   "cell_type": "code",
   "execution_count": 7,
   "metadata": {},
   "outputs": [],
   "source": [
    "mi_lp_problema = pulp.LpProblem(\"Mi LP Problema\",pulp.LpMinimize)\n",
    "\n",
    "x = pulp.LpVariable('x', lowBound=0,cat='Continuous')\n",
    "y = pulp.LpVariable('y', lowBound=0,cat='Continuous')\n",
    "\n",
    "\n",
    "#funcion objetivo\n",
    "mi_lp_problema += x + 2*y\n",
    "\n",
    "\n",
    "#Restricciones\n",
    "mi_lp_problema += 3*x + 4*y >= 1\n",
    "mi_lp_problema += 2*x + 5*y >= 2\n",
    "\n"
   ]
  },
  {
   "cell_type": "code",
   "execution_count": 8,
   "metadata": {},
   "outputs": [
    {
     "data": {
      "text/plain": [
       "Mi LP Problema:\n",
       "MINIMIZE\n",
       "1*x + 2*y + 0\n",
       "SUBJECT TO\n",
       "_C1: 3 x + 4 y >= 1\n",
       "\n",
       "_C2: 2 x + 5 y >= 2\n",
       "\n",
       "VARIABLES\n",
       "x Continuous\n",
       "y Continuous"
      ]
     },
     "execution_count": 8,
     "metadata": {},
     "output_type": "execute_result"
    }
   ],
   "source": [
    "mi_lp_problema"
   ]
  },
  {
   "cell_type": "code",
   "execution_count": 9,
   "metadata": {},
   "outputs": [
    {
     "data": {
      "text/plain": [
       "'Optimal'"
      ]
     },
     "execution_count": 9,
     "metadata": {},
     "output_type": "execute_result"
    }
   ],
   "source": [
    "mi_lp_problema.solve()\n",
    "pulp.LpStatus[mi_lp_problema.status]"
   ]
  },
  {
   "cell_type": "code",
   "execution_count": 10,
   "metadata": {
    "scrolled": true
   },
   "outputs": [
    {
     "data": {
      "text/plain": [
       "[x, y]"
      ]
     },
     "execution_count": 10,
     "metadata": {},
     "output_type": "execute_result"
    }
   ],
   "source": [
    "mi_lp_problema.variables()"
   ]
  },
  {
   "cell_type": "code",
   "execution_count": 11,
   "metadata": {},
   "outputs": [
    {
     "data": {
      "image/png": "[encoded data removed]",
      "text/latex": [
       "$$0.0$$"
      ],
      "text/plain": [
       "0.0"
      ]
     },
     "execution_count": 11,
     "metadata": {},
     "output_type": "execute_result"
    }
   ],
   "source": [
    "h = mi_lp_problema.variables()[0]\n",
    "h.varValue"
   ]
  },
  {
   "cell_type": "code",
   "execution_count": 13,
   "metadata": {},
   "outputs": [
    {
     "name": "stdout",
     "output_type": "stream",
     "text": [
      "x = 0.0\n",
      "y = 0.4\n"
     ]
    }
   ],
   "source": [
    "for variable in mi_lp_problema.variables():\n",
    "    print(\"{} = {}\".format(variable.name,variable.varValue))"
   ]
  },
  {
   "cell_type": "code",
   "execution_count": 15,
   "metadata": {},
   "outputs": [
    {
     "name": "stdout",
     "output_type": "stream",
     "text": [
      "0.8\n"
     ]
    }
   ],
   "source": [
    "print(pulp.value(mi_lp_problema.objective)) #Valor minimo de la funcion "
   ]
  },
  {
   "cell_type": "markdown",
   "metadata": {},
   "source": [
    "CVXOPT"
   ]
  },
  {
   "cell_type": "code",
   "execution_count": 1,
   "metadata": {},
   "outputs": [
    {
     "name": "stdout",
     "output_type": "stream",
     "text": [
      "Collecting cvxopt\n",
      "  Using cached https://files.pythonhosted.org/packages/4f/f3/75ad5f2d09226008ba126eb260f81f602c23ec720dd6cf1da935ec894383/cvxopt-1.2.3-cp37-cp37m-win_amd64.whl\n",
      "Requirement already satisfied: mkl in d:\\anaconda\\lib\\site-packages (from cvxopt) (2019.0)\n",
      "Requirement already satisfied: intel-openmp in d:\\anaconda\\lib\\site-packages (from mkl->cvxopt) (2019.0)\n",
      "Installing collected packages: cvxopt\n",
      "Successfully installed cvxopt-1.2.3\n"
     ]
    }
   ],
   "source": [
    "!pip install cvxopt\n",
    "#!conda install -c conda-forge cvxopt --yes"
   ]
  },
  {
   "cell_type": "code",
   "execution_count": 4,
   "metadata": {},
   "outputs": [
    {
     "name": "stdout",
     "output_type": "stream",
     "text": [
      "     pcost       dcost       gap    pres   dres   k/t\n",
      " 0:  6.7308e-01  3.7308e+00  6e+00  1e+00  5e+00  1e+00\n",
      " 1:  8.4233e-01  1.0964e+00  5e-01  1e-01  6e-01  6e-03\n",
      " 2:  8.0538e-01  8.2298e-01  2e-02  8e-03  4e-02  2e-03\n",
      " 3:  8.0005e-01  8.0026e-01  2e-04  1e-04  5e-04  3e-05\n",
      " 4:  8.0000e-01  8.0000e-01  2e-06  1e-06  5e-06  3e-07\n",
      " 5:  8.0000e-01  8.0000e-01  2e-08  1e-08  5e-08  3e-09\n",
      "Optimal solution found.\n",
      "[ 1.86e-08]\n",
      "[ 4.00e-01]\n",
      "\n"
     ]
    }
   ],
   "source": [
    "from cvxopt import matrix, solvers\n",
    "\n",
    "#restricciones\n",
    "A = matrix([[-3.0, -2.0, -1.0, 0.0],\n",
    "            [-4.0, -5.0, 0.0, -1.0]])\n",
    "\n",
    "#< a que \n",
    "b = matrix([-1.0, -2.0, 0.0, 0.0])\n",
    "\n",
    "#solver\n",
    "c = matrix([1.0, 2.0])\n",
    "sol=solvers.lp(c,A,b)\n",
    "\n",
    "print(sol['x'])"
   ]
  },
  {
   "cell_type": "markdown",
   "metadata": {},
   "source": [
    "2x1 + x2\n",
    "\n",
    "restricciones\n",
    "\n",
    "-x1 + x2 <= 1\n",
    "\n",
    "x1+ x2 >=2\n",
    "\n",
    "x2>=0\n",
    "\n",
    "x1 - 2x2<=4\n"
   ]
  },
  {
   "cell_type": "code",
   "execution_count": 8,
   "metadata": {},
   "outputs": [],
   "source": [
    "mi_lp_problema1 = pulp.LpProblem(\"Mi LP Problema\",pulp.LpMinimize)\n",
    "\n",
    "x_1 = pulp.LpVariable('x_1', lowBound=0,cat='Continuous')\n",
    "x_2 = pulp.LpVariable('x_2', lowBound=0,cat='Continuous')\n",
    "\n",
    "\n",
    "#funcion objetivo\n",
    "mi_lp_problema1 += 2*x_1 + x_2\n",
    "\n",
    "\n",
    "#Restricciones\n",
    "mi_lp_problema1 += -x_1 + x_2 <= 1\n",
    "mi_lp_problema1 +=  x_1 + x_2 >= 2\n",
    "mi_lp_problema1 +=  x_2 >= 0\n",
    "mi_lp_problema1 +=  x_1 - 2*x_2 <= 4"
   ]
  },
  {
   "cell_type": "code",
   "execution_count": 9,
   "metadata": {},
   "outputs": [
    {
     "data": {
      "text/plain": [
       "Mi LP Problema:\n",
       "MINIMIZE\n",
       "2*x_1 + 1*x_2 + 0\n",
       "SUBJECT TO\n",
       "_C1: - x_1 + x_2 <= 1\n",
       "\n",
       "_C2: x_1 + x_2 >= 2\n",
       "\n",
       "_C3: x_2 >= 0\n",
       "\n",
       "_C4: x_1 - 2 x_2 <= 4\n",
       "\n",
       "VARIABLES\n",
       "x_1 Continuous\n",
       "x_2 Continuous"
      ]
     },
     "execution_count": 9,
     "metadata": {},
     "output_type": "execute_result"
    }
   ],
   "source": [
    "mi_lp_problema1"
   ]
  },
  {
   "cell_type": "code",
   "execution_count": 14,
   "metadata": {},
   "outputs": [
    {
     "name": "stdout",
     "output_type": "stream",
     "text": [
      "x_1 = 0.5\n",
      "x_2 = 1.5\n"
     ]
    }
   ],
   "source": [
    "for variable in mi_lp_problema1.variables():\n",
    "    print(\"{} = {}\".format(variable.name,variable.varValue))"
   ]
  },
  {
   "cell_type": "code",
   "execution_count": 15,
   "metadata": {},
   "outputs": [
    {
     "name": "stdout",
     "output_type": "stream",
     "text": [
      "2.5\n"
     ]
    }
   ],
   "source": [
    "print(pulp.value(mi_lp_problema1.objective)) #Valor minimo de la funcion "
   ]
  },
  {
   "cell_type": "code",
   "execution_count": 5,
   "metadata": {},
   "outputs": [
    {
     "name": "stdout",
     "output_type": "stream",
     "text": [
      "     pcost       dcost       gap    pres   dres   k/t\n",
      " 0:  2.6471e+00 -7.0588e-01  2e+01  8e-01  2e+00  1e+00\n",
      " 1:  3.0726e+00  2.8437e+00  1e+00  1e-01  2e-01  3e-01\n",
      " 2:  2.4891e+00  2.4808e+00  1e-01  1e-02  2e-02  5e-02\n",
      " 3:  2.4999e+00  2.4998e+00  1e-03  1e-04  2e-04  5e-04\n",
      " 4:  2.5000e+00  2.5000e+00  1e-05  1e-06  2e-06  5e-06\n",
      " 5:  2.5000e+00  2.5000e+00  1e-07  1e-08  2e-08  5e-08\n",
      "Optimal solution found.\n",
      "[ 5.00e-01]\n",
      "[ 1.50e+00]\n",
      "\n"
     ]
    }
   ],
   "source": [
    "from cvxopt import matrix, solvers\n",
    "\n",
    "#restricciones\n",
    "A1 = matrix([[-1.0, -1.0, 0.0, 1.0],\n",
    "            [ 1.0, -1.0, -1.0, -2.0]])\n",
    "\n",
    "#< a que \n",
    "b1 = matrix([1.0, -2.0, 0.0, 4.0])\n",
    "\n",
    "#solver\n",
    "c1 = matrix([2.0, 1.0])\n",
    "sol1=solvers.lp(c1,A1,b1)\n",
    "\n",
    "print(sol1['x'])"
   ]
  },
  {
   "cell_type": "code",
   "execution_count": 15,
   "metadata": {},
   "outputs": [
    {
     "name": "stdout",
     "output_type": "stream",
     "text": [
      "[x_1,x_2] =  [ 5.00e-01  1.50e+00]\n",
      "\n",
      "Objetive   2.4999999895543077\n"
     ]
    }
   ],
   "source": [
    "print(\"[x_1,x_2] = \",sol1['x'].T)\n",
    "print(\"Objetive  \",sol1['primal objective'])"
   ]
  },
  {
   "cell_type": "code",
   "execution_count": 19,
   "metadata": {},
   "outputs": [
    {
     "name": "stdout",
     "output_type": "stream",
     "text": [
      "Optimization terminated successfully.\n",
      "         Current function value: 2.500000    \n",
      "         Iterations: 2\n",
      "     fun: 2.5\n",
      " message: 'Optimization terminated successfully.'\n",
      "     nit: 2\n",
      "   slack: array([0. , 6.5, 0. ])\n",
      "  status: 0\n",
      " success: True\n",
      "       x: array([0.5, 1.5])\n"
     ]
    }
   ],
   "source": [
    "from scipy.optimize import linprog\n",
    "\n",
    "c = [2,1]\n",
    "A = [[-1, 1],\n",
    "     [-1, -1],\n",
    "     [1, -2]]\n",
    "\n",
    "b = [1, -2, 4]\n",
    "\n",
    "x0_bounds = (0, None)\n",
    "x1_bounds = (0, None)\n",
    "\n",
    "res = linprog(c, A_ub=A, b_ub=b, bounds=(x0_bounds, x1_bounds), options={\"disp\":True})\n",
    "\n",
    "print(res)"
   ]
  },
  {
   "cell_type": "code",
   "execution_count": null,
   "metadata": {},
   "outputs": [],
   "source": []
  }
 ],
 "metadata": {
  "kernelspec": {
   "display_name": "Python 3",
   "language": "python",
   "name": "python3"
  },
  "language_info": {
   "codemirror_mode": {
    "name": "ipython",
    "version": 3
   },
   "file_extension": ".py",
   "mimetype": "text/x-python",
   "name": "python",
   "nbconvert_exporter": "python",
   "pygments_lexer": "ipython3",
   "version": "3.7.1"
  }
 },
 "nbformat": 4,
 "nbformat_minor": 2
}
