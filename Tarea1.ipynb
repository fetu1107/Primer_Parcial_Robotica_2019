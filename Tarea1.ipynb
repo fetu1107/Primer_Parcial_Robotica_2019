{
 "cells": [
  {
   "cell_type": "markdown",
   "metadata": {},
   "source": [
    "Robótica Industrial \n",
    "--\n",
    "\n",
    "TAREA #1      \n",
    "--\n",
    "\n",
    "Alfredo Arellano Canseco \n",
    "\n",
    "IME 0189546\n",
    "\n",
    "22 de Enero del 2019\n",
    "\n",
    "\n",
    "\n",
    "\n",
    "------------------------------------------------------------------------------------------------------------------------------------------------------------------"
   ]
  },
  {
   "cell_type": "markdown",
   "metadata": {},
   "source": [
    "Diseñar un programa que sume dos tuplas de números\n",
    "\n",
    "Diseñar un programa que pida los valores de dos vectores y realice el producto punto de estos\n",
    "\n",
    "Diseñar un programa que pida un nombre y que cambie las vocales por números (Encriptación) Ej Nombre: Michel y lo cambia a M4ch3l. utilizando diccionaros\n",
    "\n",
    "\n",
    "\n",
    "\n",
    "------------------------------------------------------------------------------------------------------------------------------------------------------------------"
   ]
  },
  {
   "cell_type": "markdown",
   "metadata": {},
   "source": [
    "Ejercicio 1)\n",
    "\n",
    "Diseñar un programa que sume dos tuplas de números"
   ]
  },
  {
   "cell_type": "code",
   "execution_count": 2,
   "metadata": {},
   "outputs": [
    {
     "name": "stdout",
     "output_type": "stream",
     "text": [
      "(2, 4, 6, 8, 10, 12)\n"
     ]
    }
   ],
   "source": [
    "#--------------------------------------------Variables----------------------------------------------------------------#\n",
    "#\n",
    "a=(1,2,3,4,5,6)\n",
    "b=(1,2,3,4,5,6)\n",
    "c=[]\n",
    "la=len(a)\n",
    "lb=len(b)\n",
    "i=0\n",
    "#\n",
    "#--------------------------------------------Código------------------------------------------------------------------#\n",
    "if la==lb:\n",
    "    while i<la:\n",
    "              c.append(a[i]+b[i])\n",
    "              i+=1\n",
    "    print(tuple(c))\n",
    "else:\n",
    "    print(\"Tuplas de longitud diferete\")\n",
    "            \n",
    "    "
   ]
  },
  {
   "cell_type": "markdown",
   "metadata": {},
   "source": [
    "------------------------------------------------------------------------------------------------------------------------------------------------------------------\n",
    "Ejercicio 2)\n",
    "\n",
    "Diseñar un programa que pida los valores de dos vectores y realice el producto punto de estos"
   ]
  },
  {
   "cell_type": "code",
   "execution_count": 1,
   "metadata": {
    "scrolled": false
   },
   "outputs": [
    {
     "name": "stdout",
     "output_type": "stream",
     "text": [
      "Tamaño de los vectores: 2\n",
      "Valores del vector 1\n",
      "Valor :1\n",
      "Valor :2\n",
      "Valores del vector 2\n",
      "Valor :3\n",
      "Valor :4\n",
      "\n",
      "Vector 1: (1, 2)\n",
      "Vector 2: (3, 4)\n",
      "Su producto punto es: 11\n"
     ]
    }
   ],
   "source": [
    "#--------------------------------------------Variables----------------------------------------------------------------#\n",
    "#\n",
    "i=0\n",
    "n1=[]\n",
    "n2=[]\n",
    "c=0\n",
    "r=0\n",
    "#\n",
    "#--------------------------------------------Código------------------------------------------------------------------#\n",
    "l=int(input(\"Tamaño de los vectores: \"))\n",
    "print(\"Valores del vector 1\")\n",
    "while i<l:    \n",
    "    n1.append(int(input(\"Valor :\")))\n",
    "    #n1.append(int(input(print(\"Valor\",i+1,\":\"))))\n",
    "    i+=1      \n",
    "i=0\n",
    "print(\"Valores del vector 2\")\n",
    "while i<l:    \n",
    "    n2.append(int(input(\"Valor :\")))\n",
    "    #n2.append(int(input(print(\"Valor\",i+1,\":\"))))\n",
    "    i+=1    \n",
    "i=0\n",
    "print(\"\")\n",
    "print(\"Vector 1:\",tuple(n1))\n",
    "print(\"Vector 2:\",tuple(n2))\n",
    "while i<l:  \n",
    "    r+=(n1[i]*n2[i])\n",
    "    i+=1\n",
    "print(\"Su producto punto es:\",r)\n",
    "\n"
   ]
  },
  {
   "cell_type": "markdown",
   "metadata": {},
   "source": [
    "------------------------------------------------------------------------------------------------------------------------------------------------------------------\n",
    "\n",
    "Ejercicio 3)\n",
    "\n",
    "\n",
    "Diseñar un programa que pida un nombre y que cambie las vocales por números (Encriptación) \n",
    "\n",
    "Ej Nombre: Michel y lo cambia a M4ch3l. utilizando diccionaros   08317  29465"
   ]
  },
  {
   "cell_type": "code",
   "execution_count": 8,
   "metadata": {},
   "outputs": [
    {
     "name": "stdout",
     "output_type": "stream",
     "text": [
      "Introduce tu nombre: Alfredo arellanO\n",
      "Nombre codificado:   2lfr8d1 0r8ll0n6"
     ]
    }
   ],
   "source": [
    "#--------------------------------------------Variables----------------------------------------------------------------#\n",
    "#\n",
    "ln=0\n",
    "i=0\n",
    "x=2\n",
    "n_c=[]\n",
    "d={\"a\":\"0\",\"e\":\"8\",\"i\":\"3\",\"o\":\"1\",\"u\":\"7\",\"A\":\"2\",\"E\":\"9\",\"I\":\"4\",\"O\":\"6\",\"U\":\"5\"}\n",
    "#\n",
    "#--------------------------------------------Código------------------------------------------------------------------#\n",
    "nombre=input(\"Introduce tu nombre: \")\n",
    "#print(len(nombre))\n",
    "ln=len(nombre)\n",
    "#print(\"tipo \",type(nombre))\n",
    "while i<ln: \n",
    "    for k, v in d.items():  #Este for barre el diccionario para encontrar las vocales\n",
    "        if nombre[i] == k:\n",
    "            n_c.append(v)\n",
    "            x=1\n",
    "    #print(\"banderas\",x,\"iteracion\",i+1)     #print para poder monitorear estado de las banderas\n",
    "    if x == 2:\n",
    "        n_c.append(nombre[i])\n",
    "    else:\n",
    "        x=2\n",
    "   # print(\"a\",n_c)\n",
    "    i+=1\n",
    "\n",
    "i=0\n",
    "print(\"Nombre codificado:   \", end=\"\")\n",
    "while i<ln: \n",
    "    print(n_c[i], end=\"\")\n",
    "    i+=1\n",
    "    \n",
    "    \n",
    "#for x in range"
   ]
  },
  {
   "cell_type": "code",
   "execution_count": null,
   "metadata": {},
   "outputs": [],
   "source": []
  }
 ],
 "metadata": {
  "kernelspec": {
   "display_name": "Python 3",
   "language": "python",
   "name": "python3"
  },
  "language_info": {
   "codemirror_mode": {
    "name": "ipython",
    "version": 3
   },
   "file_extension": ".py",
   "mimetype": "text/x-python",
   "name": "python",
   "nbconvert_exporter": "python",
   "pygments_lexer": "ipython3",
   "version": "3.7.1"
  }
 },
 "nbformat": 4,
 "nbformat_minor": 2
}
