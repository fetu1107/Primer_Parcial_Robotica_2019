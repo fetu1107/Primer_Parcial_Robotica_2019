{
 "cells": [
  {
   "cell_type": "code",
   "execution_count": 9,
   "metadata": {},
   "outputs": [
    {
     "name": "stdout",
     "output_type": "stream",
     "text": [
      "Hola Mundo\n",
      "Hola Mundo\n",
      "Hola Mundo\n"
     ]
    }
   ],
   "source": [
    "def saludo():\n",
    "    print(\"Hola Mundo\")\n",
    "    \n",
    "\n",
    "saludo()\n",
    "saludo()\n",
    "saludo()"
   ]
  },
  {
   "cell_type": "code",
   "execution_count": 10,
   "metadata": {},
   "outputs": [],
   "source": [
    "def tres_saludos():\n",
    "        saludo()\n",
    "        saludo()\n",
    "        saludo()\n",
    "    \n",
    "    "
   ]
  },
  {
   "cell_type": "code",
   "execution_count": 11,
   "metadata": {},
   "outputs": [
    {
     "name": "stdout",
     "output_type": "stream",
     "text": [
      "Hola Mundo\n",
      "Hola Mundo\n",
      "Hola Mundo\n"
     ]
    }
   ],
   "source": [
    "tres_saludos()"
   ]
  },
  {
   "cell_type": "code",
   "execution_count": 12,
   "metadata": {},
   "outputs": [],
   "source": [
    "def tres_saludos():\n",
    "    for i in range(3):\n",
    "        saludo()"
   ]
  },
  {
   "cell_type": "code",
   "execution_count": 14,
   "metadata": {},
   "outputs": [
    {
     "name": "stdout",
     "output_type": "stream",
     "text": [
      "Hola Mundo\n",
      "Hola Mundo\n",
      "Hola Mundo\n"
     ]
    }
   ],
   "source": [
    "tres_saludos()"
   ]
  },
  {
   "cell_type": "code",
   "execution_count": 15,
   "metadata": {},
   "outputs": [],
   "source": [
    "def media_1():\n",
    "    media = (2+4)/2\n",
    "    print(\"La media es :\",media)"
   ]
  },
  {
   "cell_type": "code",
   "execution_count": 16,
   "metadata": {},
   "outputs": [
    {
     "name": "stdout",
     "output_type": "stream",
     "text": [
      "La media es : 3.0\n"
     ]
    }
   ],
   "source": [
    "media_1()"
   ]
  },
  {
   "cell_type": "markdown",
   "metadata": {},
   "source": [
    "Funciones con parametros\n",
    "--"
   ]
  },
  {
   "cell_type": "code",
   "execution_count": 19,
   "metadata": {},
   "outputs": [],
   "source": [
    "def media_2 (a,b):\n",
    "    media=(a+b)/2\n",
    "    print(\"La media es: \",media)"
   ]
  },
  {
   "cell_type": "code",
   "execution_count": 20,
   "metadata": {},
   "outputs": [
    {
     "name": "stdout",
     "output_type": "stream",
     "text": [
      "La media es:  2.5\n"
     ]
    }
   ],
   "source": [
    "media_2(1,4)"
   ]
  },
  {
   "cell_type": "code",
   "execution_count": 22,
   "metadata": {},
   "outputs": [
    {
     "name": "stdout",
     "output_type": "stream",
     "text": [
      "HolaMundo\n",
      "7\n",
      "[1, 2, 3, 4, 5, 6]\n"
     ]
    }
   ],
   "source": [
    "def suma(a,b):\n",
    "    print(a+b)\n",
    "suma(\"Hola\",\"Mundo\"), suma(2,5),suma([1,2,3],[4,5,6]);\n"
   ]
  },
  {
   "cell_type": "markdown",
   "metadata": {},
   "source": [
    "Parámetro por omisión\n",
    "--"
   ]
  },
  {
   "cell_type": "code",
   "execution_count": 24,
   "metadata": {},
   "outputs": [
    {
     "name": "stdout",
     "output_type": "stream",
     "text": [
      "La media es:  4.0\n",
      "La media es:  7.0\n"
     ]
    }
   ],
   "source": [
    "def media_3 (a,b=5):\n",
    "    media=(a+b)/2\n",
    "    print(\"La media es: \",media)\n",
    "\n",
    "media_3(3)\n",
    "media_3(4,10)"
   ]
  },
  {
   "cell_type": "code",
   "execution_count": 30,
   "metadata": {},
   "outputs": [
    {
     "name": "stdout",
     "output_type": "stream",
     "text": [
      "Hola Mundo\n",
      "Hola MUDO\n",
      "Que tal Mundo\n",
      "Buen día Mundo\n",
      "Mundo HOLA\n"
     ]
    }
   ],
   "source": [
    "def saluda(nombre=\"Mundo\", mensaje='Hola'):\n",
    "    print (mensaje, nombre)\n",
    "\n",
    "saluda()\n",
    "saluda(\"MUDO\")\n",
    "saluda(mensaje=\"Que tal\")\n",
    "saluda(mensaje=\"Buen día\",nombre=\"Mundo\")\n",
    "\n",
    "saluda(\"HOLA\",mensaje=\"Mundo\")"
   ]
  },
  {
   "cell_type": "code",
   "execution_count": 32,
   "metadata": {},
   "outputs": [],
   "source": [
    "def media_4(a,b):\n",
    "    media=(a+b)/2\n",
    "    return media"
   ]
  },
  {
   "cell_type": "code",
   "execution_count": 33,
   "metadata": {},
   "outputs": [
    {
     "name": "stdout",
     "output_type": "stream",
     "text": [
      "La media es 4.5\n"
     ]
    }
   ],
   "source": [
    "media1234 = media_4(4,5)\n",
    "print(\"La media es\", media1234)"
   ]
  },
  {
   "cell_type": "code",
   "execution_count": 34,
   "metadata": {},
   "outputs": [
    {
     "name": "stdout",
     "output_type": "stream",
     "text": [
      "La media es 4.5\n"
     ]
    }
   ],
   "source": [
    "print(\"La media es\", media_4(4,5))"
   ]
  },
  {
   "cell_type": "markdown",
   "metadata": {},
   "source": [
    "TAREA\n",
    "--\n",
    "\n",
    "Crear funciones para realizar las siguientes operaciones:\n",
    "\n",
    "a+b+c+d\n",
    "\n",
    "$x^2$\n",
    "\n",
    "\n",
    "Dada una lista de elementos calcular la media y desviación estandar"
   ]
  },
  {
   "cell_type": "code",
   "execution_count": 40,
   "metadata": {},
   "outputs": [
    {
     "name": "stdout",
     "output_type": "stream",
     "text": [
      "Tu suma es: 10\n"
     ]
    }
   ],
   "source": [
    "def fcn_suma (a,b,c,d):\n",
    "    res=a+b+c+d\n",
    "    return res\n",
    "\n",
    "print(\"Tu suma es:\",fcn_suma(1,2,3,4))"
   ]
  },
  {
   "cell_type": "code",
   "execution_count": 41,
   "metadata": {},
   "outputs": [
    {
     "name": "stdout",
     "output_type": "stream",
     "text": [
      "Tu respuesta es: 4\n"
     ]
    }
   ],
   "source": [
    "def fcn_pow(a):\n",
    "    p=a**2\n",
    "    return p\n",
    "\n",
    "print(\"Tu respuesta es:\",fcn_pow(2))"
   ]
  },
  {
   "cell_type": "code",
   "execution_count": 47,
   "metadata": {},
   "outputs": [
    {
     "name": "stdout",
     "output_type": "stream",
     "text": [
      "Tu respuesta es: 4\n"
     ]
    }
   ],
   "source": [
    "def fcn_pow(v,p):\n",
    "    a=v**p\n",
    "    return a \n",
    "\n",
    "print(\"Tu respuesta es:\",fcn_pow(2,2))"
   ]
  },
  {
   "cell_type": "code",
   "execution_count": 77,
   "metadata": {},
   "outputs": [
    {
     "name": "stdout",
     "output_type": "stream",
     "text": [
      "[4, 1, 25, 16, 25, 64, 49]\n",
      "[64, 49, 16, 25]\n",
      "[1]\n"
     ]
    }
   ],
   "source": [
    "l=[8,7,4,5]\n",
    "def fcn_pow(v,p):\n",
    "    r=[]\n",
    "    z=len(v)\n",
    "    for i in range(z):\n",
    "        a=v[i]**p\n",
    "        r.append(a)\n",
    "        #print(a)\n",
    "    print(r)\n",
    "fcn_pow([2,1,5,4,5,8,7],2)\n",
    "fcn_pow(l,2)\n",
    "fcn_pow([1],2)"
   ]
  },
  {
   "cell_type": "code",
   "execution_count": 78,
   "metadata": {},
   "outputs": [],
   "source": [
    "from math import *"
   ]
  },
  {
   "cell_type": "code",
   "execution_count": 79,
   "metadata": {},
   "outputs": [
    {
     "data": {
      "text/plain": [
       "3.0"
      ]
     },
     "execution_count": 79,
     "metadata": {},
     "output_type": "execute_result"
    }
   ],
   "source": [
    "sqrt(9)"
   ]
  },
  {
   "cell_type": "code",
   "execution_count": 81,
   "metadata": {},
   "outputs": [
    {
     "data": {
      "text/plain": [
       "2.23606797749979"
      ]
     },
     "execution_count": 81,
     "metadata": {},
     "output_type": "execute_result"
    }
   ],
   "source": [
    "sqrt(5)\n"
   ]
  },
  {
   "cell_type": "markdown",
   "metadata": {},
   "source": [
    "ÁMBITO GLOBAL\n",
    "--"
   ]
  },
  {
   "cell_type": "code",
   "execution_count": 82,
   "metadata": {},
   "outputs": [
    {
     "name": "stdout",
     "output_type": "stream",
     "text": [
      "Tu numero es 10\n"
     ]
    }
   ],
   "source": [
    "def fcn_1():\n",
    "    print(\"Tu numero es\", variable_global)\n",
    "    \n",
    "variable_global=10\n",
    "fcn_1()"
   ]
  },
  {
   "cell_type": "code",
   "execution_count": 86,
   "metadata": {},
   "outputs": [
    {
     "name": "stdout",
     "output_type": "stream",
     "text": [
      "Tu numero es 10\n",
      "Tu numero es 1\n",
      "Tu numero es 2\n",
      "Tu numero tambien es 3\n"
     ]
    }
   ],
   "source": [
    "def fcn_1():\n",
    "    variable_global=10\n",
    "    print(\"Tu numero es\", variable_global)\n",
    "\n",
    "def fcn_2():\n",
    "    global variable_global\n",
    "    print(\"Tu numero es\", variable_global)\n",
    "    variable_global=2\n",
    "    \n",
    "def fcn_3():\n",
    "    global variable_global\n",
    "    print(\"Tu numero es\", variable_global)\n",
    "    variable_global=3\n",
    "\n",
    "\n",
    "variable_global=1\n",
    "fcn_1()\n",
    "fcn_2()\n",
    "fcn_3()\n",
    "\n",
    "print(\"Tu numero tambien es\", variable_global)"
   ]
  },
  {
   "cell_type": "markdown",
   "metadata": {},
   "source": [
    "Argumentos indefinidos\n",
    "--"
   ]
  },
  {
   "cell_type": "code",
   "execution_count": 91,
   "metadata": {},
   "outputs": [
    {
     "name": "stdout",
     "output_type": "stream",
     "text": [
      "1\n",
      "2\n",
      "3\n",
      "4\n",
      "HOLA\n"
     ]
    }
   ],
   "source": [
    "def varios(param1,param2, *otros):\n",
    "    \n",
    "    print(param1)\n",
    "    print(param2)\n",
    "    for val in otros:\n",
    "        print (val)\n",
    "        \n",
    "        \n",
    "varios(1,2,3,4,\"HOLA\")\n",
    "\n"
   ]
  },
  {
   "cell_type": "code",
   "execution_count": 94,
   "metadata": {},
   "outputs": [
    {
     "name": "stdout",
     "output_type": "stream",
     "text": [
      "nombre Michel\n",
      "apellido Lozano\n",
      "a 43\n"
     ]
    }
   ],
   "source": [
    "def Nombres(**kwargs):\n",
    "    for key in kwargs:\n",
    "        print(key,kwargs[key])\n",
    "        \n",
    "Nombres(nombre=\"Michel\",apellido=\"Lozano\",a=43)"
   ]
  },
  {
   "cell_type": "code",
   "execution_count": 98,
   "metadata": {},
   "outputs": [
    {
     "name": "stdout",
     "output_type": "stream",
     "text": [
      "50\n",
      "20\n",
      "10\n",
      "200\n"
     ]
    }
   ],
   "source": [
    "def Area(**kwargs):\n",
    "    Base= kwargs.get(\"base\",2)\n",
    "    Altura = kwargs.get(\"altura\",5)\n",
    "    return Base*Altura\n",
    "\n",
    "print(Area(base=10))\n",
    "print(Area(altura=10))\n",
    "print(Area())\n",
    "print(Area(base=10,altura=20))"
   ]
  },
  {
   "cell_type": "code",
   "execution_count": 99,
   "metadata": {},
   "outputs": [
    {
     "name": "stdout",
     "output_type": "stream",
     "text": [
      "c\n",
      "error\n"
     ]
    }
   ],
   "source": [
    "def mi_switch(i):\n",
    "    return { 0:\"a\",\n",
    "             1:\"b\",\n",
    "             2:\"c\",\n",
    "             3:\"d\"}.get(i,\"error\")\n",
    "print(mi_switch(2))\n",
    "print(mi_switch(6))"
   ]
  },
  {
   "cell_type": "code",
   "execution_count": 100,
   "metadata": {},
   "outputs": [
    {
     "name": "stdout",
     "output_type": "stream",
     "text": [
      "6\n",
      "6\n",
      "6\n"
     ]
    }
   ],
   "source": [
    "def suma(a,b,c):\n",
    "    print(a+b+c)\n",
    "    \n",
    "    \n",
    "a=[1,2,3]\n",
    "suma(*a)\n",
    "b=(1,2,3)\n",
    "suma(*b)\n",
    "d={\"a\":1,\"b\":2,\"c\":3}\n",
    "suma(**d)"
   ]
  },
  {
   "cell_type": "code",
   "execution_count": 101,
   "metadata": {},
   "outputs": [
    {
     "data": {
      "text/plain": [
       "10"
      ]
     },
     "execution_count": 101,
     "metadata": {},
     "output_type": "execute_result"
    }
   ],
   "source": [
    "f = lambda x: x*5\n",
    "f(2)"
   ]
  },
  {
   "cell_type": "code",
   "execution_count": 102,
   "metadata": {},
   "outputs": [],
   "source": [
    "def f(x):\n",
    "    return x*5"
   ]
  },
  {
   "cell_type": "code",
   "execution_count": 103,
   "metadata": {},
   "outputs": [
    {
     "data": {
      "text/plain": [
       "10"
      ]
     },
     "execution_count": 103,
     "metadata": {},
     "output_type": "execute_result"
    }
   ],
   "source": [
    "f(2)"
   ]
  },
  {
   "cell_type": "markdown",
   "metadata": {},
   "source": [
    "TAREA 2\n",
    "--\n",
    "\n",
    "Diseñar una funcion que calcule media de cualquier cantidad de valores\n",
    "\n",
    "Diseña una funcion que reciba dos parametros uno e una losta de enteros el otro sera un valor que se le pida al usuario y este se buscara en la lista "
   ]
  },
  {
   "cell_type": "code",
   "execution_count": null,
   "metadata": {},
   "outputs": [],
   "source": []
  }
 ],
 "metadata": {
  "kernelspec": {
   "display_name": "Python 3",
   "language": "python",
   "name": "python3"
  },
  "language_info": {
   "codemirror_mode": {
    "name": "ipython",
    "version": 3
   },
   "file_extension": ".py",
   "mimetype": "text/x-python",
   "name": "python",
   "nbconvert_exporter": "python",
   "pygments_lexer": "ipython3",
   "version": "3.7.1"
  }
 },
 "nbformat": 4,
 "nbformat_minor": 2
}
