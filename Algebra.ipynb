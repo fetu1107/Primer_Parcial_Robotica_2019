{
 "cells": [
  {
   "cell_type": "code",
   "execution_count": 2,
   "metadata": {},
   "outputs": [],
   "source": [
    "%matplotlib notebook\n",
    "import matplotlib.pyplot as plt\n",
    "from sympy import *\n",
    "init_printing()"
   ]
  },
  {
   "cell_type": "code",
   "execution_count": 3,
   "metadata": {},
   "outputs": [],
   "source": [
    "x, y = var(\"x y\")"
   ]
  },
  {
   "cell_type": "code",
   "execution_count": 94,
   "metadata": {},
   "outputs": [
    {
     "data": {
      "image/png": "[encoded data removed]",
      "text/latex": [
       "$$x^{3} - 3 x^{2} - 24 x + 32$$"
      ],
      "text/plain": [
       " 3      2            \n",
       "x  - 3⋅x  - 24⋅x + 32"
      ]
     },
     "execution_count": 94,
     "metadata": {},
     "output_type": "execute_result"
    }
   ],
   "source": [
    "f = x**3 - 3 * x**2 -24 * x + +32\n",
    "f"
   ]
  },
  {
   "cell_type": "code",
   "execution_count": 95,
   "metadata": {},
   "outputs": [
    {
     "data": {
      "application/javascript": [
       "/* Put everything inside the global mpl namespace */\n",
       "window.mpl = {};\n",
       "\n",
       "\n",
       "mpl.get_websocket_type = function() {\n",
       "    if (typeof(WebSocket) !== 'undefined') {\n",
       "        return WebSocket;\n",
       "    } else if (typeof(MozWebSocket) !== 'undefined') {\n",
       "        return MozWebSocket;\n",
       "    } else {\n",
       "        alert('Your browser does not have WebSocket support.' +\n",
       "              'Please try Chrome, Safari or Firefox ≥ 6. ' +\n",
       "              'Firefox 4 and 5 are also supported but you ' +\n",
       "              'have to enable WebSockets in about:config.');\n",
       "    };\n",
       "}\n",
       "\n",
       "mpl.figure = function(figure_id, websocket, ondownload, parent_element) {\n",
       "    this.id = figure_id;\n",
       "\n",
       "    this.ws = websocket;\n",
       "\n",
       "    this.supports_binary = (this.ws.binaryType != undefined);\n",
       "\n",
       "    if (!this.supports_binary) {\n",
       "        var warnings = document.getElementById(\"mpl-warnings\");\n",
       "        if (warnings) {\n",
       "            warnings.style.display = 'block';\n",
       "            warnings.textContent = (\n",
       "                \"This browser does not support binary websocket messages. \" +\n",
       "                    \"Performance may be slow.\");\n",
       "        }\n",
       "    }\n",
       "\n",
       "    this.imageObj = new Image();\n",
       "\n",
       "    this.context = undefined;\n",
       "    this.message = undefined;\n",
       "    this.canvas = undefined;\n",
       "    this.rubberband_canvas = undefined;\n",
       "    this.rubberband_context = undefined;\n",
       "    this.format_dropdown = undefined;\n",
       "\n",
       "    this.image_mode = 'full';\n",
       "\n",
       "    this.root = $('<div/>');\n",
       "    this._root_extra_style(this.root)\n",
       "    this.root.attr('style', 'display: inline-block');\n",
       "\n",
       "    $(parent_element).append(this.root);\n",
       "\n",
       "    this._init_header(this);\n",
       "    this._init_canvas(this);\n",
       "    this._init_toolbar(this);\n",
       "\n",
       "    var fig = this;\n",
       "\n",
       "    this.waiting = false;\n",
       "\n",
       "    this.ws.onopen =  function () {\n",
       "            fig.send_message(\"supports_binary\", {value: fig.supports_binary});\n",
       "            fig.send_message(\"send_image_mode\", {});\n",
       "            if (mpl.ratio != 1) {\n",
       "                fig.send_message(\"set_dpi_ratio\", {'dpi_ratio': mpl.ratio});\n",
       "            }\n",
       "            fig.send_message(\"refresh\", {});\n",
       "        }\n",
       "\n",
       "    this.imageObj.onload = function() {\n",
       "            if (fig.image_mode == 'full') {\n",
       "                // Full images could contain transparency (where diff images\n",
       "                // almost always do), so we need to clear the canvas so that\n",
       "                // there is no ghosting.\n",
       "                fig.context.clearRect(0, 0, fig.canvas.width, fig.canvas.height);\n",
       "            }\n",
       "            fig.context.drawImage(fig.imageObj, 0, 0);\n",
       "        };\n",
       "\n",
       "    this.imageObj.onunload = function() {\n",
       "        fig.ws.close();\n",
       "    }\n",
       "\n",
       "    this.ws.onmessage = this._make_on_message_function(this);\n",
       "\n",
       "    this.ondownload = ondownload;\n",
       "}\n",
       "\n",
       "mpl.figure.prototype._init_header = function() {\n",
       "    var titlebar = $(\n",
       "        '<div class=\"ui-dialog-titlebar ui-widget-header ui-corner-all ' +\n",
       "        'ui-helper-clearfix\"/>');\n",
       "    var titletext = $(\n",
       "        '<div class=\"ui-dialog-title\" style=\"width: 100%; ' +\n",
       "        'text-align: center; padding: 3px;\"/>');\n",
       "    titlebar.append(titletext)\n",
       "    this.root.append(titlebar);\n",
       "    this.header = titletext[0];\n",
       "}\n",
       "\n",
       "\n",
       "\n",
       "mpl.figure.prototype._canvas_extra_style = function(canvas_div) {\n",
       "\n",
       "}\n",
       "\n",
       "\n",
       "mpl.figure.prototype._root_extra_style = function(canvas_div) {\n",
       "\n",
       "}\n",
       "\n",
       "mpl.figure.prototype._init_canvas = function() {\n",
       "    var fig = this;\n",
       "\n",
       "    var canvas_div = $('<div/>');\n",
       "\n",
       "    canvas_div.attr('style', 'position: relative; clear: both; outline: 0');\n",
       "\n",
       "    function canvas_keyboard_event(event) {\n",
       "        return fig.key_event(event, event['data']);\n",
       "    }\n",
       "\n",
       "    canvas_div.keydown('key_press', canvas_keyboard_event);\n",
       "    canvas_div.keyup('key_release', canvas_keyboard_event);\n",
       "    this.canvas_div = canvas_div\n",
       "    this._canvas_extra_style(canvas_div)\n",
       "    this.root.append(canvas_div);\n",
       "\n",
       "    var canvas = $('<canvas/>');\n",
       "    canvas.addClass('mpl-canvas');\n",
       "    canvas.attr('style', \"left: 0; top: 0; z-index: 0; outline: 0\")\n",
       "\n",
       "    this.canvas = canvas[0];\n",
       "    this.context = canvas[0].getContext(\"2d\");\n",
       "\n",
       "    var backingStore = this.context.backingStorePixelRatio ||\n",
       "\tthis.context.webkitBackingStorePixelRatio ||\n",
       "\tthis.context.mozBackingStorePixelRatio ||\n",
       "\tthis.context.msBackingStorePixelRatio ||\n",
       "\tthis.context.oBackingStorePixelRatio ||\n",
       "\tthis.context.backingStorePixelRatio || 1;\n",
       "\n",
       "    mpl.ratio = (window.devicePixelRatio || 1) / backingStore;\n",
       "\n",
       "    var rubberband = $('<canvas/>');\n",
       "    rubberband.attr('style', \"position: absolute; left: 0; top: 0; z-index: 1;\")\n",
       "\n",
       "    var pass_mouse_events = true;\n",
       "\n",
       "    canvas_div.resizable({\n",
       "        start: function(event, ui) {\n",
       "            pass_mouse_events = false;\n",
       "        },\n",
       "        resize: function(event, ui) {\n",
       "            fig.request_resize(ui.size.width, ui.size.height);\n",
       "        },\n",
       "        stop: function(event, ui) {\n",
       "            pass_mouse_events = true;\n",
       "            fig.request_resize(ui.size.width, ui.size.height);\n",
       "        },\n",
       "    });\n",
       "\n",
       "    function mouse_event_fn(event) {\n",
       "        if (pass_mouse_events)\n",
       "            return fig.mouse_event(event, event['data']);\n",
       "    }\n",
       "\n",
       "    rubberband.mousedown('button_press', mouse_event_fn);\n",
       "    rubberband.mouseup('button_release', mouse_event_fn);\n",
       "    // Throttle sequential mouse events to 1 every 20ms.\n",
       "    rubberband.mousemove('motion_notify', mouse_event_fn);\n",
       "\n",
       "    rubberband.mouseenter('figure_enter', mouse_event_fn);\n",
       "    rubberband.mouseleave('figure_leave', mouse_event_fn);\n",
       "\n",
       "    canvas_div.on(\"wheel\", function (event) {\n",
       "        event = event.originalEvent;\n",
       "        event['data'] = 'scroll'\n",
       "        if (event.deltaY < 0) {\n",
       "            event.step = 1;\n",
       "        } else {\n",
       "            event.step = -1;\n",
       "        }\n",
       "        mouse_event_fn(event);\n",
       "    });\n",
       "\n",
       "    canvas_div.append(canvas);\n",
       "    canvas_div.append(rubberband);\n",
       "\n",
       "    this.rubberband = rubberband;\n",
       "    this.rubberband_canvas = rubberband[0];\n",
       "    this.rubberband_context = rubberband[0].getContext(\"2d\");\n",
       "    this.rubberband_context.strokeStyle = \"#000000\";\n",
       "\n",
       "    this._resize_canvas = function(width, height) {\n",
       "        // Keep the size of the canvas, canvas container, and rubber band\n",
       "        // canvas in synch.\n",
       "        canvas_div.css('width', width)\n",
       "        canvas_div.css('height', height)\n",
       "\n",
       "        canvas.attr('width', width * mpl.ratio);\n",
       "        canvas.attr('height', height * mpl.ratio);\n",
       "        canvas.attr('style', 'width: ' + width + 'px; height: ' + height + 'px;');\n",
       "\n",
       "        rubberband.attr('width', width);\n",
       "        rubberband.attr('height', height);\n",
       "    }\n",
       "\n",
       "    // Set the figure to an initial 600x600px, this will subsequently be updated\n",
       "    // upon first draw.\n",
       "    this._resize_canvas(600, 600);\n",
       "\n",
       "    // Disable right mouse context menu.\n",
       "    $(this.rubberband_canvas).bind(\"contextmenu\",function(e){\n",
       "        return false;\n",
       "    });\n",
       "\n",
       "    function set_focus () {\n",
       "        canvas.focus();\n",
       "        canvas_div.focus();\n",
       "    }\n",
       "\n",
       "    window.setTimeout(set_focus, 100);\n",
       "}\n",
       "\n",
       "mpl.figure.prototype._init_toolbar = function() {\n",
       "    var fig = this;\n",
       "\n",
       "    var nav_element = $('<div/>')\n",
       "    nav_element.attr('style', 'width: 100%');\n",
       "    this.root.append(nav_element);\n",
       "\n",
       "    // Define a callback function for later on.\n",
       "    function toolbar_event(event) {\n",
       "        return fig.toolbar_button_onclick(event['data']);\n",
       "    }\n",
       "    function toolbar_mouse_event(event) {\n",
       "        return fig.toolbar_button_onmouseover(event['data']);\n",
       "    }\n",
       "\n",
       "    for(var toolbar_ind in mpl.toolbar_items) {\n",
       "        var name = mpl.toolbar_items[toolbar_ind][0];\n",
       "        var tooltip = mpl.toolbar_items[toolbar_ind][1];\n",
       "        var image = mpl.toolbar_items[toolbar_ind][2];\n",
       "        var method_name = mpl.toolbar_items[toolbar_ind][3];\n",
       "\n",
       "        if (!name) {\n",
       "            // put a spacer in here.\n",
       "            continue;\n",
       "        }\n",
       "        var button = $('<button/>');\n",
       "        button.addClass('ui-button ui-widget ui-state-default ui-corner-all ' +\n",
       "                        'ui-button-icon-only');\n",
       "        button.attr('role', 'button');\n",
       "        button.attr('aria-disabled', 'false');\n",
       "        button.click(method_name, toolbar_event);\n",
       "        button.mouseover(tooltip, toolbar_mouse_event);\n",
       "\n",
       "        var icon_img = $('<span/>');\n",
       "        icon_img.addClass('ui-button-icon-primary ui-icon');\n",
       "        icon_img.addClass(image);\n",
       "        icon_img.addClass('ui-corner-all');\n",
       "\n",
       "        var tooltip_span = $('<span/>');\n",
       "        tooltip_span.addClass('ui-button-text');\n",
       "        tooltip_span.html(tooltip);\n",
       "\n",
       "        button.append(icon_img);\n",
       "        button.append(tooltip_span);\n",
       "\n",
       "        nav_element.append(button);\n",
       "    }\n",
       "\n",
       "    var fmt_picker_span = $('<span/>');\n",
       "\n",
       "    var fmt_picker = $('<select/>');\n",
       "    fmt_picker.addClass('mpl-toolbar-option ui-widget ui-widget-content');\n",
       "    fmt_picker_span.append(fmt_picker);\n",
       "    nav_element.append(fmt_picker_span);\n",
       "    this.format_dropdown = fmt_picker[0];\n",
       "\n",
       "    for (var ind in mpl.extensions) {\n",
       "        var fmt = mpl.extensions[ind];\n",
       "        var option = $(\n",
       "            '<option/>', {selected: fmt === mpl.default_extension}).html(fmt);\n",
       "        fmt_picker.append(option)\n",
       "    }\n",
       "\n",
       "    // Add hover states to the ui-buttons\n",
       "    $( \".ui-button\" ).hover(\n",
       "        function() { $(this).addClass(\"ui-state-hover\");},\n",
       "        function() { $(this).removeClass(\"ui-state-hover\");}\n",
       "    );\n",
       "\n",
       "    var status_bar = $('<span class=\"mpl-message\"/>');\n",
       "    nav_element.append(status_bar);\n",
       "    this.message = status_bar[0];\n",
       "}\n",
       "\n",
       "mpl.figure.prototype.request_resize = function(x_pixels, y_pixels) {\n",
       "    // Request matplotlib to resize the figure. Matplotlib will then trigger a resize in the client,\n",
       "    // which will in turn request a refresh of the image.\n",
       "    this.send_message('resize', {'width': x_pixels, 'height': y_pixels});\n",
       "}\n",
       "\n",
       "mpl.figure.prototype.send_message = function(type, properties) {\n",
       "    properties['type'] = type;\n",
       "    properties['figure_id'] = this.id;\n",
       "    this.ws.send(JSON.stringify(properties));\n",
       "}\n",
       "\n",
       "mpl.figure.prototype.send_draw_message = function() {\n",
       "    if (!this.waiting) {\n",
       "        this.waiting = true;\n",
       "        this.ws.send(JSON.stringify({type: \"draw\", figure_id: this.id}));\n",
       "    }\n",
       "}\n",
       "\n",
       "\n",
       "mpl.figure.prototype.handle_save = function(fig, msg) {\n",
       "    var format_dropdown = fig.format_dropdown;\n",
       "    var format = format_dropdown.options[format_dropdown.selectedIndex].value;\n",
       "    fig.ondownload(fig, format);\n",
       "}\n",
       "\n",
       "\n",
       "mpl.figure.prototype.handle_resize = function(fig, msg) {\n",
       "    var size = msg['size'];\n",
       "    if (size[0] != fig.canvas.width || size[1] != fig.canvas.height) {\n",
       "        fig._resize_canvas(size[0], size[1]);\n",
       "        fig.send_message(\"refresh\", {});\n",
       "    };\n",
       "}\n",
       "\n",
       "mpl.figure.prototype.handle_rubberband = function(fig, msg) {\n",
       "    var x0 = msg['x0'] / mpl.ratio;\n",
       "    var y0 = (fig.canvas.height - msg['y0']) / mpl.ratio;\n",
       "    var x1 = msg['x1'] / mpl.ratio;\n",
       "    var y1 = (fig.canvas.height - msg['y1']) / mpl.ratio;\n",
       "    x0 = Math.floor(x0) + 0.5;\n",
       "    y0 = Math.floor(y0) + 0.5;\n",
       "    x1 = Math.floor(x1) + 0.5;\n",
       "    y1 = Math.floor(y1) + 0.5;\n",
       "    var min_x = Math.min(x0, x1);\n",
       "    var min_y = Math.min(y0, y1);\n",
       "    var width = Math.abs(x1 - x0);\n",
       "    var height = Math.abs(y1 - y0);\n",
       "\n",
       "    fig.rubberband_context.clearRect(\n",
       "        0, 0, fig.canvas.width, fig.canvas.height);\n",
       "\n",
       "    fig.rubberband_context.strokeRect(min_x, min_y, width, height);\n",
       "}\n",
       "\n",
       "mpl.figure.prototype.handle_figure_label = function(fig, msg) {\n",
       "    // Updates the figure title.\n",
       "    fig.header.textContent = msg['label'];\n",
       "}\n",
       "\n",
       "mpl.figure.prototype.handle_cursor = function(fig, msg) {\n",
       "    var cursor = msg['cursor'];\n",
       "    switch(cursor)\n",
       "    {\n",
       "    case 0:\n",
       "        cursor = 'pointer';\n",
       "        break;\n",
       "    case 1:\n",
       "        cursor = 'default';\n",
       "        break;\n",
       "    case 2:\n",
       "        cursor = 'crosshair';\n",
       "        break;\n",
       "    case 3:\n",
       "        cursor = 'move';\n",
       "        break;\n",
       "    }\n",
       "    fig.rubberband_canvas.style.cursor = cursor;\n",
       "}\n",
       "\n",
       "mpl.figure.prototype.handle_message = function(fig, msg) {\n",
       "    fig.message.textContent = msg['message'];\n",
       "}\n",
       "\n",
       "mpl.figure.prototype.handle_draw = function(fig, msg) {\n",
       "    // Request the server to send over a new figure.\n",
       "    fig.send_draw_message();\n",
       "}\n",
       "\n",
       "mpl.figure.prototype.handle_image_mode = function(fig, msg) {\n",
       "    fig.image_mode = msg['mode'];\n",
       "}\n",
       "\n",
       "mpl.figure.prototype.updated_canvas_event = function() {\n",
       "    // Called whenever the canvas gets updated.\n",
       "    this.send_message(\"ack\", {});\n",
       "}\n",
       "\n",
       "// A function to construct a web socket function for onmessage handling.\n",
       "// Called in the figure constructor.\n",
       "mpl.figure.prototype._make_on_message_function = function(fig) {\n",
       "    return function socket_on_message(evt) {\n",
       "        if (evt.data instanceof Blob) {\n",
       "            /* FIXME: We get \"Resource interpreted as Image but\n",
       "             * transferred with MIME type text/plain:\" errors on\n",
       "             * Chrome.  But how to set the MIME type?  It doesn't seem\n",
       "             * to be part of the websocket stream */\n",
       "            evt.data.type = \"image/png\";\n",
       "\n",
       "            /* Free the memory for the previous frames */\n",
       "            if (fig.imageObj.src) {\n",
       "                (window.URL || window.webkitURL).revokeObjectURL(\n",
       "                    fig.imageObj.src);\n",
       "            }\n",
       "\n",
       "            fig.imageObj.src = (window.URL || window.webkitURL).createObjectURL(\n",
       "                evt.data);\n",
       "            fig.updated_canvas_event();\n",
       "            fig.waiting = false;\n",
       "            return;\n",
       "        }\n",
       "        else if (typeof evt.data === 'string' && evt.data.slice(0, 21) == \"data:image/png;base64\") {\n",
       "            fig.imageObj.src = evt.data;\n",
       "            fig.updated_canvas_event();\n",
       "            fig.waiting = false;\n",
       "            return;\n",
       "        }\n",
       "\n",
       "        var msg = JSON.parse(evt.data);\n",
       "        var msg_type = msg['type'];\n",
       "\n",
       "        // Call the  \"handle_{type}\" callback, which takes\n",
       "        // the figure and JSON message as its only arguments.\n",
       "        try {\n",
       "            var callback = fig[\"handle_\" + msg_type];\n",
       "        } catch (e) {\n",
       "            console.log(\"No handler for the '\" + msg_type + \"' message type: \", msg);\n",
       "            return;\n",
       "        }\n",
       "\n",
       "        if (callback) {\n",
       "            try {\n",
       "                // console.log(\"Handling '\" + msg_type + \"' message: \", msg);\n",
       "                callback(fig, msg);\n",
       "            } catch (e) {\n",
       "                console.log(\"Exception inside the 'handler_\" + msg_type + \"' callback:\", e, e.stack, msg);\n",
       "            }\n",
       "        }\n",
       "    };\n",
       "}\n",
       "\n",
       "// from http://stackoverflow.com/questions/1114465/getting-mouse-location-in-canvas\n",
       "mpl.findpos = function(e) {\n",
       "    //this section is from http://www.quirksmode.org/js/events_properties.html\n",
       "    var targ;\n",
       "    if (!e)\n",
       "        e = window.event;\n",
       "    if (e.target)\n",
       "        targ = e.target;\n",
       "    else if (e.srcElement)\n",
       "        targ = e.srcElement;\n",
       "    if (targ.nodeType == 3) // defeat Safari bug\n",
       "        targ = targ.parentNode;\n",
       "\n",
       "    // jQuery normalizes the pageX and pageY\n",
       "    // pageX,Y are the mouse positions relative to the document\n",
       "    // offset() returns the position of the element relative to the document\n",
       "    var x = e.pageX - $(targ).offset().left;\n",
       "    var y = e.pageY - $(targ).offset().top;\n",
       "\n",
       "    return {\"x\": x, \"y\": y};\n",
       "};\n",
       "\n",
       "/*\n",
       " * return a copy of an object with only non-object keys\n",
       " * we need this to avoid circular references\n",
       " * http://stackoverflow.com/a/24161582/3208463\n",
       " */\n",
       "function simpleKeys (original) {\n",
       "  return Object.keys(original).reduce(function (obj, key) {\n",
       "    if (typeof original[key] !== 'object')\n",
       "        obj[key] = original[key]\n",
       "    return obj;\n",
       "  }, {});\n",
       "}\n",
       "\n",
       "mpl.figure.prototype.mouse_event = function(event, name) {\n",
       "    var canvas_pos = mpl.findpos(event)\n",
       "\n",
       "    if (name === 'button_press')\n",
       "    {\n",
       "        this.canvas.focus();\n",
       "        this.canvas_div.focus();\n",
       "    }\n",
       "\n",
       "    var x = canvas_pos.x * mpl.ratio;\n",
       "    var y = canvas_pos.y * mpl.ratio;\n",
       "\n",
       "    this.send_message(name, {x: x, y: y, button: event.button,\n",
       "                             step: event.step,\n",
       "                             guiEvent: simpleKeys(event)});\n",
       "\n",
       "    /* This prevents the web browser from automatically changing to\n",
       "     * the text insertion cursor when the button is pressed.  We want\n",
       "     * to control all of the cursor setting manually through the\n",
       "     * 'cursor' event from matplotlib */\n",
       "    event.preventDefault();\n",
       "    return false;\n",
       "}\n",
       "\n",
       "mpl.figure.prototype._key_event_extra = function(event, name) {\n",
       "    // Handle any extra behaviour associated with a key event\n",
       "}\n",
       "\n",
       "mpl.figure.prototype.key_event = function(event, name) {\n",
       "\n",
       "    // Prevent repeat events\n",
       "    if (name == 'key_press')\n",
       "    {\n",
       "        if (event.which === this._key)\n",
       "            return;\n",
       "        else\n",
       "            this._key = event.which;\n",
       "    }\n",
       "    if (name == 'key_release')\n",
       "        this._key = null;\n",
       "\n",
       "    var value = '';\n",
       "    if (event.ctrlKey && event.which != 17)\n",
       "        value += \"ctrl+\";\n",
       "    if (event.altKey && event.which != 18)\n",
       "        value += \"alt+\";\n",
       "    if (event.shiftKey && event.which != 16)\n",
       "        value += \"shift+\";\n",
       "\n",
       "    value += 'k';\n",
       "    value += event.which.toString();\n",
       "\n",
       "    this._key_event_extra(event, name);\n",
       "\n",
       "    this.send_message(name, {key: value,\n",
       "                             guiEvent: simpleKeys(event)});\n",
       "    return false;\n",
       "}\n",
       "\n",
       "mpl.figure.prototype.toolbar_button_onclick = function(name) {\n",
       "    if (name == 'download') {\n",
       "        this.handle_save(this, null);\n",
       "    } else {\n",
       "        this.send_message(\"toolbar_button\", {name: name});\n",
       "    }\n",
       "};\n",
       "\n",
       "mpl.figure.prototype.toolbar_button_onmouseover = function(tooltip) {\n",
       "    this.message.textContent = tooltip;\n",
       "};\n",
       "mpl.toolbar_items = [[\"Home\", \"Reset original view\", \"fa fa-home icon-home\", \"home\"], [\"Back\", \"Back to previous view\", \"fa fa-arrow-left icon-arrow-left\", \"back\"], [\"Forward\", \"Forward to next view\", \"fa fa-arrow-right icon-arrow-right\", \"forward\"], [\"\", \"\", \"\", \"\"], [\"Pan\", \"Pan axes with left mouse, zoom with right\", \"fa fa-arrows icon-move\", \"pan\"], [\"Zoom\", \"Zoom to rectangle\", \"fa fa-square-o icon-check-empty\", \"zoom\"], [\"\", \"\", \"\", \"\"], [\"Download\", \"Download plot\", \"fa fa-floppy-o icon-save\", \"download\"]];\n",
       "\n",
       "mpl.extensions = [\"eps\", \"jpeg\", \"pdf\", \"png\", \"ps\", \"raw\", \"svg\", \"tif\"];\n",
       "\n",
       "mpl.default_extension = \"png\";var comm_websocket_adapter = function(comm) {\n",
       "    // Create a \"websocket\"-like object which calls the given IPython comm\n",
       "    // object with the appropriate methods. Currently this is a non binary\n",
       "    // socket, so there is still some room for performance tuning.\n",
       "    var ws = {};\n",
       "\n",
       "    ws.close = function() {\n",
       "        comm.close()\n",
       "    };\n",
       "    ws.send = function(m) {\n",
       "        //console.log('sending', m);\n",
       "        comm.send(m);\n",
       "    };\n",
       "    // Register the callback with on_msg.\n",
       "    comm.on_msg(function(msg) {\n",
       "        //console.log('receiving', msg['content']['data'], msg);\n",
       "        // Pass the mpl event to the overridden (by mpl) onmessage function.\n",
       "        ws.onmessage(msg['content']['data'])\n",
       "    });\n",
       "    return ws;\n",
       "}\n",
       "\n",
       "mpl.mpl_figure_comm = function(comm, msg) {\n",
       "    // This is the function which gets called when the mpl process\n",
       "    // starts-up an IPython Comm through the \"matplotlib\" channel.\n",
       "\n",
       "    var id = msg.content.data.id;\n",
       "    // Get hold of the div created by the display call when the Comm\n",
       "    // socket was opened in Python.\n",
       "    var element = $(\"#\" + id);\n",
       "    var ws_proxy = comm_websocket_adapter(comm)\n",
       "\n",
       "    function ondownload(figure, format) {\n",
       "        window.open(figure.imageObj.src);\n",
       "    }\n",
       "\n",
       "    var fig = new mpl.figure(id, ws_proxy,\n",
       "                           ondownload,\n",
       "                           element.get(0));\n",
       "\n",
       "    // Call onopen now - mpl needs it, as it is assuming we've passed it a real\n",
       "    // web socket which is closed, not our websocket->open comm proxy.\n",
       "    ws_proxy.onopen();\n",
       "\n",
       "    fig.parent_element = element.get(0);\n",
       "    fig.cell_info = mpl.find_output_cell(\"<div id='\" + id + \"'></div>\");\n",
       "    if (!fig.cell_info) {\n",
       "        console.error(\"Failed to find cell for figure\", id, fig);\n",
       "        return;\n",
       "    }\n",
       "\n",
       "    var output_index = fig.cell_info[2]\n",
       "    var cell = fig.cell_info[0];\n",
       "\n",
       "};\n",
       "\n",
       "mpl.figure.prototype.handle_close = function(fig, msg) {\n",
       "    var width = fig.canvas.width/mpl.ratio\n",
       "    fig.root.unbind('remove')\n",
       "\n",
       "    // Update the output cell to use the data from the current canvas.\n",
       "    fig.push_to_output();\n",
       "    var dataURL = fig.canvas.toDataURL();\n",
       "    // Re-enable the keyboard manager in IPython - without this line, in FF,\n",
       "    // the notebook keyboard shortcuts fail.\n",
       "    IPython.keyboard_manager.enable()\n",
       "    $(fig.parent_element).html('<img src=\"' + dataURL + '\" width=\"' + width + '\">');\n",
       "    fig.close_ws(fig, msg);\n",
       "}\n",
       "\n",
       "mpl.figure.prototype.close_ws = function(fig, msg){\n",
       "    fig.send_message('closing', msg);\n",
       "    // fig.ws.close()\n",
       "}\n",
       "\n",
       "mpl.figure.prototype.push_to_output = function(remove_interactive) {\n",
       "    // Turn the data on the canvas into data in the output cell.\n",
       "    var width = this.canvas.width/mpl.ratio\n",
       "    var dataURL = this.canvas.toDataURL();\n",
       "    this.cell_info[1]['text/html'] = '<img src=\"' + dataURL + '\" width=\"' + width + '\">';\n",
       "}\n",
       "\n",
       "mpl.figure.prototype.updated_canvas_event = function() {\n",
       "    // Tell IPython that the notebook contents must change.\n",
       "    IPython.notebook.set_dirty(true);\n",
       "    this.send_message(\"ack\", {});\n",
       "    var fig = this;\n",
       "    // Wait a second, then push the new image to the DOM so\n",
       "    // that it is saved nicely (might be nice to debounce this).\n",
       "    setTimeout(function () { fig.push_to_output() }, 1000);\n",
       "}\n",
       "\n",
       "mpl.figure.prototype._init_toolbar = function() {\n",
       "    var fig = this;\n",
       "\n",
       "    var nav_element = $('<div/>')\n",
       "    nav_element.attr('style', 'width: 100%');\n",
       "    this.root.append(nav_element);\n",
       "\n",
       "    // Define a callback function for later on.\n",
       "    function toolbar_event(event) {\n",
       "        return fig.toolbar_button_onclick(event['data']);\n",
       "    }\n",
       "    function toolbar_mouse_event(event) {\n",
       "        return fig.toolbar_button_onmouseover(event['data']);\n",
       "    }\n",
       "\n",
       "    for(var toolbar_ind in mpl.toolbar_items){\n",
       "        var name = mpl.toolbar_items[toolbar_ind][0];\n",
       "        var tooltip = mpl.toolbar_items[toolbar_ind][1];\n",
       "        var image = mpl.toolbar_items[toolbar_ind][2];\n",
       "        var method_name = mpl.toolbar_items[toolbar_ind][3];\n",
       "\n",
       "        if (!name) { continue; };\n",
       "\n",
       "        var button = $('<button class=\"btn btn-default\" href=\"#\" title=\"' + name + '\"><i class=\"fa ' + image + ' fa-lg\"></i></button>');\n",
       "        button.click(method_name, toolbar_event);\n",
       "        button.mouseover(tooltip, toolbar_mouse_event);\n",
       "        nav_element.append(button);\n",
       "    }\n",
       "\n",
       "    // Add the status bar.\n",
       "    var status_bar = $('<span class=\"mpl-message\" style=\"text-align:right; float: right;\"/>');\n",
       "    nav_element.append(status_bar);\n",
       "    this.message = status_bar[0];\n",
       "\n",
       "    // Add the close button to the window.\n",
       "    var buttongrp = $('<div class=\"btn-group inline pull-right\"></div>');\n",
       "    var button = $('<button class=\"btn btn-mini btn-primary\" href=\"#\" title=\"Stop Interaction\"><i class=\"fa fa-power-off icon-remove icon-large\"></i></button>');\n",
       "    button.click(function (evt) { fig.handle_close(fig, {}); } );\n",
       "    button.mouseover('Stop Interaction', toolbar_mouse_event);\n",
       "    buttongrp.append(button);\n",
       "    var titlebar = this.root.find($('.ui-dialog-titlebar'));\n",
       "    titlebar.prepend(buttongrp);\n",
       "}\n",
       "\n",
       "mpl.figure.prototype._root_extra_style = function(el){\n",
       "    var fig = this\n",
       "    el.on(\"remove\", function(){\n",
       "\tfig.close_ws(fig, {});\n",
       "    });\n",
       "}\n",
       "\n",
       "mpl.figure.prototype._canvas_extra_style = function(el){\n",
       "    // this is important to make the div 'focusable\n",
       "    el.attr('tabindex', 0)\n",
       "    // reach out to IPython and tell the keyboard manager to turn it's self\n",
       "    // off when our div gets focus\n",
       "\n",
       "    // location in version 3\n",
       "    if (IPython.notebook.keyboard_manager) {\n",
       "        IPython.notebook.keyboard_manager.register_events(el);\n",
       "    }\n",
       "    else {\n",
       "        // location in version 2\n",
       "        IPython.keyboard_manager.register_events(el);\n",
       "    }\n",
       "\n",
       "}\n",
       "\n",
       "mpl.figure.prototype._key_event_extra = function(event, name) {\n",
       "    var manager = IPython.notebook.keyboard_manager;\n",
       "    if (!manager)\n",
       "        manager = IPython.keyboard_manager;\n",
       "\n",
       "    // Check for shift+enter\n",
       "    if (event.shiftKey && event.which == 13) {\n",
       "        this.canvas_div.blur();\n",
       "        event.shiftKey = false;\n",
       "        // Send a \"J\" for go to next cell\n",
       "        event.which = 74;\n",
       "        event.keyCode = 74;\n",
       "        manager.command_mode();\n",
       "        manager.handle_keydown(event);\n",
       "    }\n",
       "}\n",
       "\n",
       "mpl.figure.prototype.handle_save = function(fig, msg) {\n",
       "    fig.ondownload(fig, null);\n",
       "}\n",
       "\n",
       "\n",
       "mpl.find_output_cell = function(html_output) {\n",
       "    // Return the cell and output element which can be found *uniquely* in the notebook.\n",
       "    // Note - this is a bit hacky, but it is done because the \"notebook_saving.Notebook\"\n",
       "    // IPython event is triggered only after the cells have been serialised, which for\n",
       "    // our purposes (turning an active figure into a static one), is too late.\n",
       "    var cells = IPython.notebook.get_cells();\n",
       "    var ncells = cells.length;\n",
       "    for (var i=0; i<ncells; i++) {\n",
       "        var cell = cells[i];\n",
       "        if (cell.cell_type === 'code'){\n",
       "            for (var j=0; j<cell.output_area.outputs.length; j++) {\n",
       "                var data = cell.output_area.outputs[j];\n",
       "                if (data.data) {\n",
       "                    // IPython >= 3 moved mimebundle to data attribute of output\n",
       "                    data = data.data;\n",
       "                }\n",
       "                if (data['text/html'] == html_output) {\n",
       "                    return [cell, data, j];\n",
       "                }\n",
       "            }\n",
       "        }\n",
       "    }\n",
       "}\n",
       "\n",
       "// Register the function which deals with the matplotlib target/channel.\n",
       "// The kernel may be null if the page has been refreshed.\n",
       "if (IPython.notebook.kernel != null) {\n",
       "    IPython.notebook.kernel.comm_manager.register_target('matplotlib', mpl.mpl_figure_comm);\n",
       "}\n"
      ],
      "text/plain": [
       "<IPython.core.display.Javascript object>"
      ]
     },
     "metadata": {},
     "output_type": "display_data"
    },
    {
     "data": {
      "text/html": [
       "<img src=\"data:image/png;base64,iVBORw0KGgoAAAANSUhEUgAAAyAAAAJYCAYAAACadoJwAAAgAElEQVR4XuzdB3hUVf7/8U96SIGEAKH3XgWkioKuBRvqWlaB1VVBseLaXXfX9beWXV0bVvxjQ+xi7w2VIlKkSu+9kxCSQOr/OScGQ0jCTJKZzL33fZ+HByW3nO/rnJnMZ+6954YVFhYWigUBBBBAAAEEEEAAAQQQCIJAGAEkCMocAgEEEEAAAQQQQAABBKwAAYSBgAACCCCAAAIIIIAAAkETIIAEjZoDIYAAAggggAACCCCAAAGEMYAAAggggAACCCCAAAJBEyCABI2aAyGAAAIIIIAAAggggAABhDGAAAIIIIAAAggggAACQRMggASNmgMhgAACCCCAAAIIIIAAAYQxgAACCCCAAAIIIIAAAkETIIAEjZoDIYAAAggggAACCCCAAAGEMYAAAggggAACCCCAAAJBEyCABI2aAyGAAAIIIIAAAggggAABhDGAAAIIIIAAAggggAACQRMggASNmgMhgAACCCCAAAIIIIAAAYQxgAACCCCAAAIIIIAAAkETIIAEjZoDIYAAAggggAACCCCAAAGEMYAAAggggAACCCCAAAJBEyCABI2aAyGAAAIIIIAAAggggAABhDGAAAIIIIAAAggggAACQRMggASNmgMhgAACCCCAAAIIIIAAAYQxgAACCCCAAAIIIIAAAkETIIAEjZoDIYAAAggggAACCCCAAAGEMYAAAggggAACCCCAAAJBEyCABI2aAyGAAAIIIIAAAggggAABhDGAAAIIIIAAAggggAACQRMggASNmgMhgAACCCCAAAIIIIAAAYQxgAACCCCAAAIIIIAAAkETIIAEjZoDIYAAAggggAACCCCAAAGEMYAAAggggAACCCCAAAJBEyCABI2aAyGAAAIIIIAAAggggAABhDGAAAIIIIAAAggggAACQRMggASNmgMhgAACCCCAAAIIIIAAAYQxgAACCCCAAAIIIIAAAkETIIAEjZoDIYAAAggggAACCCCAAAGEMYAAAggggAACCCCAAAJBEyCABI2aAyGAAAIIIIAAAggggAABhDGAAAIIIIAAAggggAACQRMggASNmgMhgAACCCCAAAIIIIAAAYQxgAACCCCAAAIIIIAAAkETIIAEjZoDIYAAAggggAACCCCAAAGEMYAAAggggAACCCCAAAJBEyCABI2aAyGAAAIIIIAAAggggAABhDGAAAIIIIAAAggggAACQRMggASNmgMhgAACCCCAAAIIIIAAAYQxgAACCCCAAAIIIIAAAkETIIAEjZoDIYAAAggggAACCCCAAAGEMYAAAggggAACCCCAAAJBEyCABI2aAyGAAAIIIIAAAggggAABhDGAAAIIIIAAAggggAACQRMggASNmgMhgAACCCCAAAIIIIAAAYQxgAACCCCAAAIIIIAAAkETIIAEjZoDIYAAAggggAACCCCAAAGEMYAAAggggAACCCCAAAJBEyCABI2aAyGAAAIIIIAAAggggAABhDGAAAIIIIAAAggggAACQRMggASNmgMhgAACCCCAAAIIIIAAAYQxgAACCCCAAAIIIIAAAkETIIAEjZoDIYAAAggggAACCCCAAAGEMYAAAggggAACCCCAAAJBEyCABI2aAyGAAAIIIIAAAggggAABhDGAAAKeFNi6dauWLFmiXbt22frr1aunzp07q1GjRp70oGgEEEAAAQSCJUAACZY0x0EAgRoXWLFihSZMmKDJkydr3bp1tj2FhYX277CwMPt3y5YtdcEFF+jKK69U+/bta7zNNAABBBBAAAG3CRBA3Naj1IMAAkcImOBx11136YMPPlBCQoJOOOEE9evXT61bt1ZKSooKCgq0d+9erV69Wj///LN+/PFHZWZm6rzzztODDz6odu3aoYoAAggggAAC1SRAAKkmSHaDAAKhKxAVFaVBgwbp+uuv11lnnaWYmJgKG3vgwAF9/PHHevrppzVjxgzl5OSEbnG0DAEEEEAAAYcJEEAc1mE0FwEE/BeYOnWqjj/+eP83lDRt2jQbXlgQQAABBBBAoHoECCDV48heEEAAAQQQQAABBBBAwAcBAogPSKyCAALuEti8ebOaNGlSYVHm0quBAwe6q3CqQQABBBBAIAQECCAh0Ak0AQEEgitgbjwfP368ne2q9JKfn69//vOfeuihh5SbmxvchnE0BBBAAAEEPCBAAPFAJ1MiAggcLjBgwADNmjVLl156qZ588kk7M5ZZzGxZI0eO1Jw5czR69GgbUlgQQAABBBBAoHoFCCDV68neEEDAAQJm2t1///vfuv/++9W8eXNNnDhRCxYs0K233qr4+Hj7rJBhw4Y5oBKaiAACCCCAgPMECCDO6zNajAAC1SQwc+ZMe8Zj7dq1do9Dhw7Viy++qNTU1Go6ArtBAAEEEEAAgdICBBDGBAIIeFbgs88+0xVXXKGdO3faJ6KbBw+asx/JycmeNaFwBBBAAAEEAi1AAAm0MPtHAIGQEzAPGjSXWz377LM65phj9Oqrr+rTTz/VP/7xD9WrV08vvfSSTjnllJBrNw1CAAEEEEDADQIEEDf0IjUggIBfAp07d9by5ct1yy232PtAzJPSzWLuAxkxYoSWLVumG264QY899phf+2VlBBBAAAEEEDi6AAHk6EasgQACLhMwN56/8sorOvHEE4+o7ODBg7rtttv0zDPPKC8vz2WVUw4CCCCAAAI1L0AAqfk+oAUIIBBkgbS0NCUlJVV41K+//prLsILcLxwOAQQQQMAbAgQQb/QzVSKAAAIIIIAAAgggEBICBJCQ6AYagQACgRSYMmVKmZdb+XLM7777TieddJIvq7IOAggggAACCPggQADxAYlVEEDA2QIxMTHq16+fbrzxRp199tky/1/RYu4D+eijjzRu3DjNnj1bZtYsFgQQQAABBBCoHgECSPU4shcEEAhhgdWrV+uuu+7S5MmTlZiYqBNOOEF9+vRR69atDz3zY+/evTLrmcAxdepUZWRk6MILL9QDDzxg12NBAAEEEEAAgeoRIIBUjyN7QQABBwisXLnSPmjw/fff16pVq2yLw8LC7N/mQYRmadu2rf74xz9q9OjRatOmjQOqookIIIAAAgg4S4AA4qz+orUIIFAJAXMp1dChQ9W+fftDW2/fvl1Lly61T0E3S/369dWpUyelpqZW4ghsggACCCCAAAK+ChBAfJViPQQQcKxARESEfdr58OHDbQ3m/ydNmqRLLrnEsTXRcAQQQAABBJwqQABxas/RbgQQ8FkgJSVF99xzj70J3Szh4eE2gBQHEp93xIoIIIAAAgggUGUBAkiVCdkBAgiEusAZZ5xhby43gaNOnTq67777dO6556pr167lNt3cG3LvvfeGemm0DwEEEEAAAccJEEAc12U0GAEE/BVYs2aNLr30Uv3000/2ZnMTLopvOi9vX2ad/Px8fw/F+ggggAACCCBwFAECCEMEAQQ8I2Ce72FuPm/ZsqUef/xxnXPOORXW3qJFC8/YUCgCCCCAAALBEiCABEua4yCAQMgIXH755RozZox9OCELAggggAACCARXgAASXG+OhgACCCCAAAIIIICApwUIIJ7ufopHAAEEEEAAAQQQQCC4AgSQ4HpzNAQQQAABBBBAAAEEPC1AAPF091M8AggggAACCCCAAALBFSCABNeboyGAAAKeEsjKytKyZcvUsWNHxcXFeap2ikUAAfcJLN6crr1ZOTq+XX33FRfEigggQcTmUAgggIDXBH755Rf17t1bc+fOVa9evbxWPvUigICLBMzzo/70/EzNWrtH6/5zposqC34pBJDgm3NEBBBAwDMCBBDPdDWFIuB6gSnLdujyl2fbOgkgVetuAkjV/NgaAQQQQKACAQIIwwMBBNwgUFBQqDPGTdWybRmKCA/T6gfOcENZNVYDAaTG6DkwAggg4H4BAoj7+5gKEfCCwPvzNumvby2wpV7St7ke/GM3L5QdsBoJIAGjZccIIIAAAgQQxgACCDhd4GBevk763w/anJat2Khw/XDbiUqtHev0smq0/QSQGuXn4AgggIC7BQgg7u5fqkPACwIvTlur//tkiS312iFtdPvQjl4oO6A1EkACysvOEUAAAW8LEEC83f9Uj4DTBTIO5Grww99rT2aO6tSK0o+3n2j/ZqmaAAGkan5sjQACCCBQgQABhOGBAAJOFnj0q+Ua990qW8LdZ3TS6BNaO7mckGk7ASRkuoKGIIAAAu4TIIC4r0+pCAGvCOzIOKAhD3+vrJx8Na4Tq+9uHaLYqAivlB/QOgkgAeVl5wgggIC3BQgg3u5/qkfAyQL/+GCxXp253pbw8AXddeGxzZxcTki1nQASUt1BYxBAAAF3CRBA3NWfVIOAVwTW7crUyY/+oLyCQrVPTdDnY0+wz/9gqR4BAkj1OLIXBBBAAIEyBAggDAsEEHCiwPWv/6JPFm61TZ9w6bE6uXOqE8sI2TYTQEK2a2gYAggg4HwBAojz+5AKEPCawKJN6Tr7qWm27GNbJOudMQMUFsbZj+ocBwSQ6tRkXwgggAAChwkQQBgQCCDgNIE/v/Czpq7cZZv97pgBOrZlXaeVEPLtJYCEfBfRQAQQQMC5AgQQ5/YdLUfAiwJTV+7UX9+ar137c3Ryp1RNuOxYLzIEvGYCSMCJOQACCCDgXQECiHf7nsoRcJpAXn6Bzhw3TWt37VeflnX1z7M7q0PD2k4rwxHtJYA4optoJAIIIOBMAQKIM/uNViPgRQEz5a6Zetcsw/s11wPndfMiQ1BqJoAEhZmDIIAAAt4UIIB4s9+pGgGnCaRn5WrI/6Zob1auEmMj9f2tQ5SSEOO0MhzTXgKIY7qKhiKAAALOEyCAOK/PaDECXhT4v4+X6MXpa23pfz+zk0Yd39qLDEGrmQASNGoOhAACCARO4LvvvtMf/vAHe4CVK1eqbdu2hw6WnZ2tf/3rX3r99de1c+dO+7OxY8dq9OjRRzTIn3V9qYYA4osS6yCAQE0KrNqxX0Mf/9E+dLB1vXh9cdMJio4Mr8kmuf7YBBDXdzEFIoCA2wVycnLUo0cPbdy4UZmZmUcEkDPPPFNfffWVrr/+enXu3FmffvqpPvzwQz300EO67bbbDuPxZ11fXAkgviixDgII1KTA5S/N0pTlO20TXrjsWP2hEw8dDHR/EEACLcz+EUAAgQALPPjgg3r88cc1fPhw+3fJMyCffPKJzj77bD366KP661//eqgl55xzjr7++mutX79e9evXt//uz7q+lkQA8VWK9RBAoCYEvl++Q395abY99PHt6mniFX156GAQOoIAEgRkDoEAAggESsAECHNW46mnnrJh4t577z0sgIwYMULvvfee9uzZo1q1ah1qxpQpU3TSSSfp+eefP3Qplj/r+loPAcRXKdZDAIFgC+TmF9hLr1bvzFREeJg+H3u82qcmBrsZnjweAcST3U7RCCDgFgFzJmPHjh2aMWOGDR+lA0iHDh2UnJysmTNnHlayudcjLi5OV199tZ577jn7M3/W9dWPAOKrFOshgECwBV6avlb3frzEHvbSAS30f+d0DXYTPHs8Aohnu57CEUDA6QLmkikTQGbNmqXevXvbG81LB5DExESdeuqpmjx58hHl1q1bV8cdd5w+/vhj+zN/1i3LbuvWrTJ/Si5Lly7VyJEjNXfuXPXq1cvp5LQfAQRcIrA3M0dD/ve90rNzVadWlJ12Nzk+2iXVhX4ZBJDQ7yNaiAACCBwhYM5gdOnSRaeccorGjx9vf15WAImIiNCf/vQnOwNW6aVx48b28q1vvvnG/sifdcvqkuLjl/UzAgiDGAEEQkngnx8u1sSf1tsm3XN2Z11+XKtQap7r20IAcX0XUyACCLhR4O9//7ueeeYZrVixQvXq1Ss3gPhzVsOfdcsy5QyIG0caNSHgPoEV2zN0+hNTlV9QqLYNEuy9H1ERTLsbzJ4mgARTm2MhgAAC1SCwZcsWtW7dWjfddJNGjRp1aI/jxo3Tk08+qW+//VYtW7a06/hzX4c/6/paBveA+CrFegggEAyBwsJCXfriLE1ducse7uXL+2hIhwbBODTHKCFAAGE4IIAAAg4TmD9/vnr27Flhq+Pj47V//347Ne/777/v0yxY/qzrKxkBxFcp1kMAgWAIfLl4m579YZXmb0zXiR3q66XL+wbjsByjlAABhCGBAAIIOEwgPT3dPsOj9PL222/rnXfesWdBmjZtqnPPPdfeYD5s2LBynwOybt06NWhQ9O2fP+v6SkYA8VWK9RBAINAC+w/m6ZRHf9DW9APq3rSOHrvoGLVpkBDow7L/MgQIIAwLBBBAwCUCZd2EbkobOnSovSzrhhtusDedm9mzzJPQzQMM77zzzsOq92ddX9gIIL4osQ4CCARD4L5PlmjCtLX2UDec1Fa3nNohGIflGAQQxgACCCDgXoHyAkhWVpbuuecevfHGG9q5c6fatGmjsWPH2meAlF78WdcXSQKIL0qsgwACgRb4dUu6hj013d543rxunL766wmKjYoI9GHZfzkCnAFhaCCAAAIIBEyAABIwWnaMAAI+CpjQcf6zMzR/Y5rd4pUr+mpw+/o+bs1qgRAggARClX0igAACCFgBAggDAQEEalpg0sz1+vsHi20zzureSE8N56GoNd0nBJCa7gGOjwACCLhYgADi4s6lNAQcILAz46BOeuR7ZRzIU2JMpL65ZbBSa8c6oOXubiIBxN39S3UIIIBAjQoQQGqUn4Mj4HmBsW/O04fzt1iHe4d10WUDW3reJBQACCCh0Au0AQEEEHCpAAHEpR1LWQg4QGDayl0a+cLPtqVm2t33rz1OEeFhDmi5+5tIAHF/H1MhAgggUGMCBJAao+fACHha4EBuvk5/YqrW7sqUyRwfXjdI3ZrW8bRJKBVPAAml3qAtCCCAgMsECCAu61DKQcAhAo99vUJPfLvStvYvA1vqX8O6OKTl3mgmAcQb/UyVCCCAQI0IEEBqhJ2DIuBpgTU792vo41OVk1+g1Nox+ubmwUqMjfK0SagVTwAJtR6hPQgggICLBAggLupMSkHAAQKFhYX2vo/pq3bb1j4zopfO6NbIAS33VhMJIN7qb6pFAAEEgipAAAkqNwdDwPMCH8zbrJvemm8dhnSor5f+0kdhYdx4HmoDgwASaj1CexBAAAEXCRBAXNSZlIJAiAukZ+XqD49+r137cxQTGW4vvWpWNy7EW+3N5hFAvNnvVI0AAggERYAAEhRmDoIAApLu+XCxfl67R8u2Zei20zrouhPb4hKiAgSQEO0YmoUAAgi4QYAA4oZepAYEQl9gyvIduvyl2bah5xzTWA9f0EPRkeGh33CPtpAA4tGOp2wEEEAgGAIEkGAocwwEvC1gLr069fEftH3fQfugwfeuGagezZK8jRLi1RNAQryDaB4CCCDgZAECiJN7j7Yj4AyBW95eoMm/bLKNvf7Etrr1tA7OaLiHW0kA8XDnUzoCCCAQaAECSKCF2T8C3hb4Zsl2jZo4xyJ0bJioD68/TjGREd5GcUD1BBAHdBJNRAABBJwqQABxas/RbgRCXyAtK0enPPajdmYcVGR4mD647jh1bVIn9BtOC0UAYRAggAACCARMgAASMFp2jIDnBW56c54+mL/FOtx0cjvddHJ7z5s4BYAA4pSeop0IIICAAwUIIA7sNJqMgAMEvli8TWMmzbUt7dyotr30KiqCWa8c0HW2iQQQp/QU7UQAAQQcKEAAcWCn0WQEQlxgT2aOTn3sB/vAwaiIMH10/SB1alQ7xFtN80oKEEAYDwgggAACARMggASMlh0j4FmB617/RZ8u3Grrv/XU9rr+pHaetXBq4QQQp/Yc7UYAAQQcIEAAcUAn0UQEHCTwycItuv71ebbF3ZrU0fvXDlQkl145qAeLmkoAcVyX0WAEEEDAOQIEEOf0FS1FINQFzGxX5tKrvVm5io4I1yc3DlL71MRQbzbtK0OAAMKwQAABBBAImAABJGC07BgBTwkUFhbam86//HW7rfuOoR11zZA2njJwU7EEEDf1JrUggAACISZAAAmxDqE5CDhU4KP5m3Xz2wuUV1Cons2T9O6YgYoID3NoNTSbAMIYQAABBBAImAABJGC07BgBzwis25Wps56cpvqJMYqODNczI3qpTf0Ez9TvxkIJIG7sVWpCAAEEQkSAABIiHUEzEHCoQE5egc5/doYWbU63FfzfsM66dGArh1ZDs4sFCCCMBQQQQACBgAkQQAJGy44R8ITAfZ8s0YRpa22tp3VJ1XMjeyssjEuvnN75BBCn9yDtRwABBEJYgAASwp1D0xAIcYHvlm3XFS/Psa1sklRLn914vOrERYV4q2meLwIEEF+UWAcBBBBAoFICBJBKsbERAp4X2JZ+QGeMmyrz1HNzs/lbV/XXsS3ret7FLQAEELf0JHUggAACIShAAAnBTqFJCIS4QH5BoUZMmKmZa/bYlt52Wgddd2LbEG81zfNHgADijxbrIoAAAgj4JUAA8YuLlRFAQNIT36zUY9+ssBbHtU3RxCv6MeWuy0YGAcRlHUo5CCCAQCgJEEBCqTdoCwKhL/Dzmt265P/NVEGhlBIfrc/HHq8GtWNDv+G00C8BAohfXKyMAAIIIOCPAAHEHy3WRcDbAnszc3T6E1O1bd8BC/HKFX01uH19b6O4tHoCiEs7lrIQQACBUBAggIRCL9AGBEJfoLCwUKMnztE3S3fYxl49uLXuOr1T6DecFlZKgABSKTY2QgABBBDwRYAA4osS6yCAwEvT1+rej5dYiGOaJemdMQMUFREOjEsFCCAu7VjKQgABBEJBgAASCr1AGxAIbYHFm9P1x2dmKCe/QIkxkfps7PFqVjcutBtN66okQACpEh8bI4AAAghUJEAAYXwggEBFAvuyc3TR+Jlati3Drvb08F46s3sj0FwuQABxeQdTHgIIIFCTAgSQmtTn2AiEtkBBQaGuenWOFm1OV0JMpPq2StGDf+wW2o2mddUiQACpFkZ2ggACCCBQlgABhHGBAALlCfzvy+V6asoq++NjWyTr1Sv7qlZ0JGAeECCAeKCTKREBBBCoKQECSE3Jc1wEQlvgk4VbdP3r82wjzfM+PrphkJok1QrtRtO6ahMggFQbJTtCAAEEECgtQABhTCCAQGmBX7ek64Jnf1J2br4iw8P0+uj+6tuqLlAeEiCAeKizKRUBBBAItgABJNjiHA+B0BbYvf+ghj01XZvTsm1D7z+vq0b0axHajaZ11S5AAKl2UnaIAAIIBFZgzpw5mjRpkr777jutXbtW8fHx6tKli+666y6dfPLJhx08Pz9fDz/8sCZMmKCNGzeqWbNmGjVqlG677TZFRERUel1fKySA+CrFegi4XyA3v0AjJ/ysn9fuscWO6Ndc95/HTefu7/kjKySAeLHXqRkBBBwtcMEFF+iHH37Q+eefr169emn//v166aWXtHjxYj3zzDO65pprDtV37bXX6tlnn9Xll1+ugQMHasaMGXZd8+9PP/30YQ7+rOsrIAHEVynWQ8D9Av/8cLEm/rTeFtq3ZV1NGtVP0ZE8bND9PU8A8WIfUzMCCLhMYPr06Tr22GMVExNzqLLs7Gwdc8wx2rlzp3bs2KHIyEgtWrRIPXr00A033KAnnnji0Lpjx47Vk08+qQULFqhbt6JvH/1Z1x9OAog/WqyLgHsF3pi1QXe9t8gW2LhOrL3pvF7C7+9h7q2cysoS4AwI4wIBBBBwicAtt9yiRx99VBs2bLCXWt1999164IEHtGbNGrVq1epQleayrdatW+tvf/ub7r//fvvv/qzrDxcBxB8t1kXAnQJz1u3RJf9vpnLzCxUbFa53xwxU1yZ13FksVfkkQADxiYmVEEAAgdAXuOSSS/Tuu+8qLS3N3hdy2mmn2bMc27ZtO6Lxqamp6tmzp7744gv7M3/W9UeCAOKPFusi4D6BLWnZ9qbzXfsP2uLGXdJTw3o0dl+hVOSXAAHELy5WRgABBEJTYOnSpfYSrLPOOkuTJ0+2jTSXV0VHR2vu3LlHNNrcO5Kbm2svvfJ33fIEtm7dKvOn5GLaNXLkSNsGc0wWBBDwjsCB3Hxd+NxP9knnZhkzuI3uPL2jdwCotFwBAgiDAwEEEHC4QHp6ugYMGGA//JszHs2bN7cVtWnTRuZMh7nxvPRibkg394qsWlX0FGJ/1i2P61//+pfuvffeMn9MAHH4IKP5CPgpUFhYqL++NV8fzN9itxzSob5euKyPIsLD/NwTq7tRgADixl6lJgQQ8IyAufncXD41e/ZseznV4MGDD9XOGRDPDAMKRSDkBJ74ZoW+W75DCzamq3W9eL1/3XGqUysq5NpJg2pGgABSM+4cFQEEEKiyQE5OjoYNG2afB/Lee+/Zy69KLv7c1+HPuv40nHtA/NFiXQTcIfD6zxv0t/eLLu/8Q8cGuuuMTmrbIMEdxVFFtQgQQKqFkZ0ggAACwRXIy8uTeR7Ixx9/rNdee00XX3zxEQ0ws1w9+OCDPs2C5c+6/lRKAPFHi3URcL7Al79u0zWT5qqgUPYZHxOv6Kv+rVOcXxgVVKsAAaRaOdkZAgggEHiBgoICDR8+XG+99Zaef/55jR49usyDmvtBzExX5T0HZP78+erevbvd1p91/amQAOKPFusi4GyBWWv3aOQLPysnr0DmVo9nRvTS0K6NnF0UrQ+IAAEkIKzsFAEEEAicwM0336zHHnvM3u8xatSoIw50yimn2JvPzTJmzBiNHz/ePgn9uOOOk3mIoXkS+tVXX63nnnvusG39WdfX6gggvkqxHgLOFli2bZ8ueu4n7TuQZwu579yuGtm/hbOLovUBEyCABIyWHSOAAAKBERgyZIh++OGHcnc+ZcoUmXXMYi7VeuihhzRhwgRt2rRJTZs2taHl9ttvt09LL7n4s66vlRFAfJViPQScK7Bpb5bOf3aGtu8retbH2D+0019Pae/cgmh5wAUIIAEn5gAIIICAdwUIICMXftYAACAASURBVN7teyr3hsCezBxd8NwMrdmZaQse3q+57j+3q8LCmG7XGyOgclUSQCrnxlYIIIAAAj4IEEB8QGIVBBwqkJWTp+H/72fN35hmKzitS6qeGdGbZ304tD+D2WwCSDC1ORYCCCDgMQECiMc6nHI9I5CbX6CrJs7RlOU7bc19W9W1M17FRkV4xoBCKy9AAKm8HVsigAACCBxFgADCEEHAfQLmKee3vrNQk3/ZZIvr2DBRb109gAcNuq+rA1YRASRgtOwYAQQQQIAAwhhAwH0CD362VON/XGMLa5JUS+9dO1CptWPdVygVBUyAABIwWnaMAAIIIEAAYQwg4B4Bc+bjsa9X6PsVO7V4c7o94/HuNQPVpj5POXdPLwenEgJIcJw5CgIIIOBJAQKIJ7udol0oYMLHf79Yrud+WG2rG9y+vm46uZ16Nk92YbWUFGgBAkighdk/Aggg4GEBAoiHO5/SXSNgwse/P1mqF6evtTUlxETq5cv76NiWdV1TI4UEV4AAElxvjoYAAgh4SoAA4qnuplgXChQUFOqej37VqzPX2+oSYyPtbFec+XBhZwexJAJIELE5FAIIIOA1AQKI13qcet0kYMLH395fpDdnb7RlJcVFadKV/dS1SR03lUktNSBAAKkBdA6JAAIIeEWAAOKVnqZOtwnkFxTq9nd/n2q3bny0DR+dG9d2W6nUUwMCBJAaQOeQCCCAgFcECCBe6WnqdJNAXn6Bbn57gT5asMWWVS8hRq+P7qf2qYluKpNaalCAAFKD+BwaAQQQcLsAAcTtPUx9bhMwTzgf++Y8fbZomy0ttbYJH/2ZatdtHV3D9RBAargDODwCCCDgZgECiJt7l9rcJnAwL1/Xvz5PXy/ZbktrXCfWho+W9eLdVir11LAAAaSGO4DDI4AAAm4WIIC4uXepzU0CB3Lzdc2kuZqyfKctq2lyLb0xur+a1Y1zU5nUEiICBJAQ6QiagQACCLhRgADixl6lJrcJZOfk66pX52jqyl22tBYpcTZ8NE6q5bZSqSdEBAggIdIRNAMBBBBwowABxI29Sk1uEsg4kKu/vjVf3yzdYctqXT/eho/U2rFuKpNaQkyAABJiHUJzEEAAATcJEEDc1JvU4jaBzWnZuuKl2dqblSMz7W5KQrReG9Vf9RNj3FYq9YSYAAEkxDqE5iCAAAJuEiCAuKk3qcVNAgs3penKV+ZoZ8ZBW9YZXRvq3+d2VUoC4cNN/RyqtRBAQrVnaBcCCCDgAgECiAs6kRJcJ/DF4m266a15OpBbYGs7pXOqnrj4GMVFR7quVgoKTQECSGj2C61CAAEEXCFAAHFFN1KESwQKCws1YepaPfD5UhUWFhV15aBW+tsZnRQRHuaSKinDCQIEECf0Em1EAAEEHCpAAHFox9Fs1wmYp5vf89Gveu3nDbY2kzfuHdZFfx7Q0nW1UlDoCxBAQr+PaCECCCDgWAECiGO7joa7SMDMdHXd6/P044qiZ3zER0foqRG9dGKHBi6qklKcJEAAcVJv0VYEEEDAYQIEEId1GM11ncCmPVkaNXGOlm3LsLU1qhOrFy7ro86Na7uuVgpyjgABxDl9RUsRQAABxwkQQBzXZTTYRQJTV+7U3z9YrP0H8rQ7M0ddm9S24YNnfLiokx1aCgHEoR1HsxFAAAEnCBBAnNBLtNFtAgUFhXryu1V6/NsV9mbzDg0T1LZ+oh6+sDszXbmtsx1aDwHEoR1HsxFAAAEnCBBAnNBLtNFNAnsyc3TTW/MP3e8RFiaN/UM73XBSO2a6clNHO7wWAojDO5DmI4AAAqEsQAAJ5d6hbW4T+GXDXl332i/amn7AlpYcF6UnLu6pE9rXd1up1ONwAQKIwzuQ5iOAAAKhLEAACeXeoW1uETDP93h5xjrd/+lS5RUUPeCjV/MkPTW8lxon1XJLmdThIgECiIs6k1IQQACBUBMggIRaj9AetwmYKXbvnLxIny7aeqi0K45rpTtP76joyHC3lUs9LhEggLikIykDAQQCJ5CTV6Cd+w9q+74D2mH+ZBxUXn6h1u/OVMbBPDvDTG5+gfZk5epATr7yCgrUtkGCzHZmvv2IcCk+Jsr+nZ6dp/zCQmXnFCjrYJ6S4qO0Ze8BKUyKi46wN4jWio5Qi7px9pvMOrWiVDs2UvUSY5QYE6X6iTH2T1KtKIU74MnFBJDAjUv2jMD8jWn6z+dLNXPNHouREBOphy7orjO6NQIHgZAWIICEdPfQOAQQCIaA+QZxxfb92rw3Syt37LdBY/u+gzZomMBhpq8svfRvXffQL/3SPzMBokeTOiooLFTt2ChFRkiJ5m9Jew/k2fCy72Cedu0/qPoJMVqxPUN7s3IP20371ATbpuKlW5M6WrQ5/dD/R4aHqV5CURixf3777+YpcWqQGKOmyXFqmlxLsVERwSAs9xgEkBrl5+AuFTiQm6/Hvlmh//fjGvv6zzyYb1/vz4zopdb1E1xaNWW5SYAA4qbepBYEEKhQYP/BPK3cnqGV2/fbD/0rduy3/198w2ZCdIT25+T7pGiur/5lQ5qdVSYxNtJ+82jChrnkwZy1aJwUKxMSYqIiFBUeZn9uLoZIP/DbGZDcfKVn5alWdLi2ph2wZ1iycvLtn+ycPNWNj9bGvdmH2nJMsySZbzuPtpjwk12iBhNGmtWNU7PkWjaUNKtby35AaZkSr3oJ0QozU+QEcCGABBCXXXtSwNxofts7C7R6Z+ah+m8+pZ1GH9/Gnj1lQcAJAgQQJ/QSbUQAAb8FzDeECzela/a6PdqzP0df/LpNm9N+/0Bf3g4TYyK1PydPKfExSq1t/sTav+snFv2dav+OVUpCtJLjohUbFR6QD/H5BYX20q707Fz7Z9+BXHvGZGdGiT+//b/5d3OWJi4qQpk+BCgzM44542KCUpv68WpTP0FtGiQU/V0/Xs3rxinSXC9WDQsBpBoQ2QUCksx72qNfr9CEqWv0233malwnVv85vzuzXDFCHCdAAHFcl9FgBBAoS8B8QJ+7fq9mr91jQ8eCjenKyS+wqx7bMllz1u09YrOkuCi1b5CodqkJap9a9Lf58N2wdmy1fQAPVm/l5Rfdp2LO5mzam62Ne7K0aW+WNu7J1sa9Wdq8N9veU2LuSTlaSOnRtI5y8gvVqWGiOjZKVMeGte3f5jIvf8+YEECCNQI4jpsF5q7fo9veWag1u34/6zG8X3PddXpHe3knCwJOEyCAOK3HaC8CCFiBzIN5+mXDHn27dKcNHEu37jv0rWBpolb14u0lTea+inYNEm3YaN8woVIfqJ3Kb86obNt3QBv3ZGrdriyt3rnfXsKxasd+G1DM05KLlz4tkzW7jMCWEh9tg8iA1ilqklxL3ZokqXW9+ApvhieAOHXE0O5QEDCXUz7y1XK9MH3toddok6Ra+u/53TWoXb1QaCJtQKBSAgSQSrGxEQII1ITAjowD+mbJDn29ZJumr94t84t4bYlvBIvbZMKG+RDdp2Vd9W1VV50b1XbcGY1g+ppLO9btLgojq3dkKi07R9NW7rLftprgUnoxprPWFs26Y86odGlcR12b1FH3pkV/lwwlBJBg9iTHcpOA+WLl9ncXHvYe9+f+LXTH6R3tPWUsCDhZgADi5N6j7Qi4XMA8XMt8U//Vku366tftZd6Ebe5niI+JVN+WddWnVV0bOsx9DP5eKuRyykqVZ4KJCSXLtmXYM0zLtu3T0q0Z9ub1kjN0ld65CSVmGtDk+GglZmzQjRcP1dy5c9WrV69KtYONEPCSwL7sXDvDlXmwYPGZSTN5hDnrMbANZz28NBbcXCsBxM29S20IOFTAnNX4ftkOTZy5vswzHNER4RrYNkWndE7VCe3q21meWIIjYEKhmaZ48eZ9Wrg5XYs3p9vpgc3N8SWXY1ska876vTq4bZW2vXKTul77rAYN6KOezZPUs3myujauw4w9wekyjuIQgYKCQk3+ZZMe/nKZnVFv1W+zXF02oIVuH9rRftHCgoBbBAggbulJ6kDA4QLm2/Yvf92mN2ZtsM/XqBVlZmEKU3Zu0bS45mF8J3VsoFM6N9TgDvW5BCHE+tuEEjPrmAkjJpSYQGL+uziANLzsccU0bHuo1Wb6YnOTuzlrZaYY7t0i2V5Sx5mrEOtYmhMUgRmrd+n+T5fq1y377PFa1YtTZHi4/n1uV/VvnRKUNnAQBIIpQAAJpjbHQgCBIwSWb8uwoeP9eZvtdLMll+PapKhdaqJO7ZxqP6hGVdPUsHRD4AXMmRIzG9e7X03VzZcM1ZA7XtDmiEaHZiYzLWiaVEubSkyNbGYf690yWebsybEt6qpTo0Tu3Ql8V3GEGhRYs3O/Hvx8mb5esv1QK2pFReiaIW00+vhWqhXNWY8a7B4OHUABAkgAcdk1AgiULZCVk6dPFmzVG7M3aN6Gwx+uFxURplO7NNQlfZprYJuUCmdYwjf0BUrehN6lew97D8m8DXvt/TzmwZDfLt1RbhFx0RH27IgJJP1ap6hHsyTOfIV+l9NCHwT2ZuboiW9XatLM9XZ6bLOYZ4Je2Lupbjm1g33WEAsCbhYggLi5d6kNgRATWLQp3YaOj+ZvsR8+Sy6t68fb0PHHXk2UkhATYi33TnPy8/P18MMPa8KECdq4caOaNWumUaNG6bbbblNEhP9PWT7aLFg79h2wz28x94uYP79uTj/0gaykupnVzKzXuXHtotnNfpt0oB5jxTuD0wWV5uQVaOJP6zTu25Xad+D390DzZcvdZ3ayM8qxIOAFAQKIF3qZGhGoQQFzY6WZxer75Tv05uyNh7UkJjJcZ3ZvpIv7NLfT5nL9fw121G+Hvvbaa/Xss8/q8ssv18CBAzVjxgy99NJLMv/+9NNP+93AowWQ0js0zz1YsCmtKJSs22P/Nh/UmiXX0sa9Rz7J3kz5awKJuUTPhBIzWxDjyO9uYoMACxzMy9fkuZv11ZJt+n75zkNHM1+8/O30TvpDpwaM2wD3AbsPLQECSGj1B61BwDUC5vkRny/eqqe+W2WncY0zN5WHhSkrJ1+dGtXWJX2b6ZxjmqhOLZ7iGyqdvmjRIvXo0UM33HCDnnjiiUPNGjt2rJ588kktWLBA3bp186u5/gaQ0js3AXbF9oyip9yvM0+536vNJe4bKb3+Ce3rqU6taPVtmay+rVLUrkECl/H51WOsXJ0C5oGp5h63/zd1jbbvO6iIMCm1TqxM0L7p5PYyTzPn3rbqFGdfThEggDilp2gnAg4RMMHjk4Vb9OR3q+wzJIoXc2/HyP4tdO4xTewD6/iWOvQ69O6779YDDzygNWvWqFWrVocauHbtWrVu3Vp/+9vfdP/99/vV8KoGkLIOZgLI7LV7NMsEkrV7tLLEODNnQcy/Fy9JcVH2hva+rYoCSZfGtfnA51cPsnJlBNKycvTKjPV6acZapWX9PrmGeUbOzae01wW9m6lOHF++VMaWbdwhQABxRz9SBQI1LpCXX6AP5m/R01NWHfbsDvPMjj/1aaYxQ9rYaVZZQlfgtNNOs2c5tm3bdkQjU1NT1bNnT33xxRd+FRCIAFK6AXsyc+zlWuYMiXmGzJTlO8t8grvZztzY3qt5sk7sWN+eievZLJnnkfjVo6xckYC5p+mFaWvtzeWZOUVTiJvFBOErjmulywa0JHgwhBAwky4UmrkSWUJCICsrS8uWLQuJttAIBHwVyM0r0JTl2/X2nE3amn7g0GYmeAzt2lDn92qqeoncVO6rZ02ud9FFFykqKkqvvfbaEc0YPny48vLy9Pbbb5fbxJ07d2rXrl2H/dycPfnHP/6hSZMmqVOnTkEpLzsnz172Z25oX7x1n5ZvzThs+l/TiE4Na2vptn2KDA9TmwYJ9ubfzo0S7d+1uSwwKP3kpoOs3pmh75fv0scLtig3v+BQaSnx0TqvZxP7XsiUum7q8aJaOnbsqLg4HoRbmZ4lgFRGLUDbfPnllxo6dGiA9s5uEUAAAQQQQAABBKpLwJwRNmeOWfwXIID4bxawLaZPn65BgwYF9ZvCgBUTxB0vXbpUI0eOxM0P86qardyeofE/rtHSrfvUPjVBK7bvV2xUhM7q3kjn9myi5LhoP1rjnFWr6hbqlQbiDIh5XzOzav373//WGWecERIE5nLB9bsz7VOnl2zdZ/82l3GVt/RsnqSE6Eh1bFTbXrZlZt6KigwPaC1uH2uBwAuW2aodGfpicdFsVtm5v19mZWo6uVMD9WyerEFt6znmIZrBcgtEn9fUPovNpk2bpuOOO66mmuHo4xJAQqj7gnGtdAiVW21Nwc1/ysqa7d5/UP/7armdTrf44s2YyDCNPr6NrhzUSsnx7gwexcKVdfO/h2pmi0DcA2Iu5yr+gmDEiBE1U9hRjmquRN6wJ8vOsGVuap+9fo/W7Mw8tFVibKQySjyzwUwf3aNpknq1SFbvFsnq1Typ2p9d4/axFoiBEEizjAO5+tg8PHXWBi3anH5Y82OjwnV298a6pF9z9WyW5LgJNgLpFoh+DoV9Ylb1XiCAVN2w2vbAgK4cJW7+u/lrZq5pnvjTej3+zYrDPoid2a2R7jqjo5ome+MaWH/d/O+Zmt3CzHL14IMPVussWE4IIGWp79p/UHPW7dXiLWmaunJ3uQ9ILN62ZUqcDSQDWqfYsyQdGiZWabYtt4+1QIz06jZLz87Vd8u26/NF27Rpb7Y9W1ZyMf1sptE955jGqh3r3BmtqtstEH0bavvErOo9QgCpumG17YEBXTlK3Px388ds6sqduvfjJYdNqduxYaLuObuLBrRJ8f/gDt7CHzcnlmlmwDIzXZX3HJD58+ere/fufpXm1ABSusgDuflauCndPo/klw179cv6vdpdxmVbDevEalv6AZmzJOap7eZMSY9mdezfLVPifX4midvHml+DyMeVq8PMnOX9esl2fb54m2as3qXc/N/n6WlYO1b7DuRqWI/GuqRvc9dMJ14dbj52kWtWw6zqXUkAqbphte2BAV05Stz8d/PFbMPuTN336VL7FPPixTw08NZT29tfvpERgb0G3v+qAr+FL26Bb0VgjzBmzBiNHz/ePgndXNts7uEwT0K/+uqr9dxzz/l9cLcEkNKFm8u21u/OsoFk7m+BZGfGwTJDSfG25lIuE0TMc3B6NEtStyZ11KhObJmX7HhhrPk9mI6yQWXNtqZl6+ulRWc6fl67WwWl5gaNCA+zZ7Yu7tNMgzvUV6KDz3aURVhZt+ruPyftD7Oq9xYBpOqG1baHrVu32l/85hd9o0aNqm2/bt8Rbv73cEVm5snTL89YZ2+yLH6gW3iYNKJfC/sALbff51GRphfGmplq96GHHtKECRO0adMmNW3aVKNGjdLtt9+uyMhIvwdb8ex+XpgtZl92rhZvTtf8TWlauDFdCzalHTY1dWk8M4HDjoyDdkrgjo0S7aVbnRvVVtsGCdq7awe/D/wcbb6+Ps3ldT+v2aOZa3bbPwmxkZq3Ie2wo5lpxAe1q2enzz2lU6qr3/d8dfOzO1y9OmZV714CSNUN2QMCrhHYuCdLt727QDPXFD1JukfTOnZ2q38N62I/HLEg4K+A178pNA+mW7ApXQs3pWn+xjR7GZe5t8As8TERyjx4+CxK5t/NN+5mpi3zmiv6UxROGiTGOO4GZ3/HSyDWN2emzJkNEzZM8Fi5Y/9hh+nUMFFLt2WoVlSEhnSob0PHSR0buO5MRyBs2ScClRUggFRWju0QcJGAuZzEzGx13ydLDj2911wuYu7zOL9XEz70uKivg12K1wNIae/iS7fM1L/mDImZynrp1gyZb+WPtpgA0qpevFrXT1Cb+vGH/rtZci1PXhJZllfWbw+hXLY1Qxv2ZOqbpTsOu3+t9DbGc1DbFA1qV18ntKuvWtERR+sGfo4AAtUgQACpBkR2gYCTBcwNs3dMXqgfVuw8VMYJ7evrv+d3U6M6tZxcGm0PAQECiG+dYL6lLwoj++xT3M3fq3bsV16JGxLMh+W1u36fHrh4z+Zp7s1T4tS6XoJa14+3Z0+a1Y1T0+RaMjfFx0S670O1CXKb07JlgoZ121YU5Nbtzjw0Rbi5x6b0lLnGpl/rFPVvXVf9W6cotXasbx3EWgggUK0CBJBq5WRnCDhHwPwC/2D+Zt3z4a/a99szDuKjI/T3szrbmy3DwsKcUwwtDVkBAkjlu+ZgXr4NIcUfsjNz8uzD77amHzjqTs0sXAfzCux69RNj1Diplpom1VLjpFj73+bmd/PhOyU+RnUTomVe+6H0ms8vKNT2fQdsyNi8N9v+babC3WL+Py1bezNzKrzh39RtZq2Ki44gcBx1tLACAsEXIIAE35wjIlDjAuZyj7vfX6Qvf/19hqt+rerqfxf2sN+csiBQXQIEkOqS/H0/mQfz7Df95mGJ5ozImp37f/s7UxkH81QvPlq7Kniyu9mTmRLY7KN4iY4MV0p8tOr+9sf8twku5vkW5ibthJhIJdaKUmxkuL1XwtwbFhMVrpiIMEWEh9v7VgoKCxRWKEVGRCqvIFdhYREqKCzUwfx85eVLB3ILdDA3XyZImXtfTB17snKUlpWrtKwc7c3KtfuftzHNTmVc8uxPWYpmVr7i+2lM+zukmntliu6XMX/MdOFJce5+OGr1jy72iEBwBAggwXHmKAiEjICZ2/761+dpz28fUMw3pXee3lGXDWjp8zMKQqYYGhLyAgSQ4HWROau5a3+O1u/OtFMEm7MFW9J/P3OwJe2AsnOLbno/plmSvSm+oqVhnRhtS//93pTiS8DqJUQrMiLM/sw8+dsEkfjoSEWFSVGREUpOiJKZ2ja/QDYQmZn1wsPD7JPmj2lWR/M3Fj1JvKxLyro0ri1zf0x5izl2k6RaapJcy05pbC4xMzOHmX15cWrw4I0ujoRA9QoQQKrXs8y9ffXVV3r33Xc1d+5cLVq0SLm5uVq7dq1atmxZ5vqLFy+2U15OmzbN/nzQoEF2WsyuXbv61Nr8/Hw9/PDDdhrNjRs3qlmzZnYazdtuu00REc69FnjdunVq1apVuQZmilBjW9FS0T6uvPJKa+bG5S9/+Ytemfiqkk74s+r0v1AHNi1RbNPOOrh5mSbffo4Gdmt71LLdOq7KKjwrK0sTJ07URx99ZF+zu3fvtq/Xs846S+Zp4UlJSUf1cvNY82cslBVAqvoed1T8EFxhzpw5mjRpkr777jv7/h8fH68uXbrorrvu0sknn3zUFtvX8CuvlLmeeZ830yUfbTEBxZxtMJcwmbOgJpDsyTxoQ4v5QsL8MQ9XNP+2e3+OWtWP18rtv88YZc4omPtTmiTF2jMe5tKoY5olKzoyzAYQ82ig6MgIeyZla3q2fYhfUQCRwsNlA4iZWc/MCmaWkmHDXPFpzmiYfzPbmcvFTMiIycvUbdeNUt6+Hcrft1OFeTmHyvT1Pdtr462isWLw7rvvPt19993lDpfqGGtHG4s1/fP9+/frf//7n/1cZl6b27Zt02WXXaaXX375iKb5835XXl1eG4O+9C8BxBelKq5jXsxvvPGGunXrpoMHD8oMxPICyMqVK9WnTx/VrVvXPo3YLOPGjVNaWppmzZqldu3aHbU11157rZ599ln7ILGBAwdqxowZ9kFi5t+ffvrpo24fqitkZmbq/fffP6J55pev+VB49tln2w+MvgSQc845RxdccMFhq7Zt21b9+/cP1fKr1K7hV1ytb7NaqFbLHnY/MWEFOr7+QR1f/4AuPP+Pios7+mVXbh1XZcGa16h54vfxxx+v0047TQ0aNLC/qExANUHE/Hft2hVPS1wcQNw41vwZC6UDSHW8x1XpxVBDG5v3mx9++EHnn3++evXqJfMByLwvm7H2zDPP6JprrqmwZcUfCk0ICTef5kssf/yjb69hf0o3YWVfdp4yDuZq/8E87T+QJ/M0eHO/WG6+uZSqwF5KZYJIoUkYCleB8hURFqbaMdFKO5Cjouf5hcncJB8VEW4f8Fc7NtKeqTBTEJv/rl0rWslxUXbKW7Ov0ktVX0deHG8//fSTVq9efYTlE088YT9sm/cvMwbLW4I91vwZl9W1bvG4Ms9c6927tz755JNyA4g/73dltc+LY9CXfiKA+KJUxXU2b96sevXqKSYmRn//+991//33lxtAzC8p88CupUuX2jMXZjEfsDt16qTTTz9d77zzToWtMd/W9ujRw4YX82ZTvIwdO1ZPPvmkFixYYIOQmxbzbc4//vEPTZ48WeYXcUVL8ZuO+fbHbOeFxTyp+ZKnvlFORFHIMNd1PzOil/q0rOtz+V4bV7t27dKWLVtsCCm5vPjiizLfuj7yyCO6+eabPTnW/B0LpQNIVd/jfB60IbaieaL8sccea38PFC/Z2dk65phjtHPnTu3YsaPCBz0Wfyg0Z3kr80DIEOPwuTlVfc/26ngrDWzO6jZs2NB+gbJw4cIK/b0w1syXweZ9vkmTJjIPX42KiiozgPj7flcWLGOw7OFGAPH5bbB6VqwogJhvxFJSUnTxxRcfcardnBp866237AsmISGh3MaYD9YPPPCA1qxZc9jlSuaMS+vWre2ZAhOA3LS0b99ee/bssR8Yo6MrvuGw5C+z4lPQtWq5c6pZ8w3mKzPW6b5Plx66mbNPy2T9d1h7tWxY94hvUSsaE14cV2V57Nu3T3Xq1NEVV1yhF154wecA4qax5u9YKBlAzGu1qu9xbnrvMrXccsstevTRR7Vhw4ZDXzqVVWPxh8KcnByZ4GJ+D5Q+E+I2G1NPVd6zq+N3qltMX3vtNY0cOdJedmTGXEWL18ZaRQHE3/e70q6MwfJHGgEkyO8uFQUQc9rUXDJlLp8aM2bMYS0z/2ZOA5p1KrpMyFwuYs5ymOsZSy+pqanq2bOnPcPilsVcXnbcccfp+uuvt2d4jrYU/zIzv7zNG4NZzKVXN910k6677rqjbe6Yn5uHcd05eZE+WrDlUJvTf56s/HnvKyM9TSZ0mTNq5t6iNm3aHLUu2LoV2QAAIABJREFUr42r8kCWL1+ujh076s4779SDDz7oUwBx21jzdyyUDCDmW8eqvscddbA6bIVLLrnE3iNoLrM194WUtxR/KExMTFRGRobfr2GHsRxqblXes6vjd6pT3Uq3+9RTT9WUKVO0adMmmc8CvgQQr4y1igKIv+93pV0ZgwSQkHkPqSiAmEuIzKk6cx+DuZ+h5GL+zVxLbn5RmWuIy1vM5VXmLIC5xrP0Yq75NKfvzSlFtyxXX321nn/+ec2ePdte3nC0xXzLaL69Pvfcc9WiRQt71sRc12+ui7311lvtzftOX8yUnGMmzdWK324eNdNn9ji4UA1zt9lrXc0lIDNnzrSBzfyCMbUbi4oWr42r8iwuvfRSeyPxvHnz7KWOFS1uHWv+joWSAcScia3qe5zTX58l228utTWXYJnJDcz7f0WLCb3m/buyr2GnulXldVQdv1Od6lay3eYy8ObNm9svncy9DkdbvDbWKgog/r7flbZlDBJAjvZ68+nn5s2/rBu7ytrY3NRrXvCll4oCyKuvvirzAefLL7+U+bai5GJm0jJJ3KxjTqOWt5hvs823G+bMQOnFfPNorjNetWqVT/UGcqXqsDTfppprWs01nOZGzsouZoaLk046yc46tmLFCp/OCFT2WFXd7mhuszdl6sEftisrt+j2z3YNEvTcn3urTf0jL9v7+uuv7Tgrb+aPkm11yrgqy/doZiW3Ke91a9YxQdcEXnPvh7kHpDKLk8Zadb3HlAwgv/76a5Xf4yrjHorbpKena8CAAdq6das9a13W74ujtduf1/DR9uWkn/v6OqqO36lOcimvrf/5z3/sbGvmHtLSk6/4Wp+bx1pFAaSqv/sYg+WPMC7B8vXVV+JaVF82GTx4sL7//vsjVuUMSBHJ0abULQlXnuXbb7+tP/3pT/YyIjPFcFWWjz/+WMOGDdP48eN11VVXVWVXAd22Irfafc9T4rHnSGHhikyoq/hdSzXr6ZsUHxNZbpvMt6nmA5A5E1TRUtVvgQKKcpSdV8dY++CDD+wv7jPOOEPvvfdelW4CdspYK4/V37HAGZAjJc09HOYLJXPm1lwSa97jKrv4+hqu7P5DdTtfXkd8+1zUe507d7aXZZv3+pKTIPjbt24da5wB8XckVM/6BBA/HM0vDTONoi+LmUa3b9++fgWQ6rhWsKrXK/pSW3WsUx2WZ555pj1bZGYJM1PpVWUxs4KYS2rMDfrmRv1QXcpyM08afntVob7fXHTWI7WWdELjMF3QPUX9+vWrsBQza5g5JW9ubK1occq4KquGqo41c/bRhFNzBvGzzz5TbGxslYaHU8ZaeUX6Oxa4B+RwSfNaM+PJPA/EhFlz+VVVFl9fw1U5Rihu68vrqDp+p4Zi7f60yYRc81mkOqbhd+tY4x4Qf0ZU9a1LAKk+S5/2VJVZsN588037QLSKZsEyH57NzbFunwXLfJtjHrxlLiEyHwqrupgPAubeGnM/iJlm1SlLdk6+bnhjnr5Zut02OT46Qs+M7K3B7ev7VIKZZnbv3r02xFW0eGVclTYwXziY66bNt/7ffvttha89n8Al+6HTiWOtuD5/x4I/s2D58h7nq3Mormc+6JgzaebbezMrkZnxsKqLr6/hqh4n1Lb35XV0tBmI3D7eTJ+ZCVrM879+/vnnMr8U9adf3TrWKgog/r7flfZkDJY/wggg/rz6qmHdoz0HxHwwMd/qL1u27NCTbYufA2K+eSx5o6I5nWquIzbXKJo5rM1iriU2M12V9xyQ+fPnH/Fsg2ooK+i7MNfgm5vGzdTEF110UZnHL8vHTNdrzk6VXMw35GYmLXMfibnHp/j5K0Evys8DmicZX/nKHC3YmGa3bJAYoxf/0kddm9Q5bE/mAY7muQGlT70bO/MByNzX8Nxzzx3axsvjqiSc+YVtnlDdqlUre+YzOTm53B5y+1grWbiv7zHF996sX79eQ4cOPfTwM3/e4/x8SYT06gUFBRo+fLh9zzL3E40ePbrM9ha7memei8/s+vsaDmkIPxvn63t2WW7mUF4db6Z2c7atcePG9kGqS5YsOUKesVZEUlEA8fX9zuyHMejfi5sA4p9XpdY2p4qLn9D9zTff2A8zZh7upKQk+8d8Q1G8mGk+zelSM1f+jTfeaP/ZPAndnPkwT0Lv0KHDoXWLp2Us/VR1M4WvuZfBPAndfLA2D8AyT9wt/UGzUsWEyEbmmxgTzMyZkPKuaS3Lx5xCNg9kMlMZmzMo5t4H82Rhc8bInDkys384YTEzXf3lpdnasCfLNrd9aoJeuryvmiQd+UwTEzrN5Wpm5q927drZWdLMpQmvv/66DVvmg3bJaRm9PK6K+958aDZB3kx3am7gLD1tpfn/U045pcLXolvGWlmvB1/eY4rvvTGXGJnL/IqfvuzPe5wTXou+ttFMXvDYY4/Z+z1GjRp1xGZmPJlxVexWcnIIf1/DvrbJCev5+joqy83U59XxZmovPktk3sPuuOOOI7rb62PtqaeestNfmy8H7rnnHvueX/wwY3OZZPGDaH15vzO4jEH/3lEIIP55VWrtl19+2YaBshYz/akZtCUXE1huv/12GxzMMmjQIP33v/894sxFeR8UTZo3N2aby4nMnN/mg7b5hWf26YYn6JopUM2UwuZNwTwfpbylLB/z8DgTOMwvJfPNmrmczezLPCnevOE4YZmzbo9GTZyjtKxc29wBrVPsTFd1ahWdBSu9mJBmAq+5FtgELvMtjQkeZqpn85ClevXqHbaJV8dVSQQzgcSJJ55Y7nAoPTGCW8daeQC+vMeUF0DMPn19j3PC69HXNg4ZMqTCewjNMxrMOmV9iPH3Nexrm5ywnq/v2eV9+PPqeDN1m6n7Tfg3X9aZMyGlF6+PNfNUePNlU1mL+dLWvK+bxZf3O7MeY9C/dxQCiH9erI1AjQp8vmirxr41Xzl5BbYd5/Vsov+e313RkeE12i4OjkB5AiXvATFhnwUBBBBAAAECCGMAAYcITPxpne756FcVFk12petPbKtbTm2vsLAwh1RAM70oQADxYq9TMwIIIFCxAAGEEYKAAwTGfbtSHy/Yoi1p2TqQV6D7zu2qS/oe+aBLB5RCEz0mQADxWIdTLgIIIOCDAAHEByRWQaCmBAoLC/X4Nyv1xLcrbRM6NUzU7UM76MSOqTXVJI6LgF8CBBC/uFgZAQQQ8IQAAcQT3UyRThQw4ePRr1foye9W2ebHRUfYaXb7t05xYjm02aMCBBCPdjxlI4AAAhUIEEAYHgiEoIAJHw9/uVzPfL/ats48YNBMs9u31eHPMAnBptMkBA4TIIAwIBBAAAEESgsQQBgTCISYgAkf//l8mcb/uMa2LCEmUq9c0Ue9WxA+QqyraI4PAgQQH5BYBQEEEPCYAAHEYx1OuaEtYMLH/Z8u1YRpa21DE034uLKvejUv/yncoV0RrfO6AAHE6yOA+hFAAIEjBQggjAoEQkTAhI//+2SJXppe9GDKxNhIvXplPx3TLClEWkgzEPBfgADivxlbIIAAAm4XIIC4vYepzxECJnz866Nf9cpPRU9lrR0bqUmj+ql7U8KHIzqQRpYrQABhcCCAAAIIlBYggDAmEKhhgYKCQv3zo8WaNHODbUlSXJQmXdlPXZvUqeGWcXgEqi5AAKm6IXtAAAEE3CZAAHFbj1KPowQKCgp09we/6o1ZReEjOS5Kr43qr86NazuqDhqLQHkCBBDGBgIIIIAAZ0AYAwiEkMB9nyzR0m0Zmr5ql1Lio/Xa6H7q2JDwEUJdRFOqKEAAqSIgmyOAAAIuFOAMiAs7lZKcITBh6hrd9+lS29iBbVL0r2Fd1D410RmNp5UI+ChAAPERitUQQAABDwkQQDzU2ZQaOgIfzt+ssW/Otw0yTzh/86r+3HAeOt1DS6pRgABSjZjsCgEEEHCJAAHEJR1JGc4RmLFqly57aZZy8wsVGR6mCZcdqyEdGjinAFqKgB8CBBA/sFgVAQRCUiAnJ0f9+vXT5s2btWjRIqWmph5q50UXXaQPPvhAM2fOVK9evUKy/aHYKAJIKPYKbXKtwJIt+/Sn8T8p42CerfF/F/bQBb2burZeCkOAAMIYQAABNwgsXbpUvXv31oknnqhPP/3UlvTKK6/oL3/5i/7zn//ojjvucEOZQauBABI0ag7kdYFNe7P0x2dmaEfGQUtx22kddN2Jbb3OQv0uFyCAuLyDKQ8BDwk8/fTTuv766/XUU0/pjDPOUI8ePexZj++++07h4eEekqh6qQSQqhuyBwSOKpCWlaPzn52h1Tsz7bp/7t9C/3dOF4WFhR11W1ZAwMkCBBAn9x5tRwCB0gJnnXWWDRzt27fX+vXrtWDBAjVv3hwoPwUIIH6CsToC/gocyM3XiAk/a+76vXbT07qk6pkRvRURTvjw15L1nSdAAHFen9FiBBAoX2DHjh1q06aN9u/fr1dffVUjR46EqxICBJBKoLEJAr4K5BcU6ppJc/XVku12k2NbJGvSqH6KjYrwdResh4CjBQggju4+Go8AAqUE3n33XV144YX2X2+99VY9/PDDGFVCgABSCTQ2QcAXgcLCQv3jw8WaNLPoKedtGyTo3TEDlBQX7cvmrIOAKwQIIK7oRopAAAHJzoLVvXt3ewbE3P/x4osv6ttvv9WQIUPw8VOAAOInGKsj4KvA01NW6eEvl9vVU2vH6L1rj1OTpFq+bs56CLhCgADiim6kCAQ8L2C+VDz11FM1Y8YMzZs3T02bNlXPnj114MABex9IUlKS5438ASCA+KPFugj4KPDOnI267d2Fdu3EmEi9PWaAOjWq7ePWrIZA+QJZWVmaOHGiPvroIzsf/e7du9WyZUuZGyP/9re/lflLcPHixbr99ts1bdo0u+NBgwbpoYceUteuXY84kD/r+tJPBBBflFgHAQRCXeDRRx/VLbfcovHjx+uqq66yzZ0zZ44GDhyoCy64QK+//nqolxBS7SOAhFR30Bg3CExZvkOjXpkjc/9HVESYXrmirwa2qeeG0qghBARMQDCXABx//PE67bTT1KBBA82dO1cTJkywQcT8d+3av4fdlStXqk+fPqpbt65uuOEGW8G4ceOUlpamWbNmqV27doeq8mddXykIIL5KsR4CCISqgPmyx7yPmvfcDz/88LBmPvDAA7r77rv12muvafjw4aFaQsi1iwAScl1Cg5wssGzrPl316lxt2JNV9EHvkp4a1qOxk0ui7SEmsGvXLm3ZssWGkJKLuRb5yiuv1COPPKKbb7750I/MN3NffPGFzEO0mjVrZv9948aN6tSpk04//XS98847lVrXVxYCiK9SrIcAAgh4R4AA4p2+ptIAC+zJzNHZT05TXn6BoiLC9ZfjWmrU8a0DfFR2j0CRwL59+1SnTh1dccUVeuGFF+y/mWkiU1JSdPHFF9sn9pZcLrvsMr311lsygSYhIcGvdf0xJ4D4o8W6CCCAgDcECCDe6GeqDLCACR2XvTRL01fttkca0a+57j+vW4CPyu4R+F1g+fLl6tixo+688049+OCD9gc//fSTvT752Wef1ZgxYw7jMv927bXX2nX69+/v17r+uBNA/NFiXQQQQMAbAgQQb/QzVQZY4MHPlmr8j2vsUXq3SNYbo/srOjI8wEdl9wj8LnDppZdq0qRJdnYWMz2kWSZPnmxvjjQ3rJ999tmHcZl/O+ecc2TmtD///PP9Wrc8961bt8r8KbmYS7/Mg7rMvSm9evWiyxBAAAEEEBABhEGAQBUFPlm4Rde/Ps/upUFijD65YZAa1I6t4l7Z3AsCubm5Wr16tU+lxsXFqXnz5mWu+/zzz+vqq6+2936Ye0CKF/OUXhNMvvzySzt9ZMnlq6++sjdUFj/J1591y2vwv/71L917771l/pgA4lM3sxICCCDgCQECiCe6mSIDJbB8W4bOe2a6snLy7YxXb17VX71b1A3U4divywTWrVunVq1a+VTV4MGD9f333x+x7gcffGDPcpxxxhl67733FBkZeWgdzoD4RMtKCCCAAAJBFiCABBmcw7lHID07V+c8NU3rdhfNePXvc7vqz/1buKdAKgm4QHZ2tn744QefjmOm0e3bt+9h65qzGMOGDbP3eXz22WeKjT38zBv3gPhEy0oIIIAAAkEWIIAEGZzDuUOgoKBQV74yW1OW77QFXdi7qR66oLvCwsLcUSBVhLyACS5mGt1u3brp22+/tTNZlV6ONgvWm2++aR9k6MssWCXX9QeHm9D90WJdBBBAwBsCBBBv9DNVVrPAo18t17jvVtm9dm9aR29fPUCxURHVfBR2h0DZAj///LNOPvlke/mWCSLJycnlUpkbzM09IMuWLVPTpk3tesXPATH3gJjLtIoXf9b1tW8IIL5KsR4CCCDgHQECiHf6mkqrSeCrX7fZhw2aJSU+Wh/fMEiNk2pV097ZDQIVC6xfv149e/ZURkaG/vOf/yg1NfWwDcz/n3LKKYf+zUzPay7dMs8DufHGG+2/myehmzMf5knoHTp0qNS6vvYTAcRXKdZDAAEEvCNAAPFOX1NpNQis3rlf5zw1XfsP5ikiPEyTruynAW1SqmHP7AIB3wTMjegnnnhiuSuXdbP6woULdfvtt2v69Ol2u0GDBum///3vEU9TNz/zZ11fWkwA8UWJdRBAAAFvCRBAvNXfVFsFARM6zn16ulbt2G/38vczO/Gk8yp4sqk3BAgg3uhnqkQAAQT8ESCA+KPFup4VKCws1DWTftEXv26zBucc01iP/+kYbjr37IigcF8FCCC+SrEeAggg4B0BAoh3+ppKqyDw6sx1eu77Ndqclq1OjWrrvWsGqlY0N51XgZRNPSJAAPFIR1MmAggg4IcAAcQPLFb1psDCTWn64zMzFBMZrs6Na+uRC49R85Q4b2JQNQJ+ChBA/ARjdQQQQMADAgQQD3QyJVZeIPNgns56cprW7sq0Oxn/5946rUvDyu+QLRHwmAABxGMdTrkIIICADwIEEB+QWMW7Are/u0Bvz9lkAUb0a677z+vmXQwqR6ASAgSQSqCxCQIIIOByAQKIyzuY8iov8MnCLbr+9Xl2B20bJOjj6wdx30flOdnSowIEEI92PGUjgAACFQgQQBgeCJQhsGlvlk5/YqoyDuQpOiJcH1x3nL3/gwUBBPwTIID458XaCCCAgBcECCBe6GVq9Esgv6BQFz//k2av22u3++dZnXXFoFZ+7YOVEUCgSIAAwkhAAAEEECgtQABhTCBQSmDctyv16Ncr7L8O6VBfL/2lD8/7YJQgUEkBAkgl4dgMAQQQcLEAAcTFnUtp/gvMXb9HF42fKXMWpF5CtD4fe4LqJ8b4vyO2QAABzoAwBhBAAAEEyhQggDAwEPhNYN+BXJ3xxFRt2ptt/+Xly/toSIcG+CCAQBUEOANSBTw2RQABBFwqQABxacdSln8ChYWFuvHN+fp4wRa74RXHtdI/z+7s305YGwEEjhAggDAoEEAAAQRKCxBAGBMISJo8d5NueWeBtejUqLY+uG6gYiIjsEEAgSoKEECqCMjmCCCAgAsFCCAu7FRK8k9g3a5MnTluqjJz8hUbFW6f99EuNdG/nbA2AgiUKUAAYWAggAACCHAGhDGAQAmB3LwCXTj+J83fmGb/9f7zumpEvxYYIYBANQkQQKoJkt0ggAACLhLgDIiLOpNS/Bd48tuV+mbpdm3cm61jWyRr/J97M+Wu/4xsgUC5AgQQBgcCCCCAAGdAGAMI/CawcnuGzhw3TTn5BWpRN06Trx2oeglMucsAQaA6BQgg1anJvhBAAAF3CHAGxB39SBV+CpjnfJz/7IxDl149O6KXTu/WyM+9sDoCCBxNgAByNCF+jgACCHhPgADivT6nYkkTpq7RfZ8utRand22oZ0f2xgUBBAIgQAAJACq7RAABBBwuQABxeAfSfP8FNuzO0qmP/6ADuQWqUytKX998ghokxvq/I7ZAAIGjChBAjkrECggggIDnBAggnutybxdsHjg4YsLPmrF6t4X434U9dEHvpt5GoXoEAihAAAkgLrtGAAEEHCpAAHFox9Hsygm8MWuD7npvkd14cPv6evnyPsx6VTlKtkLAJwECiE9MrIQAAgh4SoAA4qnu9naxW9OzdeqjPyrjYJ7ioyP01c2D1SSplrdRqB6BAAsQQAIMzO4RQAABBwoQQBzYaTTZfwFz6dWoV+bo22U77Mb/PqeL/jygpf87YgsEEPBLgADiFxcrI4AAAp4QIIB4opsp8sP5mzX2zfkWom/Lunrzqv4KDw8DBgEEAixAAAkwMLtHAAEEHChAAHFgp9Fk/wR27z+oUx77UXsycxQTGa7Pxx6v1vUT/NsJayOAQKUECCCVYmMjBBBAwNUCBBBXdy/FGYEb3pinjxdssRh3nt5RYwa3AQYBBIIkQAAJEjSHQQABBBwkQABxUGfRVP8Fvl6yXaMnzrEbdmtSR+9fO1CREeH+74gtEECgUgIEkEqxsRECCCDgagECiKu719vFpWfn6tTHftD2fQcVGR6mj64fpM6Na3sbheoRCLIAASTI4BwOAQQQcIAAAcQBnUQTKydw5+SFenP2RrvxjSe11c2ndqjcjtgKAQQqLUAAqTQdGyKAAAKuFSCAuLZrvV3Y9FW77BPPzdKuQYI+uXGQYiIjvI1C9QjUgAABpAbQOSQCCCAQ4gIEkBDvIJrnv0BWTp5Oe/xHbdyTLTPT7uRrBqpn82T/d8QWCCBQZQECSJUJ2QECCCDgOgECiOu6lIIe/nKZ5q7bqwWb0jSiXwv9/azOoCCAQA0JEEBqCJ7DIoAAAiEsQAAJ4c6haf4LrN65X0Mf/1G5+YXq0jhR74wZqLjoSP93xBYIIFAtAgSQamFkJwgggICrBAggrupObxdTWFioS1+cpakrd1mI8X/urdO6NPQ2CtUjUMMCBJAa7gAOjwACCISgAAEkBDuFJlVO4IvF2zRm0ly78eD29fXy5X0UFhZWuZ2xFQIIVIsAAaRaGNkJAggg4CoBAoirutO7xWTn5OvkR3/Q5rRsRUWE6cubTlDr+gneBaFyBEJEgAASIh1BMxBAAIEQEiCAhFBn0JTKCzz69QqN+3al3cE1Q9rojqEdK78ztkQAgWoTIIBUGyU7QgABBFwjQABxTVd6t5ANu7N08mM/KCevQA1rx+rbWwYrPoYbz707Iqg8lAQIIKHUG7QFAQQQCA0BAkho9AOtqILAqFfm6Jul2+0enrykp87u0bgKe2NTBBCoTgECSHVqsi8EEEDAHQIEEHf0o2ermLJshy5/ebatf0DrFL0+uh83nnt2NFB4KAoQQEKxV2gTAgggULMCBJCa9efoVRA4kJtvn3i+fneWIsLD9PnY49U+NbEKe2RTBJwpMHjwYP34448aMWKEJk2adEQRU6dO1d133625c+cqJiZGp556qh566CE1b968Suv6okUA8UWJdRBAAAFvCRBAvNXfrqr26Smr9PCXy21NVw5qpX/wxHNX9S/F+CYwceJEXXvttcrMzCwzgEyfPl0nnniiOnfurNGjRys9PV2PPfaY4uLibCCpV6/eoQP5s65vrZMIIL5KsR4CCCDgHQECiHf62lWVmul2//DI9zqQW6B6CTH67tbBqh0b5aoaKQaBowmkpaWpQ4cO+utf/6q77rqrzABy7LHHavv27VqyZIkSE4vOEJrg0adPH91yyy16+OGHDx3Gn3WP1rbinxNAfJViPQQQQMA7AgQQ7/S1qyq97rVf9OmirbamRy7sofN7N3VVfRSDgC8C1113nb7++mstXrzYXlpV+hKslStXqn379vrnP/+pe++997Bdmsu2Vq1apc2bN9t/92ddX9pGAPFHiXURQAABbwkQQLzV366odtrKXRr5ws+2lmNbJOudMQO48dwVPUsR/giYsxh9+/bVJ598otNPP92+BkoHkDfeeEPDhw/X559/rqFDhx62+zvuuMPeB7J161Y1bNhQ/qzrTzs5A+KPFusigAAC3hAggHijn11TpXnWx+lP/KjVOzMVHiZ9fMMgdWlcxzX1UQgCvggUFBSof//+atSokT788EO7SVkB5JFHHtGtt96qhQsXqlu3boftety4cRo7dqzmzJmj3r17y591/3979x5nU9n/f/w9Y4wxTjmWjFPImYxjGiZGB+6koyil7hQK3VKD0i+FiqJS6fwtETre910pZ8YhcoiQY4OoKMc0DmNOv8e6+vI1GLP3zN5r1l7rtR8Pj/vxnX3t6/p8ntf1x/fd2mvtnGq0woz17/TXxo0b1aNHD/O1r9jYWF/aYwwCCCCAgMsFCCAu32C3tfc/i7fp6a82mrbubFVVI25o4LYW6cdDAmlpaUpOTvapY+um8ZNPrXrjjTfMfR/WfR3Vq1fPMYCMGDHCfP1q8+bN5qtYp7/eeust9e7dW9YTsuLi4uTP2JwKHj58+Flf9To5lgDi0zYzCAEEEPCEAAHEE9vsjib3p6TqulcWq3KZaG3fd0SzB7bVBdGR7miOLjwpsGPHjlMBIjcA656NBQsWaO/evebG8379+unpp58+9TGugOQmyPsIIIAAAk4RIIA4ZSeoI1eB4V/8qPe/3WHGjezSQD0ur5rrZxiAgJMFjh07pqSkJJ9KLFOmjLnno3///poyZYoJI0WLFj312Vq1aqlLly564YUXzKN1L7jgAr/u6+AeEJ+2gUEIIIAAAgEQIIAEAJEpgi+wbW+Krn5xodIzs1SjfDHN/FdbRRQKD/7CrICAwwRuuOGGU/d95FSa9Whd696PLVu2mKslvjwFy5+x/pBwE7o/WoxFAAEEvCFAAPHGPod8l70nrdTMH383fbzbs5kS6l4Y8j3RAAJ5EVi6dOmpR+ee/vlbb71Vbdq00YABA9SoUaNT93xYN5j/8ccf5/wdEOs+Euvm85Mvf8b6WjsBxFcpxiGAAALeESCAeGevQ7bTFTsO6NY3lpr6W11SRlPva8Vjd0OWuhakAAAgAElEQVR2Nyk8WALnugfEWmvhwoXq0KGD+SX0+++/X4cPH9a4cePM74ZY4aB8+fKnSvJnrK99EEB8lWIcAggg4B0BAoh39jokO83KytINE77VD7sOmfq/7BenhjE8djckN5OigyqQUwCxFrXuMxk2bJh5FK4VPK666irzC+hVq559H5U/Y31piADiixJjEEAAAW8JEEC8td8h1+2XP/ym/lNXm7pvbFJJL952Wcj1QMEIeFmAAOLl3ad3BBBA4NwCBBBOhmMFUtMzlDA2Sb8cPKbIiHDNGxSvmNLRjq2XwhBA4GwBAginAgEEEEDgTAECCGfCsQLvLNqmkdP//tHBPvE1NKRjHcfWSmEIIHBuAQIIJwMBBBBAgADCGQgJgUNHT6jtmPk6fDxdpaMLKymxnUpGFQ6J2ikSAQT+T4AAwmlAAAEEECCAcAZCQmDEVxv07uLtptanrq+vnq2rhUTdFIkAAtkFCCCcCAQQQAABAghnwPECO/cfVcK4BUrLyFL1csU0a2BbFeZHBx2/bxSIwLkECCCcCwQQQAABAghnwPECD075XtPX7jZ1vtGjqa5tcJHja6ZABBA4twABhJOBAAIIIEAA4Qw4WmDNzkN69puNWvnzQcVWuUAf976cHx109I5RHALnFyCAcEIQQAABBAggnAFHC9z57ndatHWfLi4VpVdvb6LYqmUcXS/FIYAAAYQzgAACCCDgnwCP4fXPi9FBFFi2bb+6vbXMrNCh7oV6p2ezIK7G1AggYIcAV0DsUGYNBBBAILQECCChtV+urTYrK0u3vrHUfPUqLEz6ekAb1a1Y0rX90hgCXhEggHhlp+kTAQQQ8F2AAOK7FSODKLBg8x+6+70VZoXOjS/WK92bBHE1pkYAAbsECCB2SbMOAgggEDoCBJDQ2SvXVmpd/bj+1SVa9+ufCg+TZj8crxrli7u2XxpDwEsCBBAv7Ta9IoAAAr4JEEB8c2JUEAVmrN+tPpO/Nyvc2jRGz9/aOIirMTUCCNgpQACxU5u1EEAAgdAQIICExj65tsqMzCx1fHmhtvyeosKFwjRv0JWqXCbatf3SGAJeEyCAeG3H6RcBBBDIXYAAkrsRI4Io8J/Vv+pfH60xK9zZqqpG3NAgiKsxNQII2C1AALFbnPUQQAAB5wsQQJy/R66tMC0jUx3GJenn/UdVJCJcCxPb6cKSUa7tl8YQ8KIAAcSLu07PCCCAwPkFCCCckAITmLZ8p4Z8vs6sf3/bS/RYp7oFVgsLI4BAcAQIIMFxZVYEEEAglAUIIKG8eyFce2p6hto9v0C//XlcxSILadHg9ipTLDKEO6J0BBA4lwABhHOBAAIIIHCmAAGEM1EgAu8t2a6nvtxg1h7QvqYevrp2gdTBogggEFwBAkhwfZkdAQQQCEUBAkgo7lqI13z0RLrajlmgfSmpKhkVYa5+lCpaOMS7onwEEOAKCGcAAQQQQMAXAQKIL0qMCajA6wuSNXrGJjPno9fU1oPtagZ0fiZDAAHnCHAFxDl7QSUIIICAUwQIIE7ZCY/Ucfh4mtqMnq8/j6WpXPFI8+Sr6MgIj3RPmwh4T4AA4r09p2MEEEAgNwECSG5CvB9QgRdnb9HLc7eaOZ+4rp7ujase0PmZDAEEnCVAAHHWflANAggg4AQBAogTdsEjNVhXPe6duEJ/HU/X4WNpmv/IlYoqXMgj3dMmAt4UIIB4c9/pGgEEEDifAAGE82GbwPi5WzVu9haz3jM3NtDtLavatjYLIYBAwQgQQArGnVURQAABJwsQQJy8Oy6qLSU1XXGj5+nQ0TRdWLKIkh5tx9UPF+0vrSCQkwABhLOBAAIIIHCmAAGEM2GLwJtJyXr2m7+ffMW9H7aQswgCjhAggDhiGygCAQQQcJQAAcRR2+HOYo6nZZirH/tSTqhssUgtGsyTr9y503SFwNkCBBBOBQIIIIAAV0A4A7YLvL9ku4b/76+eJ15bWw9cye9+2L4JLIhAAQkQQAoInmURQAABBwtwBcTBm+OG0k6kZyr++fna/edx86vnS4a0V4kofvXcDXtLDwj4IkAA8UWJMQgggIC3BAgg3tpv27udtnynhny+zqw7IKGWHr7qUttrYEEEECg4AQJIwdmzMgIIIOBUAQKIU3fGBXWlZ2Sq/dgk7TxwVMUiC2nx4PYqXSzSBZ3RAgII+CpAAPFVinEIIICAdwQIIN7Za9s7/ffqXzTwox/Mur3jL9HQjnVtr4EFEUCgYAUIIAXrz+oIIICAEwUIIE7cFRfUlJmZpateTFLy3iMqEhFurn6UL1HEBZ3RAgII+CNAAPFHi7EIIICANwQIIN7YZ9u7/Hrdbj3w4fdm3btbV9Pw6+vbXgMLIoBAwQsQQAp+D6gAAQQQcJoAAcRpO+KCerKystRp/GJt3H1YhQuFaWFiO1UsVdQFndECAgj4K0AA8VeM8QgggID7BQgg7t9j2zucu/F33TtxpVm3e4sqevamhrbXwIIIIOAMAQKIM/aBKhBAAAEnCRBAnLQbLqjFuvpx44RvtWbXIRUKD9P8QVeqStloF3RGCwggkBcBAkhe1PgMAggg4G4BAoi799f27hZv3ace735n1r0ptpLGdb3M9hpYEAEEnCNAAHHOXlAJAggg4BQBAohTdsIlddz25lJ9t/2AwsKk2QPjVbNCcZd0RhsIIJAXAQJIXtT4DAIIIOBuAQKIu/fX1u7W7DyoHu8uV0pquv7RqKJeuz3W1vVZDAEEnCdAAHHenlARAgggUNACBJCC3gEXrX/fByu1NHmf6lYsqeGd66t+pVIu6o5WEEAgLwIEkLyo8RkEEEDA3QIEEHfvr23dJe9NUYdxScrKktpeWl4f/LOFbWuzEAJeFZg2bZpeffVVrV27VtYDIGrUqKG+ffuqd+/e2Uh27typxMREzZo1S6mpqWrWrJlGjhypNm3anEXnz1hf3AkgvigxBgEEEPCWAAHEW/sdtG4f+/c6Tflup5l/8r0tFVerXNDWYmIEEJAefvhhvfzyy+ratavi4+NNANm6dauioqL0zDPPnCLat2+fmjZtqmPHjmngwIEqWbKk3nrrLW3atEnz5s3TFVdckaexvu4BAcRXKcYhgAAC3hEggHhnr4PW6b6UVLV+bp5OpGeqXsWSmj4gTmHWXei8EEAgKALTp0/XddddpylTpqh79+7nXeORRx7RuHHjtGLFChNErNfhw4dVv359XXTRRebvJ1/+jPW1MQKIr1KMQwABBLwjQADxzl4HrdNxs7do/NytZv6XbrtMNzSpFLS1mBgBBKS2bdvq6NGjWrlypbnykZKSohIlSpyTplKlSqpZs6aSkpKyvf/kk0/q6aef1pYtW1SrVi3znj9jfd0HAoivUoxDAAEEvCNAAPHOXgel02MnMtT6ubk6eDRNFUtFaWFiOxUuFB6UtZgUAQRkwkapUqXMvR7lypXT+PHjdfDgQZUuXVr33nuv+fpV4cKFDdXu3bt18cUXa/DgwXruueey8X3zzTfq1KmTpk6dqm7duvk11p99IID4o8VYBBBAwBsCBBBv7HPQupy07Gc98Z/1Zv7HO9XVfW0vCdpaTIwAAtKaNWvUpEkTEz4yMzP1xBNPKCYmxgSJzz//XHfccYcmT55sqFatWmVuOLdCSv/+/bPxWTeuN27cWC+88IIGDRrk19ic9sEKPNa/018bN25Ujx49zPyxsTyamzOMAAIIICARQDgFeRbIyMxSwtgF2rH/qEoUidC3Q9urRNTf/+WVFwII5C6Qlpam5OTk3AdKio6OVpUqVbR48eJTT69auHBhtidZJSQkmBvLf/zxR9WrV0+LFi0yX9d68803df/992dbx/rqVe3atTVixAgNGzbMr7E5FTx8+HA99dRT53ybAOLTNjMIAQQQ8IQAAcQT2xycJmes360+k783k/due4mGdqobnIWYFQGXCuzYsUPVq1f3qTvrSVcLFiw4daWiWrVq2r59e7bPvv/++7rnnns0YcIE8xUtroD4RMsgBBBAAAGbBQggNoO7abmbJizR9zsPKSI8TIsGt1PFUkXd1B69IBB0AevRuGfeHJ7TomXKlFGLFi20Z88eVaxYUS1bttSyZcuyDZ8xY4Y6duyoUaNG6bHHHvPrvg5/7hfxB4Z7QPzRYiwCCCDgDQECiDf2OeBdrvr5gG5+famZ96YmlTTutssCvgYTIoDAuQUqV65s3ti1a1e2Ae+8847uu+8+vf322+rVq5d5z58nW/kz1te9IYD4KsU4BBBAwDsCBBDv7HVAO+09aaVm/vi7mfPrAW1U7+KSAZ2fyRBAIGcB66lWY8aM0Zdffml+D8R6ZWRkqHXr1uZrVz/99JOsr2hZL+sG8xdffNE8svfkTeB//fWXuUekQoUKZvzJlz9jfd0fAoivUoxDAAEEvCNAAPHOXges0+37jqj92AXKypLa1CqnSfe2DNjcTIQAArkLWI/dtZ5uZX1t6qGHHjJXOT7++GNzI/mQIUP07LPPnppk7969JnikpqaaX08/+UvoGzZs0Ny5c7PdxO7P2Nyr/HsEAcRXKcYhgAAC3hEggHhnrwPW6bD/rNPkZTvNfB/8s4XaXlo+YHMzEQII+CZghY+hQ4fq66+/1p9//ml+bLBfv37m5vMzXz///LMeffRRzZ492wQR6xfRR44cKevG9vyM9aVSAogvSoxBAAEEvCVAAPHWfue72/0pqWr93DylpmeqzkUl9M1DbRQWFpbveZkAAQTcKUAAcee+0hUCCCCQHwECSH70PPjZl+Zs0UtztprOx3VtrJtiYzyoQMsIIOCrAAHEVynGIYAAAt4RIIB4Z6/z3enxtAxz9ePAkRO6qGSUFia2U2REeL7nZQIEEHCvAAHEvXtLZwgggEBeBQggeZXz4Oc+/O5nPf7v9abzoR3rqHd8DQ8q0DICCPgjQADxR4uxCCCAgDcECCDe2Od8d5mZmaUHp3yv2Rt+V1ThQvp2aHuVjCqc73mZAAEE3C1AAHH3/tIdAgggkBcBAkhe1Dz4mQWb/9Dd761Q2WKRuuvyqnqow6UeVKBlBBDwV4AA4q8Y4xFAAAH3CxBA3L/HAenwnveWa/7mvbIeeJX0SDtVKRsdkHmZBAEE3C1AAHH3/tIdAgggkBcBAkhe1Dz2mR37jqjd//7wYEKdCnr37uYeE6BdBBDIqwABJK9yfA4BBBBwrwABxL17G7DORny1Qe8u3m7mm/jPFornhwcDZstECLhdgADi9h2mPwQQQMB/AQKI/2ae+sTRE+lq+cxc/XU8XZeUK6Y5D8crPJwfHvTUIaBZBPIhQADJBx4fRQABBFwqQABx6cYGqq3TH737ZOd6uueK6oGamnkQQMADAgQQD2wyLSKAAAJ+ChBA/ATz0vCsrCxd+9Iibf79L0VHFtKyxxJ49K6XDgC9IhAAAQJIABCZAgEEEHCZAAHEZRsayHaWJu9X97eXmSnvbFVVI25oEMjpmQsBBDwgQADxwCbTIgIIIOCnAAHETzAvDe87eZW+Wb/HtDx7YFvVurCEl9qnVwQQCIAAASQAiEyBAAIIuEyAAOKyDQ1UO78dOqY2Y+YrIzNLV9Qsqw97tQrU1MyDAAIeEiCAeGizaRUBBBDwUYAA4iOU14Y9P3OTXpufbNp+886muqb+RV4joF8EEAiAAAEkAIhMgQACCLhMgADisg0NRDvH0zLU+rl5OnDkhCpdUFQLE9upEI/eDQQtcyDgOQECiOe2nIYRQACBXAUIILkSeW/AZ6t+0aBPfjCND762jvpeWcN7CHSMAAIBESCABISRSRBAAAFXCRBAXLWdgWmmy6uL9cMvf6pIRLiWDU1Q6WKRgZmYWRBAwHMCBBDPbTkNI4AAArkKEEByJfLWgNU7D+rGCd+apm9tGqPnb23sLQC6RQCBgAoQQALKyWQIIICAKwQIIK7YxsA1MfCjNfr36l/NhF/1j1ODSqUCNzkzIYCA5wQIIJ7bchpGAAEEchUggORK5J0Be/9KVevn5iotI0tNq5bWZ31be6d5OkUAgaAIEECCwsqkCCCAQEgLEEBCevsCW/wrc7dq7OwtZtKXu12mLpdVCuwCzIYAAp4TIIB4bstpGAEEEMhVgACSK5E3BqRlZCpu9Dz9fjhV5UsU0ZLB7RUZEe6N5ukSAQSCJkAACRotEyOAAAIhK0AACdmtC2zh09fu1oNTvjeTPpRQSwOvujSwCzAbAgh4UoAA4sltp2kEEEDgvAIEEA6IEej65lIt335AEeFh+nZIe1UoGYUMAgggkG8BAki+CZkAAQQQcJ0AAcR1W+p/Qxt3H1bHlxeZD3ZufLFe6d7E/0n4BAIIIHAOAQIIxwIBBBBA4EwBAghnQkM/X6upy3cZic/6Xq6mVcugggACCAREgAASEEYmQQABBFwlQABx1Xb638yfx9LUd/IqrdhxQJdeWML89kdYWJj/E/EJBBBAgCsgnAEEEEAAAR8ECCA+ILl5yMRvd+jJL35UyaIRGt65vm6KjXFzu/SGAAI2C3AFxGZwlkMAAQRCQIAAEgKbFKwSs7KyzL0fm/b8peJFIrT88QRFR0YEaznmRQABDwoQQDy46bSMAAII5CJAAPHwEflh1yF1eW2JEbi9ZRU9c2NDD2vQOgIIBEOAABIMVeZEAAEEQluAABLa+5ev6k+/+fzLfnFqGFMqX/PxYQQQQOBMAQIIZwIBBBBA4EwBAohHz8SR1HS1GDVHR05kqP7FJTV9QBuPStA2AggEU4AAEkxd5kYAAQRCU4AAEpr7lu+qpy3fqSGfrzPzjOhSX3deXi3fczIBAgggwBUQzgACCCCAQG4CBJDchFz6vnXvh3UPSFThcC1/vINKRhV2aae0hQACBSnAFZCC1GdtBBBAwJkCBBBn7ktQqzr9l89vjo3R2K6Ng7oekyOAgHcFCCDe3Xs6RwABBHISIIB48GwM/+JHvf/tDtP5p30uV7Nq/PK5B48BLSNgiwABxBZmFkEAAQRCSoAAElLblf9ij6dlmJvPDx9PV80KxTV7YFt++Tz/rMyAAAI5CBBAOBoIIIAAAmcKEEA8dib+vfoXDfzoB9P1sH/UVa82l3hMgHYRQMBOAQKIndqshQACCISGAAEkNPYpYFV2fXOplm8/oMhC4Vr2WILKFIsM2NxMhAACCJwpQADhTCCAAAIIcAXEw2cgeW+KEsYmGYHrGlXUq7fHeliD1hFAwA4BAogdyqyBAAIIhJYAV0BCa7/yVe0zX2/UWwu3mTk+7NVSV9Qsl6/5+DACCBScwIcffqhXXnlFmzdvVlZWlmrWrKn7779fvXr1Unh4eLbC1q9fr8TERC1evNj8PS4uTmPGjFGDBg3OasCfsb50TwDxRYkxCCCAgLcECCAe2e8T6Zm6/Nm52n/khKqUidaCR65UeHiYR7qnTQTcJTBq1CgNGzZM11xzja6//noTQD777DPNnz9fgwYN0gsvvHCq4a1bt6p58+YqU6aM+vfvb/4+fvx4HTp0SMuXL1etWrXyNNZXUQKIr1KMQwABBLwjQADxyF5/vW63Hvjwe9Pto9fU1oPtanqkc9pEwH0CFSpUUNWqVU2ACAv7+z8kZGZmKjY2Vjt27DDh4uTrlltu0YwZM7Rx40ZVrlzZ/HnXrl2qW7euOnbsqE8++SRPY31VJYD4KsU4BBBAwDsCBBCP7PWd736nRVv3qVB4mJYOaa8KJaM80jltIuA+gaJFiyohIUFfffVVtuasKyLr1q3Tb7/9Zv6ekpKismXLqlu3bpo4cWK2sT179tRHH32kffv2qXjx4n6N9UeUAOKPFmMRQAABbwgQQDywz7sOHFXb5+crK0u6ut6FeuuuZh7omhYRcK/Addddp2+++cZ81apLly7mK1jWlYzHH39cr776qvr27WuaX7p0qVq3bq3XX39dffr0yQZi/e2BBx4wY1q1auXXWH9kCSD+aDEWAQQQ8IYAAcQD+zx21ma9Mu8n0+l7dzdXuzoVPNA1LSLgXoE9e/bozjvv1Jw5c041GRUVpbfffls9evQ49TfrvhDrK1hffPGFOnfunA3E+psVXj799FPdfPPN5h4SX8fmJLt7925Z/05/WV/9smpatWqV+YoYLwQQQAABBAggLj8D6RmZumL0PP1+OFUVS0Vp8eD25mtYvBBAoOAF0tLSlJyc7FMh0dHRqlKlihl78OBBDR48WCdOnFCnTp1kzfPBBx9o3rx5mjp1qgkS1mvSpEm66667NHPmTF199dXZ1pk1a5a5id0aYwUEf8bmVPDw4cP11FNPnfNtAohP28wgBBBAwBMCBBCXb/OcDb+r1wcrTZcDEmrp4asudXnHtIdA6AhYN4xXr17dp4Lj4+O1YMECZWRkqEWLFqpRo4Y+/vjjU5+1voZlPV7XeiyvdZO5dZ+IP1c1/BmbU8FcAfFpKxmEAAIIeF6AAOLyI9Br4grN2fiHrAflLEpsp5jS0S7vmPYQCB2BY8eOKSnp7x8Hze1lPUbXCh7Wo3bbt29vbiDv2rVrto+NHTtWjzzyiFasWKFmzZr5dV+HP/eL5Fbr6e9zD4g/WoxFAAEEvCFAAHHxPu/587haPzdXmVlS/KXlNfGfLVzcLa0h4A0B6ytWt99+u6ZMmaLu3btna3r06NEaMmTIqRvLc3sK1rRp07R//36fnoJ1+lh/pAkg/mgxFgEEEPCGAAHExfv86rytemHWFtPhGz1idW2Dii7ultYQ8IbA6tWrzc3c1157rXkS1slXenq6uephfQVr7969JlRYL+sGc+sekE2bNikmJsb87eTvgFj3gFhfvTr58mesr9oEEF+lGIcAAgh4R4AA4tK9zszMUvwL87XrwDGVK15ES4e2V+FC4S7tlrYQ8JaA9Rje6dOny7ov5KabbpIVPiZPniwrnDz55JOybgY/+bICifXVLev3QAYMGGD+bP0SunXlw/ohw9q1a+dprK/iBBBfpRiHAAIIeEeAAOLSvV6WvE/d3v7OdNcnvoaGdKzj0k5pCwHvCaSmpmrChAnmyVfbtm0zT8OqV6+e+f2PXr16nQWydu1aJSYmasmSJeY962Z16+tajRo1ytdYX+QJIL4oMQYBBBDwlgABxKX7/a9pq7V8+wFVKl1Uo29upEvK//11DF4IIICAnQIEEDu1WQsBBBAIDQECSGjsk19VpqSmq9nI2TqelqlmVUvr076t/fo8gxFAAIFACRBAAiXJPAgggIB7BAgg7tnLU518snKXHv10rfm/n7mxoW5v+fePl/FCAAEE7BYggNgtznoIIICA8wUIIM7fI78r7P7WMi3dtl+REeFa8VgHlYou7PccfAABBBAIhAABJBCKzIEAAgi4S4AA4q791C8Hjypu9HzT1T8aVtRrd8S6rEPaQQCBUBIggITSblErAgggYI8AAcQeZ9tWeW3+T3p+5maz3rs9mymh7oW2rc1CCCCAwJkCBBDOBAIIIIDAmQIEEBediaysLCWMS9K2vUdUtliklj2WwG9/uGh/aQWBUBQggITirlEzAgggEFwBAkhwfW2dfc2uQ7rhtb+f83/PFdX0ZOf6tq7PYggggABXQDgDCCCAAAK5CRBAchMKoff/33/X64OlP5uKv+ofpwaVSoVQ9ZSKAAJuFOAKiBt3lZ4QQACB/AkQQPLn55hPn0jPVItn5ujQ0TRdemFxzfxXW4WFhTmmPgpBAAFvChBAvLnvdI0AAgicT4AA4pLzMfPHPeo9aZXpZkjHOuoTX8MlndEGAgiEsgABJJR3j9oRQACB4AgQQILjavusvSet1Mwff5d10WPpkARdVCrK9hpYEAEEEDhTgADCmUAAAQQQOFOAAOKCM3HwyAnz9au0jCy1qVVOk+5t6YKuaAEBBNwgQABxwy7SAwIIIBBYAQJIYD0LZLZJy37WE/9Zb9Z+8bbGurFJTIHUwaIIIIAAV0A4AwgggAACuQkQQHITCoH3b5ywRKt3HlJ0ZCGtHNZB0ZERIVA1JSKAgBcEuALihV2mRwQQQMA/AQKIf16OG71tb4raj00ydd0cG6OxXRs7rkYKQgAB7woQQLy793SOAAII5CRAAAnxszF21ma9Mu8n08WUXi3Vuma5EO+I8hFAwE0CBBA37Sa9IIAAAoERIIAExrFAZsnMzFKbMfP166FjurhUlBYPbq/wcH77o0A2g0URQOCcAgQQDgYCCCCAwJkCBJAQPhPLtu1Xt7eWmQ4euLKGEq+tE8LdUDoCCLhRgADixl2lJwQQQCB/AgSQ/PkV6KcTP/1BH6/8xdQw5+G2qlmhRIHWw+IIIIDAmQIEEM4EAggggABXQFxyBo6dyFDzUXOUkpquxjGl9N9+cS7pjDYQQMBNAgQQN+0mvSCAAAKBEeAKSGAcbZ/lv2t+1UPT1ph1h3eup7uvqG57DSyIAAII5CZAAMlNiPcRQAAB7wkQQEJ0z3v+z3IlbdmriPAwffdYgsoWLxKinVA2Agi4WYAA4ubdpTcEEEAgbwIEkLy5Fein/jh8XK2enavMLKlD3Qv1Ts9mBVoPiyOAAAI5CRBAOBsIIIAAAmcKEEBC8Ey8vXCbRn290VT++h2x6tiwYgh2QckIIOAFAQKIF3aZHhFAAAH/BAgg/nk5YnTHlxdp4+7DKhkVoRXDOqhIRCFH1EURCCCAwJkCBBDOBAIIIIAAV0BC/Axs+O2wOo1fZLq4o2UVjbqxYYh3RPkIIOBmAQKIm3eX3hBAAIG8CXAFJG9uBfapUdM36O1F2836n/VtraZVSxdYLSyMAAII5CZAAMlNiPcRQAAB7wkQQEJoz9MzMnXdK4u1ac9fqlY2WvMfuVJhYWEh1AGlIoCA1wQIIF7bcfpFAAEEchcggORu5JgRi7bu1V3vLlfdi0voxstidF/bSxxTG4UggAAC5xIggHAuEEAAAQTOFCCAhNCZSPz0B3288hdT8bxB8bqkfPEQqp5SEUDAiwIEEC/uOj0jgCAaIXsAAAzhSURBVAAC5xcggITICUlNz1DzkXN0+Hi6GlQqqa/6twmRyikTAQS8LEAA8fLu0zsCCCBwbgECSIicjDkbflevD1aaaod2rKPe8TVCpHLKRAABLwsQQLy8+/SOAAIIEEBC+gw8NG21/rvmN9PD4sHtFFM6OqT7oXgEEPCGAAHEG/tMlwgggIA/AlwB8UergMYeO5GhpiNn66j1v1VLm8fv8kIAAQRCQYAAEgq7RI0IIICAvQIEEHu987Ta9LW79eCU781nh3eup7uvqJ6nefgQAgggYLcAAcRucdZDAAEEnC9AAHH+HqnPpFWa8eMehYdJyx5LUIUSUSFQNSUigAACEgGEU4AAAgggcKYAAcThZ+Kv42lqOnKOTqRnqnWNsppyXyuHV0x5CCCAwP8JEEA4DQgggAACBJAQOwOff/+LHv74B1P1szc1VPcWVUKsA8pFAAEvCxBAvLz79I4AAgicW4ArIA4/Gfe8t1zzN+9VRHiYVjzeQaWLRTq8YspDAAEEuALCGUAAAQQQyFmAAOLg03HwyAk1HzVH6ZlZale7vN67p4WDq6U0BBBA4GwBroBwKhBAAAEEzhQggDj4TExdvlNDP19nKnzxtsa6sUmMg6ulNAQQQIAAwhlAAAEEEMhdgACSu1GBjbj97WX6Nnm/ikSEa+WwDioRVbjAamFhBBAIrsCsWbP06aefatWqVVq3bp3S0tK0fft2VatW7ZwLr1+/XomJiVq8eLF5Py4uTmPGjFGDBg3OGh+ssb6IcAXEFyXGIIAAAt4SIIA4dL//OHxcLZ+dq6wsqWODi/R6j6YOrZSyEEAgEAJ33323pk6dqoYNGyo1NVVWaMgpgGzdulXNmzdXmTJl1L9/f7P8+PHjdejQIS1fvly1atU6VVKwxvraMwHEVynGIYAAAt4RIIA4dK/fX7Jdw7/cYKqbcEesOjWs6NBKKQsBBAIh8Ouvv6pcuXIqUqSIhg0bplGjRuUYQG655RbNmDFDGzduVOXKlc3yu3btUt26ddWxY0d98sknp0oK1lhfeyaA+CrFOAQQQMA7AgQQh+71za9/q1U/H1SxyEJaOewqFY0s5NBKKQsBBAItcL4AkpKSorJly6pbt26aOHFitqV79uypjz76SPv27VPx4sUVrLH+9EsA8UeLsQgggIA3BAggDtznXw4eVdzo+aayGy67WC91a+LAKikJAQSCJXC+ALJ06VK1bt1ar7/+uvr06ZOtBOtvDzzwgKwxrVq1Mv8bjLH+9E0A8UeLsQgggIA3BAggDtznN5OS9ew3m0xl7/ZspoS6FzqwSkpCAIFgCZwvgHz22Weyvlb1xRdfqHPnztlKsP7WpUsXczP7zTffrGCNzanv3bt3y/p3+sv6mliPHj3MzfWxsbHBImNeBBBAAIEQEiCAOHCzrntlkdb/elgloyLM168iI8IdWCUlIYDAuQSsp1clJyf7hBMdHa0qVaqcNfZ8AWTSpEm66667NHPmTF199dXZPms9Seuaa66RNcb6f/qDNTan5oYPH66nnnrqnG8TQHw6EgxCAAEEPCFAAHHYNm/bm6L2Y5NMVbc1q6zRtzRyWIWUgwAC5xPYsWOHqlev7hNSfHy8FixY4FcACdZVDX/mzak5roD4tO0MQgABBDwvQABx2BEYP3erxs3eYqqafG9LxdUq57AKKQcBBM4ncOzYMSUl/f0fEXJ7WY/RbdGihV8BJFj3dfgzb259nf4+94D4o8VYBBBAwBsCBBCH7fNV45K09Y8UlSseqWVDExRRiK9fOWyLKAeBoAvk5ylY06ZN0/79+316ClZex/oDQADxR4uxCCCAgDcECCAO2+dqQ6abiu66vKqe7nL2Lxo7rFzKQQCBIAjk9jsg1g3m1j0gmzZtUkxMjKng5O+AWPeAWF+nOvkK1lhf2yaA+CrFOAQQQMA7AgQQh+31yQDySZ/L1bxaGYdVRzkIIBAsgbVr15onW1mvOXPmmK9xDRo0SBdccIH5169fv1NLb9682Xx1y/o9kAEDBpi/W7+Ebl35sH4JvXbt2kEf66sDAcRXKcYhgAAC3hEggDhsr60AUrFUlJYMbq/w8DCHVUc5CCAQLIH3339f99xzzzmnr1q1qqyb209/WYElMTFRS5YsMX+Oi4vT6NGj1ajR2Q+uCNZYXywIIL4oMQYBBBDwlgABxGH7bQWQ+9pU1+P/qOewyigHAQQQ8F+AAOK/GZ9AAAEE3C5AAHHYDm/e85eKFSmkmNLRDquMchBAAAH/BQgg/pvxCQQQQMDtAgQQt+8w/SGAAAIFKHD06FFzs3ydOnVk/fAiLwQQQAABBAggnAEEEEAAAQQQQAABBBCwTYAAYhs1CyGAAAIIIIAAAggggAABhDOAAAIIIIAAAggggAACtgkQQGyjZiEEEEAAAQQQQAABBBAggHAGEEAAAQQQQAABBBBAwDYBAoht1CyEAAIIIIAAAggggAACBBDOAAIIIIAAAggggAACCNgmQACxjZqFEEAAAQQQQAABBBBAgADCGUAAAQQQQAABBBBAAAHbBAggtlGzEAIIIIAAAggggAACCBBAOAMIIIAAAggggAACCCBgmwABxDZqFkIAAQQQQAABBBBAAAECCGcAAQQQQAABBBBAAAEEbBMggNhGzUIIIIAAAggggAACCCBAAOEMIIAAAggggAACCCCAgG0CBBDbqFkIAQQQQAABBBBAAAEECCCcAQQQQAABBBBAAAEEELBNgABiGzULIYAAAggggAACCCCAAAGEM4AAAggggAACCCCAAAK2CRBAbKNmIQQQQAABBBBAAAEEECCAcAYQQAABBBBAAAEEEEDANgECiG3ULIQAAggggAACCCCAAAIEEM4AAggggAACCCCAAAII2CZAALGNmoUQQAABBBBAAAEEEECAAMIZQAABBBBAAAEEEEAAAdsECCC2UbMQAggggAACCCCAAAIIEEA4AwgggAACCCCAAAIIIGCbAAHENmoWQgABBBBAAAEEEEAAAQIIZwABBBBAAAEEEEAAAQRsEyCA2EbNQggggAACCCCAAAIIIEAA4QwggAACCCCAAAIIIICAbQIEENuoWQgBBBBAAAEEEEAAAQQIIJwBBBBAAAEEEEAAAQQQsE2AAGIbNQshgAACCCCAAAIIIIAAAYQzgAACCCCAAAIIIIAAArYJEEBso2YhBBBAAAEEEEAAAQQQIIBwBhBAAAEEEEAAAQQQQMA2AQKIbdQshAACCCCAAAIIIIAAAgQQzgACCCCAAAIIIIAAAgjYJkAAsY2ahRBAAAEEEEAAAQQQQIAAwhlAAAEEEEAAAQQQQAAB2wQIILZRsxACCCCAAAIIIIAAAggQQDgDCCCAAAIIIIAAAgggYJsAAcQ2ahZCAAEEEEAAAQQQQAABAghnAAEEEEAAAQQQQAABBGwTIIDYRs1CCCCAAAIIIIAAAgggQADhDCCAAAIIIIAAAggggIBtAgQQ26hZCAEEEEAAAQQQQAABBAggnAEEEEAAAQQQQAABBBCwTYAAYhs1CyGAAAIIIIAAAggggAABhDOAAAIIIIAAAggggAACtgkQQGyjZiEEEEAAAQQQQAABBBAggHAGEEAAAQQQQAABBBBAwDYBAoht1CyEAAIIIIAAAggggAACBBDOAAIIIIAAAggggAACCNgmQACxjZqFEEAAAQQQQAABBBBAgADCGUAAAQQQQAABBBBAAAHbBAggtlGzEAIIIIAAAggggAACCBBAOAMIIIAAAggggAACCCBgmwABxDZqFkIAAQQQQAABBBBAAAECCGcAAQQQQAABBBBAAAEEbBMggNhGzUIIIIAAAggggAACCCBAAOEMIIAAAggggAACCCCAgG0CBBDbqFkIAQQQQAABBBBAAAEECCCcAQQQQAABBBBAAAEEELBNgABiGzULIYAAAggggAACCCCAAAGEM4AAAggggAACCCCAAAK2CRBAbKNmIQQQQAABBBBAAAEEECCAcAYQQAABBBBAAAEEEEDANgECiG3ULIQAAggggAACCCCAAAIEEM4AAggggAACCCCAAAII2CZAALGNmoUQQAABBBBAAAEEEECAAMIZQAABBBBAAAEEEEAAAdsECCC2UbMQAggggAACCCCAAAIIEEA4AwgggAACCCCAAAIIIGCbAAHENmoWQgABBBBAAAEEEEAAAQIIZwABBBBAAAEEEEAAAQRsEyCA2EbNQggggAACCCCAAAIIIEAA4QwggAACCCCAAAIIIICAbQIEENuoWQgBBBBAAAEEEEAAAQQIIJwBBBBAAAEEEEAAAQQQsE2AAGIbNQshgAACCCCAAAIIIIAAAYQzgAACCCCAAAIIIIAAArYJEEBso2YhBBBAAAEEEEAAAQQQIIBwBhBAAAEEEEAAAQQQQMA2gf8P9efXqlrZzVcAAAAASUVORK5CYII=\" width=\"640\">"
      ],
      "text/plain": [
       "<IPython.core.display.HTML object>"
      ]
     },
     "metadata": {},
     "output_type": "display_data"
    },
    {
     "data": {
      "text/plain": [
       "<sympy.plotting.plot.Plot at 0x1635e543550>"
      ]
     },
     "execution_count": 95,
     "metadata": {},
     "output_type": "execute_result"
    }
   ],
   "source": [
    "plot(f)"
   ]
  },
  {
   "cell_type": "code",
   "execution_count": 9,
   "metadata": {},
   "outputs": [
    {
     "data": {
      "image/png": "[encoded data removed]",
      "text/latex": [
       "$$\\left ( 3 x^{2} - 6 x - 24, \\quad 6 x - 6\\right )$$"
      ],
      "text/plain": [
       "⎛   2                    ⎞\n",
       "⎝3⋅x  - 6⋅x - 24, 6⋅x - 6⎠"
      ]
     },
     "execution_count": 9,
     "metadata": {},
     "output_type": "execute_result"
    }
   ],
   "source": [
    "df=f.diff()\n",
    "dff = df.diff()\n",
    "df, dff"
   ]
  },
  {
   "cell_type": "code",
   "execution_count": 6,
   "metadata": {},
   "outputs": [
    {
     "data": {
      "image/png": "[encoded data removed]",
      "text/latex": [
       "$$\\left [ -2, \\quad 4\\right ]$$"
      ],
      "text/plain": [
       "[-2, 4]"
      ]
     },
     "execution_count": 6,
     "metadata": {},
     "output_type": "execute_result"
    }
   ],
   "source": [
    "pc = solve(df)\n",
    "pc"
   ]
  },
  {
   "cell_type": "code",
   "execution_count": 14,
   "metadata": {},
   "outputs": [
    {
     "data": {
      "image/png": "[encoded data removed]",
      "text/latex": [
       "$$\\left ( -18, \\quad 18\\right )$$"
      ],
      "text/plain": [
       "(-18, 18)"
      ]
     },
     "execution_count": 14,
     "metadata": {},
     "output_type": "execute_result"
    }
   ],
   "source": [
    "dff.subs(x,pc[0]), dff.subs(x,pc[1])"
   ]
  },
  {
   "cell_type": "markdown",
   "metadata": {},
   "source": [
    "A(x,y) = x*y\n",
    "\n",
    "P(x,y) = 2x + y =2400\n"
   ]
  },
  {
   "cell_type": "code",
   "execution_count": 86,
   "metadata": {},
   "outputs": [
    {
     "data": {
      "image/png": "[encoded data removed]",
      "text/latex": [
       "$$\\left [ - 2 x + 2400\\right ]$$"
      ],
      "text/plain": [
       "[-2⋅x + 2400]"
      ]
     },
     "execution_count": 86,
     "metadata": {},
     "output_type": "execute_result"
    }
   ],
   "source": [
    "A=x*y\n",
    "eq1=Eq(2*x+y,2400)\n",
    "y_=solve(eq1,y)\n",
    "y_"
   ]
  },
  {
   "cell_type": "code",
   "execution_count": 87,
   "metadata": {},
   "outputs": [
    {
     "data": {
      "image/png": "[encoded data removed]",
      "text/latex": [
       "$$x \\left(- 2 x + 2400\\right)$$"
      ],
      "text/plain": [
       "x⋅(-2⋅x + 2400)"
      ]
     },
     "execution_count": 87,
     "metadata": {},
     "output_type": "execute_result"
    }
   ],
   "source": [
    "f=A.subs(y,y_[0])\n",
    "f"
   ]
  },
  {
   "cell_type": "code",
   "execution_count": 88,
   "metadata": {},
   "outputs": [
    {
     "data": {
      "image/png": "[encoded data removed]",
      "text/latex": [
       "$$\\left [ 600\\right ]$$"
      ],
      "text/plain": [
       "[600]"
      ]
     },
     "execution_count": 88,
     "metadata": {},
     "output_type": "execute_result"
    }
   ],
   "source": [
    "df = f.diff()\n",
    "ddf= df.diff()\n",
    "pc = solve(df)\n",
    "pc"
   ]
  },
  {
   "cell_type": "code",
   "execution_count": 89,
   "metadata": {},
   "outputs": [
    {
     "data": {
      "image/png": "[encoded data removed]",
      "text/latex": [
       "$$y + 1200 = 2400$$"
      ],
      "text/plain": [
       "y + 1200 = 2400"
      ]
     },
     "execution_count": 89,
     "metadata": {},
     "output_type": "execute_result"
    }
   ],
   "source": [
    "eq1.subs(x,600)"
   ]
  },
  {
   "cell_type": "code",
   "execution_count": 90,
   "metadata": {},
   "outputs": [
    {
     "data": {
      "image/png": "[encoded data removed]",
      "text/latex": [
       "$$\\left [ 1200\\right ]$$"
      ],
      "text/plain": [
       "[1200]"
      ]
     },
     "execution_count": 90,
     "metadata": {},
     "output_type": "execute_result"
    }
   ],
   "source": [
    "solve(eq1.subs(x,600),y)"
   ]
  },
  {
   "cell_type": "code",
   "execution_count": 93,
   "metadata": {},
   "outputs": [
    {
     "data": {
      "application/javascript": [
       "/* Put everything inside the global mpl namespace */\n",
       "window.mpl = {};\n",
       "\n",
       "\n",
       "mpl.get_websocket_type = function() {\n",
       "    if (typeof(WebSocket) !== 'undefined') {\n",
       "        return WebSocket;\n",
       "    } else if (typeof(MozWebSocket) !== 'undefined') {\n",
       "        return MozWebSocket;\n",
       "    } else {\n",
       "        alert('Your browser does not have WebSocket support.' +\n",
       "              'Please try Chrome, Safari or Firefox ≥ 6. ' +\n",
       "              'Firefox 4 and 5 are also supported but you ' +\n",
       "              'have to enable WebSockets in about:config.');\n",
       "    };\n",
       "}\n",
       "\n",
       "mpl.figure = function(figure_id, websocket, ondownload, parent_element) {\n",
       "    this.id = figure_id;\n",
       "\n",
       "    this.ws = websocket;\n",
       "\n",
       "    this.supports_binary = (this.ws.binaryType != undefined);\n",
       "\n",
       "    if (!this.supports_binary) {\n",
       "        var warnings = document.getElementById(\"mpl-warnings\");\n",
       "        if (warnings) {\n",
       "            warnings.style.display = 'block';\n",
       "            warnings.textContent = (\n",
       "                \"This browser does not support binary websocket messages. \" +\n",
       "                    \"Performance may be slow.\");\n",
       "        }\n",
       "    }\n",
       "\n",
       "    this.imageObj = new Image();\n",
       "\n",
       "    this.context = undefined;\n",
       "    this.message = undefined;\n",
       "    this.canvas = undefined;\n",
       "    this.rubberband_canvas = undefined;\n",
       "    this.rubberband_context = undefined;\n",
       "    this.format_dropdown = undefined;\n",
       "\n",
       "    this.image_mode = 'full';\n",
       "\n",
       "    this.root = $('<div/>');\n",
       "    this._root_extra_style(this.root)\n",
       "    this.root.attr('style', 'display: inline-block');\n",
       "\n",
       "    $(parent_element).append(this.root);\n",
       "\n",
       "    this._init_header(this);\n",
       "    this._init_canvas(this);\n",
       "    this._init_toolbar(this);\n",
       "\n",
       "    var fig = this;\n",
       "\n",
       "    this.waiting = false;\n",
       "\n",
       "    this.ws.onopen =  function () {\n",
       "            fig.send_message(\"supports_binary\", {value: fig.supports_binary});\n",
       "            fig.send_message(\"send_image_mode\", {});\n",
       "            if (mpl.ratio != 1) {\n",
       "                fig.send_message(\"set_dpi_ratio\", {'dpi_ratio': mpl.ratio});\n",
       "            }\n",
       "            fig.send_message(\"refresh\", {});\n",
       "        }\n",
       "\n",
       "    this.imageObj.onload = function() {\n",
       "            if (fig.image_mode == 'full') {\n",
       "                // Full images could contain transparency (where diff images\n",
       "                // almost always do), so we need to clear the canvas so that\n",
       "                // there is no ghosting.\n",
       "                fig.context.clearRect(0, 0, fig.canvas.width, fig.canvas.height);\n",
       "            }\n",
       "            fig.context.drawImage(fig.imageObj, 0, 0);\n",
       "        };\n",
       "\n",
       "    this.imageObj.onunload = function() {\n",
       "        fig.ws.close();\n",
       "    }\n",
       "\n",
       "    this.ws.onmessage = this._make_on_message_function(this);\n",
       "\n",
       "    this.ondownload = ondownload;\n",
       "}\n",
       "\n",
       "mpl.figure.prototype._init_header = function() {\n",
       "    var titlebar = $(\n",
       "        '<div class=\"ui-dialog-titlebar ui-widget-header ui-corner-all ' +\n",
       "        'ui-helper-clearfix\"/>');\n",
       "    var titletext = $(\n",
       "        '<div class=\"ui-dialog-title\" style=\"width: 100%; ' +\n",
       "        'text-align: center; padding: 3px;\"/>');\n",
       "    titlebar.append(titletext)\n",
       "    this.root.append(titlebar);\n",
       "    this.header = titletext[0];\n",
       "}\n",
       "\n",
       "\n",
       "\n",
       "mpl.figure.prototype._canvas_extra_style = function(canvas_div) {\n",
       "\n",
       "}\n",
       "\n",
       "\n",
       "mpl.figure.prototype._root_extra_style = function(canvas_div) {\n",
       "\n",
       "}\n",
       "\n",
       "mpl.figure.prototype._init_canvas = function() {\n",
       "    var fig = this;\n",
       "\n",
       "    var canvas_div = $('<div/>');\n",
       "\n",
       "    canvas_div.attr('style', 'position: relative; clear: both; outline: 0');\n",
       "\n",
       "    function canvas_keyboard_event(event) {\n",
       "        return fig.key_event(event, event['data']);\n",
       "    }\n",
       "\n",
       "    canvas_div.keydown('key_press', canvas_keyboard_event);\n",
       "    canvas_div.keyup('key_release', canvas_keyboard_event);\n",
       "    this.canvas_div = canvas_div\n",
       "    this._canvas_extra_style(canvas_div)\n",
       "    this.root.append(canvas_div);\n",
       "\n",
       "    var canvas = $('<canvas/>');\n",
       "    canvas.addClass('mpl-canvas');\n",
       "    canvas.attr('style', \"left: 0; top: 0; z-index: 0; outline: 0\")\n",
       "\n",
       "    this.canvas = canvas[0];\n",
       "    this.context = canvas[0].getContext(\"2d\");\n",
       "\n",
       "    var backingStore = this.context.backingStorePixelRatio ||\n",
       "\tthis.context.webkitBackingStorePixelRatio ||\n",
       "\tthis.context.mozBackingStorePixelRatio ||\n",
       "\tthis.context.msBackingStorePixelRatio ||\n",
       "\tthis.context.oBackingStorePixelRatio ||\n",
       "\tthis.context.backingStorePixelRatio || 1;\n",
       "\n",
       "    mpl.ratio = (window.devicePixelRatio || 1) / backingStore;\n",
       "\n",
       "    var rubberband = $('<canvas/>');\n",
       "    rubberband.attr('style', \"position: absolute; left: 0; top: 0; z-index: 1;\")\n",
       "\n",
       "    var pass_mouse_events = true;\n",
       "\n",
       "    canvas_div.resizable({\n",
       "        start: function(event, ui) {\n",
       "            pass_mouse_events = false;\n",
       "        },\n",
       "        resize: function(event, ui) {\n",
       "            fig.request_resize(ui.size.width, ui.size.height);\n",
       "        },\n",
       "        stop: function(event, ui) {\n",
       "            pass_mouse_events = true;\n",
       "            fig.request_resize(ui.size.width, ui.size.height);\n",
       "        },\n",
       "    });\n",
       "\n",
       "    function mouse_event_fn(event) {\n",
       "        if (pass_mouse_events)\n",
       "            return fig.mouse_event(event, event['data']);\n",
       "    }\n",
       "\n",
       "    rubberband.mousedown('button_press', mouse_event_fn);\n",
       "    rubberband.mouseup('button_release', mouse_event_fn);\n",
       "    // Throttle sequential mouse events to 1 every 20ms.\n",
       "    rubberband.mousemove('motion_notify', mouse_event_fn);\n",
       "\n",
       "    rubberband.mouseenter('figure_enter', mouse_event_fn);\n",
       "    rubberband.mouseleave('figure_leave', mouse_event_fn);\n",
       "\n",
       "    canvas_div.on(\"wheel\", function (event) {\n",
       "        event = event.originalEvent;\n",
       "        event['data'] = 'scroll'\n",
       "        if (event.deltaY < 0) {\n",
       "            event.step = 1;\n",
       "        } else {\n",
       "            event.step = -1;\n",
       "        }\n",
       "        mouse_event_fn(event);\n",
       "    });\n",
       "\n",
       "    canvas_div.append(canvas);\n",
       "    canvas_div.append(rubberband);\n",
       "\n",
       "    this.rubberband = rubberband;\n",
       "    this.rubberband_canvas = rubberband[0];\n",
       "    this.rubberband_context = rubberband[0].getContext(\"2d\");\n",
       "    this.rubberband_context.strokeStyle = \"#000000\";\n",
       "\n",
       "    this._resize_canvas = function(width, height) {\n",
       "        // Keep the size of the canvas, canvas container, and rubber band\n",
       "        // canvas in synch.\n",
       "        canvas_div.css('width', width)\n",
       "        canvas_div.css('height', height)\n",
       "\n",
       "        canvas.attr('width', width * mpl.ratio);\n",
       "        canvas.attr('height', height * mpl.ratio);\n",
       "        canvas.attr('style', 'width: ' + width + 'px; height: ' + height + 'px;');\n",
       "\n",
       "        rubberband.attr('width', width);\n",
       "        rubberband.attr('height', height);\n",
       "    }\n",
       "\n",
       "    // Set the figure to an initial 600x600px, this will subsequently be updated\n",
       "    // upon first draw.\n",
       "    this._resize_canvas(600, 600);\n",
       "\n",
       "    // Disable right mouse context menu.\n",
       "    $(this.rubberband_canvas).bind(\"contextmenu\",function(e){\n",
       "        return false;\n",
       "    });\n",
       "\n",
       "    function set_focus () {\n",
       "        canvas.focus();\n",
       "        canvas_div.focus();\n",
       "    }\n",
       "\n",
       "    window.setTimeout(set_focus, 100);\n",
       "}\n",
       "\n",
       "mpl.figure.prototype._init_toolbar = function() {\n",
       "    var fig = this;\n",
       "\n",
       "    var nav_element = $('<div/>')\n",
       "    nav_element.attr('style', 'width: 100%');\n",
       "    this.root.append(nav_element);\n",
       "\n",
       "    // Define a callback function for later on.\n",
       "    function toolbar_event(event) {\n",
       "        return fig.toolbar_button_onclick(event['data']);\n",
       "    }\n",
       "    function toolbar_mouse_event(event) {\n",
       "        return fig.toolbar_button_onmouseover(event['data']);\n",
       "    }\n",
       "\n",
       "    for(var toolbar_ind in mpl.toolbar_items) {\n",
       "        var name = mpl.toolbar_items[toolbar_ind][0];\n",
       "        var tooltip = mpl.toolbar_items[toolbar_ind][1];\n",
       "        var image = mpl.toolbar_items[toolbar_ind][2];\n",
       "        var method_name = mpl.toolbar_items[toolbar_ind][3];\n",
       "\n",
       "        if (!name) {\n",
       "            // put a spacer in here.\n",
       "            continue;\n",
       "        }\n",
       "        var button = $('<button/>');\n",
       "        button.addClass('ui-button ui-widget ui-state-default ui-corner-all ' +\n",
       "                        'ui-button-icon-only');\n",
       "        button.attr('role', 'button');\n",
       "        button.attr('aria-disabled', 'false');\n",
       "        button.click(method_name, toolbar_event);\n",
       "        button.mouseover(tooltip, toolbar_mouse_event);\n",
       "\n",
       "        var icon_img = $('<span/>');\n",
       "        icon_img.addClass('ui-button-icon-primary ui-icon');\n",
       "        icon_img.addClass(image);\n",
       "        icon_img.addClass('ui-corner-all');\n",
       "\n",
       "        var tooltip_span = $('<span/>');\n",
       "        tooltip_span.addClass('ui-button-text');\n",
       "        tooltip_span.html(tooltip);\n",
       "\n",
       "        button.append(icon_img);\n",
       "        button.append(tooltip_span);\n",
       "\n",
       "        nav_element.append(button);\n",
       "    }\n",
       "\n",
       "    var fmt_picker_span = $('<span/>');\n",
       "\n",
       "    var fmt_picker = $('<select/>');\n",
       "    fmt_picker.addClass('mpl-toolbar-option ui-widget ui-widget-content');\n",
       "    fmt_picker_span.append(fmt_picker);\n",
       "    nav_element.append(fmt_picker_span);\n",
       "    this.format_dropdown = fmt_picker[0];\n",
       "\n",
       "    for (var ind in mpl.extensions) {\n",
       "        var fmt = mpl.extensions[ind];\n",
       "        var option = $(\n",
       "            '<option/>', {selected: fmt === mpl.default_extension}).html(fmt);\n",
       "        fmt_picker.append(option)\n",
       "    }\n",
       "\n",
       "    // Add hover states to the ui-buttons\n",
       "    $( \".ui-button\" ).hover(\n",
       "        function() { $(this).addClass(\"ui-state-hover\");},\n",
       "        function() { $(this).removeClass(\"ui-state-hover\");}\n",
       "    );\n",
       "\n",
       "    var status_bar = $('<span class=\"mpl-message\"/>');\n",
       "    nav_element.append(status_bar);\n",
       "    this.message = status_bar[0];\n",
       "}\n",
       "\n",
       "mpl.figure.prototype.request_resize = function(x_pixels, y_pixels) {\n",
       "    // Request matplotlib to resize the figure. Matplotlib will then trigger a resize in the client,\n",
       "    // which will in turn request a refresh of the image.\n",
       "    this.send_message('resize', {'width': x_pixels, 'height': y_pixels});\n",
       "}\n",
       "\n",
       "mpl.figure.prototype.send_message = function(type, properties) {\n",
       "    properties['type'] = type;\n",
       "    properties['figure_id'] = this.id;\n",
       "    this.ws.send(JSON.stringify(properties));\n",
       "}\n",
       "\n",
       "mpl.figure.prototype.send_draw_message = function() {\n",
       "    if (!this.waiting) {\n",
       "        this.waiting = true;\n",
       "        this.ws.send(JSON.stringify({type: \"draw\", figure_id: this.id}));\n",
       "    }\n",
       "}\n",
       "\n",
       "\n",
       "mpl.figure.prototype.handle_save = function(fig, msg) {\n",
       "    var format_dropdown = fig.format_dropdown;\n",
       "    var format = format_dropdown.options[format_dropdown.selectedIndex].value;\n",
       "    fig.ondownload(fig, format);\n",
       "}\n",
       "\n",
       "\n",
       "mpl.figure.prototype.handle_resize = function(fig, msg) {\n",
       "    var size = msg['size'];\n",
       "    if (size[0] != fig.canvas.width || size[1] != fig.canvas.height) {\n",
       "        fig._resize_canvas(size[0], size[1]);\n",
       "        fig.send_message(\"refresh\", {});\n",
       "    };\n",
       "}\n",
       "\n",
       "mpl.figure.prototype.handle_rubberband = function(fig, msg) {\n",
       "    var x0 = msg['x0'] / mpl.ratio;\n",
       "    var y0 = (fig.canvas.height - msg['y0']) / mpl.ratio;\n",
       "    var x1 = msg['x1'] / mpl.ratio;\n",
       "    var y1 = (fig.canvas.height - msg['y1']) / mpl.ratio;\n",
       "    x0 = Math.floor(x0) + 0.5;\n",
       "    y0 = Math.floor(y0) + 0.5;\n",
       "    x1 = Math.floor(x1) + 0.5;\n",
       "    y1 = Math.floor(y1) + 0.5;\n",
       "    var min_x = Math.min(x0, x1);\n",
       "    var min_y = Math.min(y0, y1);\n",
       "    var width = Math.abs(x1 - x0);\n",
       "    var height = Math.abs(y1 - y0);\n",
       "\n",
       "    fig.rubberband_context.clearRect(\n",
       "        0, 0, fig.canvas.width, fig.canvas.height);\n",
       "\n",
       "    fig.rubberband_context.strokeRect(min_x, min_y, width, height);\n",
       "}\n",
       "\n",
       "mpl.figure.prototype.handle_figure_label = function(fig, msg) {\n",
       "    // Updates the figure title.\n",
       "    fig.header.textContent = msg['label'];\n",
       "}\n",
       "\n",
       "mpl.figure.prototype.handle_cursor = function(fig, msg) {\n",
       "    var cursor = msg['cursor'];\n",
       "    switch(cursor)\n",
       "    {\n",
       "    case 0:\n",
       "        cursor = 'pointer';\n",
       "        break;\n",
       "    case 1:\n",
       "        cursor = 'default';\n",
       "        break;\n",
       "    case 2:\n",
       "        cursor = 'crosshair';\n",
       "        break;\n",
       "    case 3:\n",
       "        cursor = 'move';\n",
       "        break;\n",
       "    }\n",
       "    fig.rubberband_canvas.style.cursor = cursor;\n",
       "}\n",
       "\n",
       "mpl.figure.prototype.handle_message = function(fig, msg) {\n",
       "    fig.message.textContent = msg['message'];\n",
       "}\n",
       "\n",
       "mpl.figure.prototype.handle_draw = function(fig, msg) {\n",
       "    // Request the server to send over a new figure.\n",
       "    fig.send_draw_message();\n",
       "}\n",
       "\n",
       "mpl.figure.prototype.handle_image_mode = function(fig, msg) {\n",
       "    fig.image_mode = msg['mode'];\n",
       "}\n",
       "\n",
       "mpl.figure.prototype.updated_canvas_event = function() {\n",
       "    // Called whenever the canvas gets updated.\n",
       "    this.send_message(\"ack\", {});\n",
       "}\n",
       "\n",
       "// A function to construct a web socket function for onmessage handling.\n",
       "// Called in the figure constructor.\n",
       "mpl.figure.prototype._make_on_message_function = function(fig) {\n",
       "    return function socket_on_message(evt) {\n",
       "        if (evt.data instanceof Blob) {\n",
       "            /* FIXME: We get \"Resource interpreted as Image but\n",
       "             * transferred with MIME type text/plain:\" errors on\n",
       "             * Chrome.  But how to set the MIME type?  It doesn't seem\n",
       "             * to be part of the websocket stream */\n",
       "            evt.data.type = \"image/png\";\n",
       "\n",
       "            /* Free the memory for the previous frames */\n",
       "            if (fig.imageObj.src) {\n",
       "                (window.URL || window.webkitURL).revokeObjectURL(\n",
       "                    fig.imageObj.src);\n",
       "            }\n",
       "\n",
       "            fig.imageObj.src = (window.URL || window.webkitURL).createObjectURL(\n",
       "                evt.data);\n",
       "            fig.updated_canvas_event();\n",
       "            fig.waiting = false;\n",
       "            return;\n",
       "        }\n",
       "        else if (typeof evt.data === 'string' && evt.data.slice(0, 21) == \"data:image/png;base64\") {\n",
       "            fig.imageObj.src = evt.data;\n",
       "            fig.updated_canvas_event();\n",
       "            fig.waiting = false;\n",
       "            return;\n",
       "        }\n",
       "\n",
       "        var msg = JSON.parse(evt.data);\n",
       "        var msg_type = msg['type'];\n",
       "\n",
       "        // Call the  \"handle_{type}\" callback, which takes\n",
       "        // the figure and JSON message as its only arguments.\n",
       "        try {\n",
       "            var callback = fig[\"handle_\" + msg_type];\n",
       "        } catch (e) {\n",
       "            console.log(\"No handler for the '\" + msg_type + \"' message type: \", msg);\n",
       "            return;\n",
       "        }\n",
       "\n",
       "        if (callback) {\n",
       "            try {\n",
       "                // console.log(\"Handling '\" + msg_type + \"' message: \", msg);\n",
       "                callback(fig, msg);\n",
       "            } catch (e) {\n",
       "                console.log(\"Exception inside the 'handler_\" + msg_type + \"' callback:\", e, e.stack, msg);\n",
       "            }\n",
       "        }\n",
       "    };\n",
       "}\n",
       "\n",
       "// from http://stackoverflow.com/questions/1114465/getting-mouse-location-in-canvas\n",
       "mpl.findpos = function(e) {\n",
       "    //this section is from http://www.quirksmode.org/js/events_properties.html\n",
       "    var targ;\n",
       "    if (!e)\n",
       "        e = window.event;\n",
       "    if (e.target)\n",
       "        targ = e.target;\n",
       "    else if (e.srcElement)\n",
       "        targ = e.srcElement;\n",
       "    if (targ.nodeType == 3) // defeat Safari bug\n",
       "        targ = targ.parentNode;\n",
       "\n",
       "    // jQuery normalizes the pageX and pageY\n",
       "    // pageX,Y are the mouse positions relative to the document\n",
       "    // offset() returns the position of the element relative to the document\n",
       "    var x = e.pageX - $(targ).offset().left;\n",
       "    var y = e.pageY - $(targ).offset().top;\n",
       "\n",
       "    return {\"x\": x, \"y\": y};\n",
       "};\n",
       "\n",
       "/*\n",
       " * return a copy of an object with only non-object keys\n",
       " * we need this to avoid circular references\n",
       " * http://stackoverflow.com/a/24161582/3208463\n",
       " */\n",
       "function simpleKeys (original) {\n",
       "  return Object.keys(original).reduce(function (obj, key) {\n",
       "    if (typeof original[key] !== 'object')\n",
       "        obj[key] = original[key]\n",
       "    return obj;\n",
       "  }, {});\n",
       "}\n",
       "\n",
       "mpl.figure.prototype.mouse_event = function(event, name) {\n",
       "    var canvas_pos = mpl.findpos(event)\n",
       "\n",
       "    if (name === 'button_press')\n",
       "    {\n",
       "        this.canvas.focus();\n",
       "        this.canvas_div.focus();\n",
       "    }\n",
       "\n",
       "    var x = canvas_pos.x * mpl.ratio;\n",
       "    var y = canvas_pos.y * mpl.ratio;\n",
       "\n",
       "    this.send_message(name, {x: x, y: y, button: event.button,\n",
       "                             step: event.step,\n",
       "                             guiEvent: simpleKeys(event)});\n",
       "\n",
       "    /* This prevents the web browser from automatically changing to\n",
       "     * the text insertion cursor when the button is pressed.  We want\n",
       "     * to control all of the cursor setting manually through the\n",
       "     * 'cursor' event from matplotlib */\n",
       "    event.preventDefault();\n",
       "    return false;\n",
       "}\n",
       "\n",
       "mpl.figure.prototype._key_event_extra = function(event, name) {\n",
       "    // Handle any extra behaviour associated with a key event\n",
       "}\n",
       "\n",
       "mpl.figure.prototype.key_event = function(event, name) {\n",
       "\n",
       "    // Prevent repeat events\n",
       "    if (name == 'key_press')\n",
       "    {\n",
       "        if (event.which === this._key)\n",
       "            return;\n",
       "        else\n",
       "            this._key = event.which;\n",
       "    }\n",
       "    if (name == 'key_release')\n",
       "        this._key = null;\n",
       "\n",
       "    var value = '';\n",
       "    if (event.ctrlKey && event.which != 17)\n",
       "        value += \"ctrl+\";\n",
       "    if (event.altKey && event.which != 18)\n",
       "        value += \"alt+\";\n",
       "    if (event.shiftKey && event.which != 16)\n",
       "        value += \"shift+\";\n",
       "\n",
       "    value += 'k';\n",
       "    value += event.which.toString();\n",
       "\n",
       "    this._key_event_extra(event, name);\n",
       "\n",
       "    this.send_message(name, {key: value,\n",
       "                             guiEvent: simpleKeys(event)});\n",
       "    return false;\n",
       "}\n",
       "\n",
       "mpl.figure.prototype.toolbar_button_onclick = function(name) {\n",
       "    if (name == 'download') {\n",
       "        this.handle_save(this, null);\n",
       "    } else {\n",
       "        this.send_message(\"toolbar_button\", {name: name});\n",
       "    }\n",
       "};\n",
       "\n",
       "mpl.figure.prototype.toolbar_button_onmouseover = function(tooltip) {\n",
       "    this.message.textContent = tooltip;\n",
       "};\n",
       "mpl.toolbar_items = [[\"Home\", \"Reset original view\", \"fa fa-home icon-home\", \"home\"], [\"Back\", \"Back to previous view\", \"fa fa-arrow-left icon-arrow-left\", \"back\"], [\"Forward\", \"Forward to next view\", \"fa fa-arrow-right icon-arrow-right\", \"forward\"], [\"\", \"\", \"\", \"\"], [\"Pan\", \"Pan axes with left mouse, zoom with right\", \"fa fa-arrows icon-move\", \"pan\"], [\"Zoom\", \"Zoom to rectangle\", \"fa fa-square-o icon-check-empty\", \"zoom\"], [\"\", \"\", \"\", \"\"], [\"Download\", \"Download plot\", \"fa fa-floppy-o icon-save\", \"download\"]];\n",
       "\n",
       "mpl.extensions = [\"eps\", \"jpeg\", \"pdf\", \"png\", \"ps\", \"raw\", \"svg\", \"tif\"];\n",
       "\n",
       "mpl.default_extension = \"png\";var comm_websocket_adapter = function(comm) {\n",
       "    // Create a \"websocket\"-like object which calls the given IPython comm\n",
       "    // object with the appropriate methods. Currently this is a non binary\n",
       "    // socket, so there is still some room for performance tuning.\n",
       "    var ws = {};\n",
       "\n",
       "    ws.close = function() {\n",
       "        comm.close()\n",
       "    };\n",
       "    ws.send = function(m) {\n",
       "        //console.log('sending', m);\n",
       "        comm.send(m);\n",
       "    };\n",
       "    // Register the callback with on_msg.\n",
       "    comm.on_msg(function(msg) {\n",
       "        //console.log('receiving', msg['content']['data'], msg);\n",
       "        // Pass the mpl event to the overridden (by mpl) onmessage function.\n",
       "        ws.onmessage(msg['content']['data'])\n",
       "    });\n",
       "    return ws;\n",
       "}\n",
       "\n",
       "mpl.mpl_figure_comm = function(comm, msg) {\n",
       "    // This is the function which gets called when the mpl process\n",
       "    // starts-up an IPython Comm through the \"matplotlib\" channel.\n",
       "\n",
       "    var id = msg.content.data.id;\n",
       "    // Get hold of the div created by the display call when the Comm\n",
       "    // socket was opened in Python.\n",
       "    var element = $(\"#\" + id);\n",
       "    var ws_proxy = comm_websocket_adapter(comm)\n",
       "\n",
       "    function ondownload(figure, format) {\n",
       "        window.open(figure.imageObj.src);\n",
       "    }\n",
       "\n",
       "    var fig = new mpl.figure(id, ws_proxy,\n",
       "                           ondownload,\n",
       "                           element.get(0));\n",
       "\n",
       "    // Call onopen now - mpl needs it, as it is assuming we've passed it a real\n",
       "    // web socket which is closed, not our websocket->open comm proxy.\n",
       "    ws_proxy.onopen();\n",
       "\n",
       "    fig.parent_element = element.get(0);\n",
       "    fig.cell_info = mpl.find_output_cell(\"<div id='\" + id + \"'></div>\");\n",
       "    if (!fig.cell_info) {\n",
       "        console.error(\"Failed to find cell for figure\", id, fig);\n",
       "        return;\n",
       "    }\n",
       "\n",
       "    var output_index = fig.cell_info[2]\n",
       "    var cell = fig.cell_info[0];\n",
       "\n",
       "};\n",
       "\n",
       "mpl.figure.prototype.handle_close = function(fig, msg) {\n",
       "    var width = fig.canvas.width/mpl.ratio\n",
       "    fig.root.unbind('remove')\n",
       "\n",
       "    // Update the output cell to use the data from the current canvas.\n",
       "    fig.push_to_output();\n",
       "    var dataURL = fig.canvas.toDataURL();\n",
       "    // Re-enable the keyboard manager in IPython - without this line, in FF,\n",
       "    // the notebook keyboard shortcuts fail.\n",
       "    IPython.keyboard_manager.enable()\n",
       "    $(fig.parent_element).html('<img src=\"' + dataURL + '\" width=\"' + width + '\">');\n",
       "    fig.close_ws(fig, msg);\n",
       "}\n",
       "\n",
       "mpl.figure.prototype.close_ws = function(fig, msg){\n",
       "    fig.send_message('closing', msg);\n",
       "    // fig.ws.close()\n",
       "}\n",
       "\n",
       "mpl.figure.prototype.push_to_output = function(remove_interactive) {\n",
       "    // Turn the data on the canvas into data in the output cell.\n",
       "    var width = this.canvas.width/mpl.ratio\n",
       "    var dataURL = this.canvas.toDataURL();\n",
       "    this.cell_info[1]['text/html'] = '<img src=\"' + dataURL + '\" width=\"' + width + '\">';\n",
       "}\n",
       "\n",
       "mpl.figure.prototype.updated_canvas_event = function() {\n",
       "    // Tell IPython that the notebook contents must change.\n",
       "    IPython.notebook.set_dirty(true);\n",
       "    this.send_message(\"ack\", {});\n",
       "    var fig = this;\n",
       "    // Wait a second, then push the new image to the DOM so\n",
       "    // that it is saved nicely (might be nice to debounce this).\n",
       "    setTimeout(function () { fig.push_to_output() }, 1000);\n",
       "}\n",
       "\n",
       "mpl.figure.prototype._init_toolbar = function() {\n",
       "    var fig = this;\n",
       "\n",
       "    var nav_element = $('<div/>')\n",
       "    nav_element.attr('style', 'width: 100%');\n",
       "    this.root.append(nav_element);\n",
       "\n",
       "    // Define a callback function for later on.\n",
       "    function toolbar_event(event) {\n",
       "        return fig.toolbar_button_onclick(event['data']);\n",
       "    }\n",
       "    function toolbar_mouse_event(event) {\n",
       "        return fig.toolbar_button_onmouseover(event['data']);\n",
       "    }\n",
       "\n",
       "    for(var toolbar_ind in mpl.toolbar_items){\n",
       "        var name = mpl.toolbar_items[toolbar_ind][0];\n",
       "        var tooltip = mpl.toolbar_items[toolbar_ind][1];\n",
       "        var image = mpl.toolbar_items[toolbar_ind][2];\n",
       "        var method_name = mpl.toolbar_items[toolbar_ind][3];\n",
       "\n",
       "        if (!name) { continue; };\n",
       "\n",
       "        var button = $('<button class=\"btn btn-default\" href=\"#\" title=\"' + name + '\"><i class=\"fa ' + image + ' fa-lg\"></i></button>');\n",
       "        button.click(method_name, toolbar_event);\n",
       "        button.mouseover(tooltip, toolbar_mouse_event);\n",
       "        nav_element.append(button);\n",
       "    }\n",
       "\n",
       "    // Add the status bar.\n",
       "    var status_bar = $('<span class=\"mpl-message\" style=\"text-align:right; float: right;\"/>');\n",
       "    nav_element.append(status_bar);\n",
       "    this.message = status_bar[0];\n",
       "\n",
       "    // Add the close button to the window.\n",
       "    var buttongrp = $('<div class=\"btn-group inline pull-right\"></div>');\n",
       "    var button = $('<button class=\"btn btn-mini btn-primary\" href=\"#\" title=\"Stop Interaction\"><i class=\"fa fa-power-off icon-remove icon-large\"></i></button>');\n",
       "    button.click(function (evt) { fig.handle_close(fig, {}); } );\n",
       "    button.mouseover('Stop Interaction', toolbar_mouse_event);\n",
       "    buttongrp.append(button);\n",
       "    var titlebar = this.root.find($('.ui-dialog-titlebar'));\n",
       "    titlebar.prepend(buttongrp);\n",
       "}\n",
       "\n",
       "mpl.figure.prototype._root_extra_style = function(el){\n",
       "    var fig = this\n",
       "    el.on(\"remove\", function(){\n",
       "\tfig.close_ws(fig, {});\n",
       "    });\n",
       "}\n",
       "\n",
       "mpl.figure.prototype._canvas_extra_style = function(el){\n",
       "    // this is important to make the div 'focusable\n",
       "    el.attr('tabindex', 0)\n",
       "    // reach out to IPython and tell the keyboard manager to turn it's self\n",
       "    // off when our div gets focus\n",
       "\n",
       "    // location in version 3\n",
       "    if (IPython.notebook.keyboard_manager) {\n",
       "        IPython.notebook.keyboard_manager.register_events(el);\n",
       "    }\n",
       "    else {\n",
       "        // location in version 2\n",
       "        IPython.keyboard_manager.register_events(el);\n",
       "    }\n",
       "\n",
       "}\n",
       "\n",
       "mpl.figure.prototype._key_event_extra = function(event, name) {\n",
       "    var manager = IPython.notebook.keyboard_manager;\n",
       "    if (!manager)\n",
       "        manager = IPython.keyboard_manager;\n",
       "\n",
       "    // Check for shift+enter\n",
       "    if (event.shiftKey && event.which == 13) {\n",
       "        this.canvas_div.blur();\n",
       "        event.shiftKey = false;\n",
       "        // Send a \"J\" for go to next cell\n",
       "        event.which = 74;\n",
       "        event.keyCode = 74;\n",
       "        manager.command_mode();\n",
       "        manager.handle_keydown(event);\n",
       "    }\n",
       "}\n",
       "\n",
       "mpl.figure.prototype.handle_save = function(fig, msg) {\n",
       "    fig.ondownload(fig, null);\n",
       "}\n",
       "\n",
       "\n",
       "mpl.find_output_cell = function(html_output) {\n",
       "    // Return the cell and output element which can be found *uniquely* in the notebook.\n",
       "    // Note - this is a bit hacky, but it is done because the \"notebook_saving.Notebook\"\n",
       "    // IPython event is triggered only after the cells have been serialised, which for\n",
       "    // our purposes (turning an active figure into a static one), is too late.\n",
       "    var cells = IPython.notebook.get_cells();\n",
       "    var ncells = cells.length;\n",
       "    for (var i=0; i<ncells; i++) {\n",
       "        var cell = cells[i];\n",
       "        if (cell.cell_type === 'code'){\n",
       "            for (var j=0; j<cell.output_area.outputs.length; j++) {\n",
       "                var data = cell.output_area.outputs[j];\n",
       "                if (data.data) {\n",
       "                    // IPython >= 3 moved mimebundle to data attribute of output\n",
       "                    data = data.data;\n",
       "                }\n",
       "                if (data['text/html'] == html_output) {\n",
       "                    return [cell, data, j];\n",
       "                }\n",
       "            }\n",
       "        }\n",
       "    }\n",
       "}\n",
       "\n",
       "// Register the function which deals with the matplotlib target/channel.\n",
       "// The kernel may be null if the page has been refreshed.\n",
       "if (IPython.notebook.kernel != null) {\n",
       "    IPython.notebook.kernel.comm_manager.register_target('matplotlib', mpl.mpl_figure_comm);\n",
       "}\n"
      ],
      "text/plain": [
       "<IPython.core.display.Javascript object>"
      ]
     },
     "metadata": {},
     "output_type": "display_data"
    },
    {
     "data": {
      "text/html": [
       "<img src=\"data:image/png;base64,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\" width=\"640\">"
      ],
      "text/plain": [
       "<IPython.core.display.HTML object>"
      ]
     },
     "metadata": {},
     "output_type": "display_data"
    },
    {
     "data": {
      "text/plain": [
       "<sympy.plotting.plot.Plot at 0x1635de17518>"
      ]
     },
     "execution_count": 93,
     "metadata": {},
     "output_type": "execute_result"
    }
   ],
   "source": [
    "plot(f)"
   ]
  },
  {
   "cell_type": "code",
   "execution_count": 22,
   "metadata": {},
   "outputs": [
    {
     "name": "stdout",
     "output_type": "stream",
     "text": [
      "720000\n"
     ]
    }
   ],
   "source": [
    "x=600\n",
    "y=1200\n",
    "\n",
    "print(x*y)\n"
   ]
  },
  {
   "cell_type": "markdown",
   "metadata": {},
   "source": [
    "lata de un litro optimizar material"
   ]
  },
  {
   "cell_type": "code",
   "execution_count": 42,
   "metadata": {},
   "outputs": [
    {
     "data": {
      "image/png": "[encoded data removed]",
      "text/latex": [
       "$$\\left [ \\frac{1000}{\\pi r^{2}}\\right ]$$"
      ],
      "text/plain": [
       "⎡1000⎤\n",
       "⎢────⎥\n",
       "⎢   2⎥\n",
       "⎣π⋅r ⎦"
      ]
     },
     "execution_count": 42,
     "metadata": {},
     "output_type": "execute_result"
    }
   ],
   "source": [
    "r, h = var(\"r h\", real=\"True\")\n",
    "A=2*pi*r**2 + 2*pi*r*h\n",
    "eq1=Eq(pi*r**2*h,1000)\n",
    "h_=solve(eq1,h)\n",
    "h_\n"
   ]
  },
  {
   "cell_type": "code",
   "execution_count": 43,
   "metadata": {},
   "outputs": [
    {
     "data": {
      "image/png": "[encoded data removed]",
      "text/latex": [
       "$$2 \\pi r^{2} + \\frac{2000}{r}$$"
      ],
      "text/plain": [
       "     2   2000\n",
       "2⋅π⋅r  + ────\n",
       "          r  "
      ]
     },
     "execution_count": 43,
     "metadata": {},
     "output_type": "execute_result"
    }
   ],
   "source": [
    "f1=A.subs(h,h_[0])\n",
    "f1"
   ]
  },
  {
   "cell_type": "code",
   "execution_count": 44,
   "metadata": {},
   "outputs": [
    {
     "data": {
      "image/png": "[encoded data removed]",
      "text/latex": [
       "$$\\left ( 4 \\pi r - \\frac{2000}{r^{2}}, \\quad 4 \\pi + \\frac{4000}{r^{3}}\\right )$$"
      ],
      "text/plain": [
       "⎛        2000        4000⎞\n",
       "⎜4⋅π⋅r - ────, 4⋅π + ────⎟\n",
       "⎜          2           3 ⎟\n",
       "⎝         r           r  ⎠"
      ]
     },
     "execution_count": 44,
     "metadata": {},
     "output_type": "execute_result"
    }
   ],
   "source": [
    "df1 = f1.diff()\n",
    "ddf1= df1.diff()\n",
    "\n",
    "df1, ddf1"
   ]
  },
  {
   "cell_type": "code",
   "execution_count": 45,
   "metadata": {},
   "outputs": [
    {
     "data": {
      "image/png": "[encoded data removed]",
      "text/latex": [
       "$$\\left [ \\frac{5 \\cdot 2^{\\frac{2}{3}}}{\\sqrt[3]{\\pi}}\\right ]$$"
      ],
      "text/plain": [
       "⎡   2/3⎤\n",
       "⎢5⋅2   ⎥\n",
       "⎢──────⎥\n",
       "⎢3 ___ ⎥\n",
       "⎣╲╱ π  ⎦"
      ]
     },
     "execution_count": 45,
     "metadata": {},
     "output_type": "execute_result"
    }
   ],
   "source": [
    "pc1= solve(df1)\n",
    "pc1"
   ]
  },
  {
   "cell_type": "code",
   "execution_count": 47,
   "metadata": {},
   "outputs": [
    {
     "data": {
      "image/png": "[encoded data removed]",
      "text/latex": [
       "$$5.41926070139289$$"
      ],
      "text/plain": [
       "5.41926070139289"
      ]
     },
     "execution_count": 47,
     "metadata": {},
     "output_type": "execute_result"
    }
   ],
   "source": [
    "N(pc1[0])"
   ]
  },
  {
   "cell_type": "code",
   "execution_count": 48,
   "metadata": {},
   "outputs": [
    {
     "data": {
      "image/png": "[encoded data removed]",
      "text/latex": [
       "$$12 \\pi$$"
      ],
      "text/plain": [
       "12⋅π"
      ]
     },
     "execution_count": 48,
     "metadata": {},
     "output_type": "execute_result"
    }
   ],
   "source": [
    "ddf1.subs(r,pc1[0])"
   ]
  },
  {
   "cell_type": "code",
   "execution_count": 53,
   "metadata": {},
   "outputs": [
    {
     "data": {
      "image/png": "[encoded data removed]",
      "text/latex": [
       "$$50 \\sqrt[3]{2} \\sqrt[3]{\\pi} h = 1000$$"
      ],
      "text/plain": [
       "   3 ___ 3 ___         \n",
       "50⋅╲╱ 2 ⋅╲╱ π ⋅h = 1000"
      ]
     },
     "execution_count": 53,
     "metadata": {},
     "output_type": "execute_result"
    }
   ],
   "source": [
    "eq1.subs(r,pc1[0])\n",
    "      "
   ]
  },
  {
   "cell_type": "code",
   "execution_count": 55,
   "metadata": {},
   "outputs": [
    {
     "data": {
      "image/png": "[encoded data removed]",
      "text/latex": [
       "$$\\frac{10 \\cdot 2^{\\frac{2}{3}}}{\\sqrt[3]{\\pi}}$$"
      ],
      "text/plain": [
       "    2/3\n",
       "10⋅2   \n",
       "───────\n",
       " 3 ___ \n",
       " ╲╱ π  "
      ]
     },
     "execution_count": 55,
     "metadata": {},
     "output_type": "execute_result"
    }
   ],
   "source": [
    "solve(eq1.subs(r,pc1[0]),h)[0]"
   ]
  },
  {
   "cell_type": "code",
   "execution_count": 56,
   "metadata": {},
   "outputs": [
    {
     "data": {
      "image/png": "[encoded data removed]",
      "text/latex": [
       "$$10.8385214027858$$"
      ],
      "text/plain": [
       "10.8385214027858"
      ]
     },
     "execution_count": 56,
     "metadata": {},
     "output_type": "execute_result"
    }
   ],
   "source": [
    "N(solve(eq1.subs(r,pc1[0]),h)[0])"
   ]
  },
  {
   "cell_type": "markdown",
   "metadata": {},
   "source": [
    "f(x,y)= (x^2) + (y^2)"
   ]
  },
  {
   "cell_type": "code",
   "execution_count": 62,
   "metadata": {},
   "outputs": [
    {
     "name": "stdout",
     "output_type": "stream",
     "text": [
      "2*x 2*y\n"
     ]
    }
   ],
   "source": [
    "x, y = var(\"x y\")\n",
    "f=(x**2) + (y**2)\n",
    "dfx=f.diff(x)\n",
    "dfy=f.diff(y)\n",
    "\n",
    "print(dfx, dfy)"
   ]
  },
  {
   "cell_type": "code",
   "execution_count": 65,
   "metadata": {},
   "outputs": [
    {
     "data": {
      "image/png": "[encoded data removed]",
      "text/latex": [
       "$$\\left ( 2 x, \\quad 2 y, \\quad \\left \\{ x : 0, \\quad y : 0\\right \\}\\right )$$"
      ],
      "text/plain": [
       "(2⋅x, 2⋅y, {x: 0, y: 0})"
      ]
     },
     "execution_count": 65,
     "metadata": {},
     "output_type": "execute_result"
    }
   ],
   "source": [
    "pc_xy=solve([dfx, dfy],[x,y])\n",
    "dfx, dfy, pc_xy"
   ]
  },
  {
   "cell_type": "code",
   "execution_count": 70,
   "metadata": {},
   "outputs": [
    {
     "data": {
      "image/png": "[encoded data removed]",
      "text/latex": [
       "$$\\left ( 2, \\quad 0, \\quad 0, \\quad 2\\right )$$"
      ],
      "text/plain": [
       "(2, 0, 0, 2)"
      ]
     },
     "execution_count": 70,
     "metadata": {},
     "output_type": "execute_result"
    }
   ],
   "source": [
    "dfxx=dfx.diff(x)\n",
    "dfxy=dfx.diff(y)\n",
    "dfyx=dfy.diff(x)\n",
    "dfyy=dfy.diff(y)\n",
    "\n",
    "\n",
    "dfxx, dfxy, dfyx, dfyy"
   ]
  },
  {
   "cell_type": "code",
   "execution_count": 71,
   "metadata": {},
   "outputs": [
    {
     "data": {
      "image/png": "[encoded data removed]",
      "text/latex": [
       "$$4$$"
      ],
      "text/plain": [
       "4"
      ]
     },
     "execution_count": 71,
     "metadata": {},
     "output_type": "execute_result"
    }
   ],
   "source": [
    "D=dfxx*dfyy- dfxy**2\n",
    "D"
   ]
  },
  {
   "cell_type": "code",
   "execution_count": 72,
   "metadata": {},
   "outputs": [
    {
     "data": {
      "image/png": "[encoded data removed]",
      "text/latex": [
       "$$2$$"
      ],
      "text/plain": [
       "2"
      ]
     },
     "execution_count": 72,
     "metadata": {},
     "output_type": "execute_result"
    }
   ],
   "source": [
    "dfxx.subs(pc_xy)"
   ]
  },
  {
   "cell_type": "code",
   "execution_count": 73,
   "metadata": {},
   "outputs": [
    {
     "data": {
      "image/png": "[encoded data removed]",
      "text/latex": [
       "$$\\left [ 2 x, \\quad 2 y\\right ]$$"
      ],
      "text/plain": [
       "[2⋅x, 2⋅y]"
      ]
     },
     "execution_count": 73,
     "metadata": {},
     "output_type": "execute_result"
    }
   ],
   "source": [
    "nablaf=[f.diff(var) for var in [x,y]]\n",
    "nablaf"
   ]
  },
  {
   "cell_type": "code",
   "execution_count": 76,
   "metadata": {},
   "outputs": [
    {
     "data": {
      "image/png": "[encoded data removed]",
      "text/latex": [
       "$$\\left \\{ x : 0, \\quad y : 0\\right \\}$$"
      ],
      "text/plain": [
       "{x: 0, y: 0}"
      ]
     },
     "execution_count": 76,
     "metadata": {},
     "output_type": "execute_result"
    }
   ],
   "source": [
    "solve(nablaf)"
   ]
  },
  {
   "cell_type": "code",
   "execution_count": 81,
   "metadata": {},
   "outputs": [
    {
     "data": {
      "image/png": "[encoded data removed]",
      "text/latex": [
       "$$\\left [ \\left [ 2, \\quad 0, \\quad 0, \\quad 2\\right ]\\right ]$$"
      ],
      "text/plain": [
       "[[2, 0, 0, 2]]"
      ]
     },
     "execution_count": 81,
     "metadata": {},
     "output_type": "execute_result"
    }
   ],
   "source": [
    "[[f.diff(varx).diff(vary) for varx in [x,y] for vary in [x,y]]]"
   ]
  },
  {
   "cell_type": "code",
   "execution_count": 82,
   "metadata": {},
   "outputs": [
    {
     "data": {
      "text/latex": [
       "$$\\left[\\begin{matrix}2 & 0\\\\0 & 2\\end{matrix}\\right]$$"
      ],
      "text/plain": [
       "⎡2  0⎤\n",
       "⎢    ⎥\n",
       "⎣0  2⎦"
      ]
     },
     "execution_count": 82,
     "metadata": {},
     "output_type": "execute_result"
    }
   ],
   "source": [
    "H = hessian(f,[x,y])\n",
    "H"
   ]
  },
  {
   "cell_type": "code",
   "execution_count": 83,
   "metadata": {},
   "outputs": [
    {
     "data": {
      "image/png": "[encoded data removed]",
      "text/latex": [
       "$$\\left \\{ 2 : 2\\right \\}$$"
      ],
      "text/plain": [
       "{2: 2}"
      ]
     },
     "execution_count": 83,
     "metadata": {},
     "output_type": "execute_result"
    }
   ],
   "source": [
    "H.eigenvals()"
   ]
  },
  {
   "cell_type": "markdown",
   "metadata": {},
   "source": []
  }
 ],
 "metadata": {
  "kernelspec": {
   "display_name": "Python 3",
   "language": "python",
   "name": "python3"
  },
  "language_info": {
   "codemirror_mode": {
    "name": "ipython",
    "version": 3
   },
   "file_extension": ".py",
   "mimetype": "text/x-python",
   "name": "python",
   "nbconvert_exporter": "python",
   "pygments_lexer": "ipython3",
   "version": "3.7.1"
  }
 },
 "nbformat": 4,
 "nbformat_minor": 2
}
